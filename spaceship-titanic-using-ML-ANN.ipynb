{
 "cells": [
  {
   "cell_type": "markdown",
   "metadata": {
    "collapsed": false
   },
   "source": [
    "# Dataset Description\n",
    "In this competition your task is to predict whether a passenger was transported to an alternate dimension during the Spaceship Titanic's collision with the spacetime anomaly. To help you make these predictions, you're given a set of personal records recovered from the ship's damaged computer system.\n",
    "\n",
    "### File and Data Field Descriptions\n",
    "**train.csv** - Personal records for about two-thirds (~8700) of the passengers, to be used as training data.\n",
    "**PassengerId** - A unique Id for each passenger. Each Id takes the form gggg_pp where gggg indicates a group the passenger is travelling with and pp is their number within the group. People in a group are often family members, but not always.\n",
    "**HomePlanet** - The planet the passenger departed from, typically their planet of permanent residence.\n",
    "**CryoSleep** - Indicates whether the passenger elected to be put into suspended animation for the duration of the voyage. Passengers in cryosleep are confined to their cabins.\n",
    "**Cabin** - The cabin number where the passenger is staying. Takes the form deck/num/side, where side can be either P for Port or S for Starboard.\n",
    "**Destination** - The planet the passenger will be debarking to.\n",
    "**Age** - The age of the passenger.\n",
    "**VIP** - Whether the passenger has paid for special VIP service during the voyage.\n",
    "`RoomService`, `FoodCourt`, `ShoppingMall`, `Spa`, `VRDeck` - Amount the passenger has billed at each of the Spaceship Titanic's many luxury amenities.\n",
    "**Name** - The first and last names of the passenger.\n",
    "**Transported** - Whether the passenger was transported to another dimension. This is the target, the column you are trying to predict.\n",
    "\n",
    "\n",
    "**test.csv** - Personal records for the remaining one-third (~4300) of the passengers, to be used as test data. Your task is to predict the value of Transported for the passengers in this set.\n",
    "\n",
    "**sample_submission.csv** - A submission file in the correct format.\n",
    "`PassengerId` - `Id` for each passenger in the test set.\n",
    "`Transported` - The target. For each passenger, predict either True or False."
   ]
  },
  {
   "attachments": {},
   "cell_type": "markdown",
   "metadata": {
    "collapsed": false
   },
   "source": [
    "### Planning\n",
    "\n",
    "I am going to trying out various ML algorithms using [lazypredict](https://lazypredict.readthedocs.io/en/latest/usage.html#classification) and find the best algorithm and fine tune it\n",
    "- fine tune the best performing model with grid search cv  \n",
    "\n",
    "Approaching problem using Deep learning\n",
    "- ANN (hypertune)\n",
    "\n",
    "- Find best performing algorithm from ML and DL and submit the results"
   ]
  },
  {
   "cell_type": "markdown",
   "metadata": {
    "collapsed": false
   },
   "source": [
    "Imports required libs/modules"
   ]
  },
  {
   "cell_type": "code",
   "execution_count": 121,
   "metadata": {
    "collapsed": true
   },
   "outputs": [],
   "source": [
    "import opendatasets as od\n",
    "import pandas as pd\n",
    "import os"
   ]
  },
  {
   "cell_type": "markdown",
   "metadata": {
    "collapsed": false
   },
   "source": [
    "## 1. Download the Dataset\n",
    "- Install required libraries\n",
    "- Download data from Kaggle\n",
    "- View dataset files\n",
    "- Load training set with Pandas\n",
    "- Load test set with Pandas\n",
    "Dataset link: [Spaceship Titanic](https://www.kaggle.com/competitions/spaceship-titanic/data)"
   ]
  },
  {
   "cell_type": "markdown",
   "metadata": {
    "collapsed": false
   },
   "source": [
    "Download Data from Kaggle\n",
    "We'll use the [opendatasets](https://github.com/JovianML/opendatasets) library"
   ]
  },
  {
   "cell_type": "code",
   "execution_count": 122,
   "metadata": {
    "collapsed": false
   },
   "outputs": [],
   "source": [
    "dataset_url = 'https://www.kaggle.com/competitions/spaceship-titanic/data'\n",
    "data_dir = './spaceship-titanic'\n",
    "if not os.path.exists(data_dir):\n",
    "    od.download(dataset_url)"
   ]
  },
  {
   "cell_type": "markdown",
   "metadata": {
    "collapsed": false
   },
   "source": [
    "## Loading Training Set and Test Set"
   ]
  },
  {
   "cell_type": "code",
   "execution_count": 123,
   "metadata": {
    "collapsed": false
   },
   "outputs": [],
   "source": [
    "spaceship_titanic_df = pd.read_csv(f'{data_dir}/train.csv')\n",
    "spaceship_titanic_test_df = pd.read_csv(f'{data_dir}/test.csv')"
   ]
  },
  {
   "cell_type": "code",
   "execution_count": 124,
   "metadata": {
    "collapsed": false
   },
   "outputs": [
    {
     "name": "stdout",
     "output_type": "stream",
     "text": [
      "<class 'pandas.core.frame.DataFrame'>\n",
      "RangeIndex: 8693 entries, 0 to 8692\n",
      "Data columns (total 14 columns):\n",
      " #   Column        Non-Null Count  Dtype  \n",
      "---  ------        --------------  -----  \n",
      " 0   PassengerId   8693 non-null   object \n",
      " 1   HomePlanet    8492 non-null   object \n",
      " 2   CryoSleep     8476 non-null   object \n",
      " 3   Cabin         8494 non-null   object \n",
      " 4   Destination   8511 non-null   object \n",
      " 5   Age           8514 non-null   float64\n",
      " 6   VIP           8490 non-null   object \n",
      " 7   RoomService   8512 non-null   float64\n",
      " 8   FoodCourt     8510 non-null   float64\n",
      " 9   ShoppingMall  8485 non-null   float64\n",
      " 10  Spa           8510 non-null   float64\n",
      " 11  VRDeck        8505 non-null   float64\n",
      " 12  Name          8493 non-null   object \n",
      " 13  Transported   8693 non-null   bool   \n",
      "dtypes: bool(1), float64(6), object(7)\n",
      "memory usage: 891.5+ KB\n"
     ]
    }
   ],
   "source": [
    "spaceship_titanic_df.info()"
   ]
  },
  {
   "cell_type": "code",
   "execution_count": 125,
   "metadata": {
    "collapsed": false
   },
   "outputs": [
    {
     "data": {
      "text/html": [
       "<div>\n",
       "<style scoped>\n",
       "    .dataframe tbody tr th:only-of-type {\n",
       "        vertical-align: middle;\n",
       "    }\n",
       "\n",
       "    .dataframe tbody tr th {\n",
       "        vertical-align: top;\n",
       "    }\n",
       "\n",
       "    .dataframe thead th {\n",
       "        text-align: right;\n",
       "    }\n",
       "</style>\n",
       "<table border=\"1\" class=\"dataframe\">\n",
       "  <thead>\n",
       "    <tr style=\"text-align: right;\">\n",
       "      <th></th>\n",
       "      <th>Age</th>\n",
       "      <th>RoomService</th>\n",
       "      <th>FoodCourt</th>\n",
       "      <th>ShoppingMall</th>\n",
       "      <th>Spa</th>\n",
       "      <th>VRDeck</th>\n",
       "    </tr>\n",
       "  </thead>\n",
       "  <tbody>\n",
       "    <tr>\n",
       "      <th>count</th>\n",
       "      <td>8514.000000</td>\n",
       "      <td>8512.000000</td>\n",
       "      <td>8510.000000</td>\n",
       "      <td>8485.000000</td>\n",
       "      <td>8510.000000</td>\n",
       "      <td>8505.000000</td>\n",
       "    </tr>\n",
       "    <tr>\n",
       "      <th>mean</th>\n",
       "      <td>28.827930</td>\n",
       "      <td>224.687617</td>\n",
       "      <td>458.077203</td>\n",
       "      <td>173.729169</td>\n",
       "      <td>311.138778</td>\n",
       "      <td>304.854791</td>\n",
       "    </tr>\n",
       "    <tr>\n",
       "      <th>std</th>\n",
       "      <td>14.489021</td>\n",
       "      <td>666.717663</td>\n",
       "      <td>1611.489240</td>\n",
       "      <td>604.696458</td>\n",
       "      <td>1136.705535</td>\n",
       "      <td>1145.717189</td>\n",
       "    </tr>\n",
       "    <tr>\n",
       "      <th>min</th>\n",
       "      <td>0.000000</td>\n",
       "      <td>0.000000</td>\n",
       "      <td>0.000000</td>\n",
       "      <td>0.000000</td>\n",
       "      <td>0.000000</td>\n",
       "      <td>0.000000</td>\n",
       "    </tr>\n",
       "    <tr>\n",
       "      <th>25%</th>\n",
       "      <td>19.000000</td>\n",
       "      <td>0.000000</td>\n",
       "      <td>0.000000</td>\n",
       "      <td>0.000000</td>\n",
       "      <td>0.000000</td>\n",
       "      <td>0.000000</td>\n",
       "    </tr>\n",
       "    <tr>\n",
       "      <th>50%</th>\n",
       "      <td>27.000000</td>\n",
       "      <td>0.000000</td>\n",
       "      <td>0.000000</td>\n",
       "      <td>0.000000</td>\n",
       "      <td>0.000000</td>\n",
       "      <td>0.000000</td>\n",
       "    </tr>\n",
       "    <tr>\n",
       "      <th>75%</th>\n",
       "      <td>38.000000</td>\n",
       "      <td>47.000000</td>\n",
       "      <td>76.000000</td>\n",
       "      <td>27.000000</td>\n",
       "      <td>59.000000</td>\n",
       "      <td>46.000000</td>\n",
       "    </tr>\n",
       "    <tr>\n",
       "      <th>max</th>\n",
       "      <td>79.000000</td>\n",
       "      <td>14327.000000</td>\n",
       "      <td>29813.000000</td>\n",
       "      <td>23492.000000</td>\n",
       "      <td>22408.000000</td>\n",
       "      <td>24133.000000</td>\n",
       "    </tr>\n",
       "  </tbody>\n",
       "</table>\n",
       "</div>"
      ],
      "text/plain": [
       "               Age   RoomService     FoodCourt  ShoppingMall           Spa  \\\n",
       "count  8514.000000   8512.000000   8510.000000   8485.000000   8510.000000   \n",
       "mean     28.827930    224.687617    458.077203    173.729169    311.138778   \n",
       "std      14.489021    666.717663   1611.489240    604.696458   1136.705535   \n",
       "min       0.000000      0.000000      0.000000      0.000000      0.000000   \n",
       "25%      19.000000      0.000000      0.000000      0.000000      0.000000   \n",
       "50%      27.000000      0.000000      0.000000      0.000000      0.000000   \n",
       "75%      38.000000     47.000000     76.000000     27.000000     59.000000   \n",
       "max      79.000000  14327.000000  29813.000000  23492.000000  22408.000000   \n",
       "\n",
       "             VRDeck  \n",
       "count   8505.000000  \n",
       "mean     304.854791  \n",
       "std     1145.717189  \n",
       "min        0.000000  \n",
       "25%        0.000000  \n",
       "50%        0.000000  \n",
       "75%       46.000000  \n",
       "max    24133.000000  "
      ]
     },
     "execution_count": 125,
     "metadata": {},
     "output_type": "execute_result"
    }
   ],
   "source": [
    "spaceship_titanic_df.describe()"
   ]
  },
  {
   "cell_type": "markdown",
   "metadata": {
    "collapsed": false
   },
   "source": [
    "## Exploratory Data Analysis"
   ]
  },
  {
   "cell_type": "code",
   "execution_count": 126,
   "metadata": {
    "collapsed": false
   },
   "outputs": [],
   "source": [
    "import plotly.express as px\n",
    "import matplotlib.pyplot as plt"
   ]
  },
  {
   "cell_type": "code",
   "execution_count": 127,
   "metadata": {
    "collapsed": false
   },
   "outputs": [
    {
     "data": {
      "text/plain": [
       "Index(['PassengerId', 'HomePlanet', 'CryoSleep', 'Cabin', 'Destination', 'Age',\n",
       "       'VIP', 'RoomService', 'FoodCourt', 'ShoppingMall', 'Spa', 'VRDeck',\n",
       "       'Name', 'Transported'],\n",
       "      dtype='object')"
      ]
     },
     "execution_count": 127,
     "metadata": {},
     "output_type": "execute_result"
    }
   ],
   "source": [
    "spaceship_titanic_df.columns"
   ]
  },
  {
   "attachments": {},
   "cell_type": "markdown",
   "metadata": {},
   "source": [
    "### Data"
   ]
  },
  {
   "attachments": {},
   "cell_type": "markdown",
   "metadata": {},
   "source": [
    "#### Finding missing values"
   ]
  },
  {
   "cell_type": "code",
   "execution_count": 128,
   "metadata": {},
   "outputs": [],
   "source": [
    "import plotly.express as px\n",
    "from plotly.subplots import make_subplots\n",
    "import plotly.graph_objects as go"
   ]
  },
  {
   "cell_type": "code",
   "execution_count": 129,
   "metadata": {},
   "outputs": [
    {
     "data": {
      "text/plain": [
       "PassengerId       0\n",
       "Transported       0\n",
       "Age             179\n",
       "RoomService     181\n",
       "Destination     182\n",
       "FoodCourt       183\n",
       "Spa             183\n",
       "VRDeck          188\n",
       "Cabin           199\n",
       "Name            200\n",
       "HomePlanet      201\n",
       "VIP             203\n",
       "ShoppingMall    208\n",
       "CryoSleep       217\n",
       "dtype: int64"
      ]
     },
     "execution_count": 129,
     "metadata": {},
     "output_type": "execute_result"
    }
   ],
   "source": [
    "train_missing_data = spaceship_titanic_df.isna().sum().sort_values()\n",
    "train_missing_data"
   ]
  },
  {
   "cell_type": "code",
   "execution_count": 130,
   "metadata": {},
   "outputs": [],
   "source": [
    "test_missing_data = spaceship_titanic_test_df.isna().sum().sort_values()"
   ]
  },
  {
   "cell_type": "code",
   "execution_count": 131,
   "metadata": {},
   "outputs": [
    {
     "data": {
      "application/vnd.plotly.v1+json": {
       "config": {
        "plotlyServerURL": "https://plot.ly"
       },
       "data": [
        {
         "orientation": "h",
         "type": "bar",
         "x": [
          0,
          0,
          179,
          181,
          182,
          183,
          183,
          188,
          199,
          200,
          201,
          203,
          208,
          217
         ],
         "xaxis": "x",
         "y": [
          "PassengerId",
          "Transported",
          "Age",
          "RoomService",
          "Destination",
          "FoodCourt",
          "Spa",
          "VRDeck",
          "Cabin",
          "Name",
          "HomePlanet",
          "VIP",
          "ShoppingMall",
          "CryoSleep"
         ],
         "yaxis": "y"
        },
        {
         "orientation": "h",
         "type": "bar",
         "x": [
          0,
          80,
          82,
          87,
          91,
          92,
          93,
          93,
          94,
          98,
          100,
          101,
          106
         ],
         "xaxis": "x2",
         "y": [
          "PassengerId",
          "VRDeck",
          "RoomService",
          "HomePlanet",
          "Age",
          "Destination",
          "CryoSleep",
          "VIP",
          "Name",
          "ShoppingMall",
          "Cabin",
          "Spa",
          "FoodCourt"
         ],
         "yaxis": "y2"
        }
       ],
       "layout": {
        "annotations": [
         {
          "font": {
           "size": 16
          },
          "showarrow": false,
          "text": "Train Data",
          "x": 0.225,
          "xanchor": "center",
          "xref": "paper",
          "y": 1,
          "yanchor": "bottom",
          "yref": "paper"
         },
         {
          "font": {
           "size": 16
          },
          "showarrow": false,
          "text": "Test Data",
          "x": 0.775,
          "xanchor": "center",
          "xref": "paper",
          "y": 1,
          "yanchor": "bottom",
          "yref": "paper"
         },
         {
          "font": {
           "size": 16
          },
          "showarrow": false,
          "text": "Missing Values",
          "x": 0.5,
          "xanchor": "center",
          "xref": "paper",
          "y": 0,
          "yanchor": "top",
          "yref": "paper",
          "yshift": -30
         }
        ],
        "showlegend": false,
        "template": {
         "data": {
          "bar": [
           {
            "error_x": {
             "color": "#2a3f5f"
            },
            "error_y": {
             "color": "#2a3f5f"
            },
            "marker": {
             "line": {
              "color": "#E5ECF6",
              "width": 0.5
             },
             "pattern": {
              "fillmode": "overlay",
              "size": 10,
              "solidity": 0.2
             }
            },
            "type": "bar"
           }
          ],
          "barpolar": [
           {
            "marker": {
             "line": {
              "color": "#E5ECF6",
              "width": 0.5
             },
             "pattern": {
              "fillmode": "overlay",
              "size": 10,
              "solidity": 0.2
             }
            },
            "type": "barpolar"
           }
          ],
          "carpet": [
           {
            "aaxis": {
             "endlinecolor": "#2a3f5f",
             "gridcolor": "white",
             "linecolor": "white",
             "minorgridcolor": "white",
             "startlinecolor": "#2a3f5f"
            },
            "baxis": {
             "endlinecolor": "#2a3f5f",
             "gridcolor": "white",
             "linecolor": "white",
             "minorgridcolor": "white",
             "startlinecolor": "#2a3f5f"
            },
            "type": "carpet"
           }
          ],
          "choropleth": [
           {
            "colorbar": {
             "outlinewidth": 0,
             "ticks": ""
            },
            "type": "choropleth"
           }
          ],
          "contour": [
           {
            "colorbar": {
             "outlinewidth": 0,
             "ticks": ""
            },
            "colorscale": [
             [
              0,
              "#0d0887"
             ],
             [
              0.1111111111111111,
              "#46039f"
             ],
             [
              0.2222222222222222,
              "#7201a8"
             ],
             [
              0.3333333333333333,
              "#9c179e"
             ],
             [
              0.4444444444444444,
              "#bd3786"
             ],
             [
              0.5555555555555556,
              "#d8576b"
             ],
             [
              0.6666666666666666,
              "#ed7953"
             ],
             [
              0.7777777777777778,
              "#fb9f3a"
             ],
             [
              0.8888888888888888,
              "#fdca26"
             ],
             [
              1,
              "#f0f921"
             ]
            ],
            "type": "contour"
           }
          ],
          "contourcarpet": [
           {
            "colorbar": {
             "outlinewidth": 0,
             "ticks": ""
            },
            "type": "contourcarpet"
           }
          ],
          "heatmap": [
           {
            "colorbar": {
             "outlinewidth": 0,
             "ticks": ""
            },
            "colorscale": [
             [
              0,
              "#0d0887"
             ],
             [
              0.1111111111111111,
              "#46039f"
             ],
             [
              0.2222222222222222,
              "#7201a8"
             ],
             [
              0.3333333333333333,
              "#9c179e"
             ],
             [
              0.4444444444444444,
              "#bd3786"
             ],
             [
              0.5555555555555556,
              "#d8576b"
             ],
             [
              0.6666666666666666,
              "#ed7953"
             ],
             [
              0.7777777777777778,
              "#fb9f3a"
             ],
             [
              0.8888888888888888,
              "#fdca26"
             ],
             [
              1,
              "#f0f921"
             ]
            ],
            "type": "heatmap"
           }
          ],
          "heatmapgl": [
           {
            "colorbar": {
             "outlinewidth": 0,
             "ticks": ""
            },
            "colorscale": [
             [
              0,
              "#0d0887"
             ],
             [
              0.1111111111111111,
              "#46039f"
             ],
             [
              0.2222222222222222,
              "#7201a8"
             ],
             [
              0.3333333333333333,
              "#9c179e"
             ],
             [
              0.4444444444444444,
              "#bd3786"
             ],
             [
              0.5555555555555556,
              "#d8576b"
             ],
             [
              0.6666666666666666,
              "#ed7953"
             ],
             [
              0.7777777777777778,
              "#fb9f3a"
             ],
             [
              0.8888888888888888,
              "#fdca26"
             ],
             [
              1,
              "#f0f921"
             ]
            ],
            "type": "heatmapgl"
           }
          ],
          "histogram": [
           {
            "marker": {
             "pattern": {
              "fillmode": "overlay",
              "size": 10,
              "solidity": 0.2
             }
            },
            "type": "histogram"
           }
          ],
          "histogram2d": [
           {
            "colorbar": {
             "outlinewidth": 0,
             "ticks": ""
            },
            "colorscale": [
             [
              0,
              "#0d0887"
             ],
             [
              0.1111111111111111,
              "#46039f"
             ],
             [
              0.2222222222222222,
              "#7201a8"
             ],
             [
              0.3333333333333333,
              "#9c179e"
             ],
             [
              0.4444444444444444,
              "#bd3786"
             ],
             [
              0.5555555555555556,
              "#d8576b"
             ],
             [
              0.6666666666666666,
              "#ed7953"
             ],
             [
              0.7777777777777778,
              "#fb9f3a"
             ],
             [
              0.8888888888888888,
              "#fdca26"
             ],
             [
              1,
              "#f0f921"
             ]
            ],
            "type": "histogram2d"
           }
          ],
          "histogram2dcontour": [
           {
            "colorbar": {
             "outlinewidth": 0,
             "ticks": ""
            },
            "colorscale": [
             [
              0,
              "#0d0887"
             ],
             [
              0.1111111111111111,
              "#46039f"
             ],
             [
              0.2222222222222222,
              "#7201a8"
             ],
             [
              0.3333333333333333,
              "#9c179e"
             ],
             [
              0.4444444444444444,
              "#bd3786"
             ],
             [
              0.5555555555555556,
              "#d8576b"
             ],
             [
              0.6666666666666666,
              "#ed7953"
             ],
             [
              0.7777777777777778,
              "#fb9f3a"
             ],
             [
              0.8888888888888888,
              "#fdca26"
             ],
             [
              1,
              "#f0f921"
             ]
            ],
            "type": "histogram2dcontour"
           }
          ],
          "mesh3d": [
           {
            "colorbar": {
             "outlinewidth": 0,
             "ticks": ""
            },
            "type": "mesh3d"
           }
          ],
          "parcoords": [
           {
            "line": {
             "colorbar": {
              "outlinewidth": 0,
              "ticks": ""
             }
            },
            "type": "parcoords"
           }
          ],
          "pie": [
           {
            "automargin": true,
            "type": "pie"
           }
          ],
          "scatter": [
           {
            "fillpattern": {
             "fillmode": "overlay",
             "size": 10,
             "solidity": 0.2
            },
            "type": "scatter"
           }
          ],
          "scatter3d": [
           {
            "line": {
             "colorbar": {
              "outlinewidth": 0,
              "ticks": ""
             }
            },
            "marker": {
             "colorbar": {
              "outlinewidth": 0,
              "ticks": ""
             }
            },
            "type": "scatter3d"
           }
          ],
          "scattercarpet": [
           {
            "marker": {
             "colorbar": {
              "outlinewidth": 0,
              "ticks": ""
             }
            },
            "type": "scattercarpet"
           }
          ],
          "scattergeo": [
           {
            "marker": {
             "colorbar": {
              "outlinewidth": 0,
              "ticks": ""
             }
            },
            "type": "scattergeo"
           }
          ],
          "scattergl": [
           {
            "marker": {
             "colorbar": {
              "outlinewidth": 0,
              "ticks": ""
             }
            },
            "type": "scattergl"
           }
          ],
          "scattermapbox": [
           {
            "marker": {
             "colorbar": {
              "outlinewidth": 0,
              "ticks": ""
             }
            },
            "type": "scattermapbox"
           }
          ],
          "scatterpolar": [
           {
            "marker": {
             "colorbar": {
              "outlinewidth": 0,
              "ticks": ""
             }
            },
            "type": "scatterpolar"
           }
          ],
          "scatterpolargl": [
           {
            "marker": {
             "colorbar": {
              "outlinewidth": 0,
              "ticks": ""
             }
            },
            "type": "scatterpolargl"
           }
          ],
          "scatterternary": [
           {
            "marker": {
             "colorbar": {
              "outlinewidth": 0,
              "ticks": ""
             }
            },
            "type": "scatterternary"
           }
          ],
          "surface": [
           {
            "colorbar": {
             "outlinewidth": 0,
             "ticks": ""
            },
            "colorscale": [
             [
              0,
              "#0d0887"
             ],
             [
              0.1111111111111111,
              "#46039f"
             ],
             [
              0.2222222222222222,
              "#7201a8"
             ],
             [
              0.3333333333333333,
              "#9c179e"
             ],
             [
              0.4444444444444444,
              "#bd3786"
             ],
             [
              0.5555555555555556,
              "#d8576b"
             ],
             [
              0.6666666666666666,
              "#ed7953"
             ],
             [
              0.7777777777777778,
              "#fb9f3a"
             ],
             [
              0.8888888888888888,
              "#fdca26"
             ],
             [
              1,
              "#f0f921"
             ]
            ],
            "type": "surface"
           }
          ],
          "table": [
           {
            "cells": {
             "fill": {
              "color": "#EBF0F8"
             },
             "line": {
              "color": "white"
             }
            },
            "header": {
             "fill": {
              "color": "#C8D4E3"
             },
             "line": {
              "color": "white"
             }
            },
            "type": "table"
           }
          ]
         },
         "layout": {
          "annotationdefaults": {
           "arrowcolor": "#2a3f5f",
           "arrowhead": 0,
           "arrowwidth": 1
          },
          "autotypenumbers": "strict",
          "coloraxis": {
           "colorbar": {
            "outlinewidth": 0,
            "ticks": ""
           }
          },
          "colorscale": {
           "diverging": [
            [
             0,
             "#8e0152"
            ],
            [
             0.1,
             "#c51b7d"
            ],
            [
             0.2,
             "#de77ae"
            ],
            [
             0.3,
             "#f1b6da"
            ],
            [
             0.4,
             "#fde0ef"
            ],
            [
             0.5,
             "#f7f7f7"
            ],
            [
             0.6,
             "#e6f5d0"
            ],
            [
             0.7,
             "#b8e186"
            ],
            [
             0.8,
             "#7fbc41"
            ],
            [
             0.9,
             "#4d9221"
            ],
            [
             1,
             "#276419"
            ]
           ],
           "sequential": [
            [
             0,
             "#0d0887"
            ],
            [
             0.1111111111111111,
             "#46039f"
            ],
            [
             0.2222222222222222,
             "#7201a8"
            ],
            [
             0.3333333333333333,
             "#9c179e"
            ],
            [
             0.4444444444444444,
             "#bd3786"
            ],
            [
             0.5555555555555556,
             "#d8576b"
            ],
            [
             0.6666666666666666,
             "#ed7953"
            ],
            [
             0.7777777777777778,
             "#fb9f3a"
            ],
            [
             0.8888888888888888,
             "#fdca26"
            ],
            [
             1,
             "#f0f921"
            ]
           ],
           "sequentialminus": [
            [
             0,
             "#0d0887"
            ],
            [
             0.1111111111111111,
             "#46039f"
            ],
            [
             0.2222222222222222,
             "#7201a8"
            ],
            [
             0.3333333333333333,
             "#9c179e"
            ],
            [
             0.4444444444444444,
             "#bd3786"
            ],
            [
             0.5555555555555556,
             "#d8576b"
            ],
            [
             0.6666666666666666,
             "#ed7953"
            ],
            [
             0.7777777777777778,
             "#fb9f3a"
            ],
            [
             0.8888888888888888,
             "#fdca26"
            ],
            [
             1,
             "#f0f921"
            ]
           ]
          },
          "colorway": [
           "#636efa",
           "#EF553B",
           "#00cc96",
           "#ab63fa",
           "#FFA15A",
           "#19d3f3",
           "#FF6692",
           "#B6E880",
           "#FF97FF",
           "#FECB52"
          ],
          "font": {
           "color": "#2a3f5f"
          },
          "geo": {
           "bgcolor": "white",
           "lakecolor": "white",
           "landcolor": "#E5ECF6",
           "showlakes": true,
           "showland": true,
           "subunitcolor": "white"
          },
          "hoverlabel": {
           "align": "left"
          },
          "hovermode": "closest",
          "mapbox": {
           "style": "light"
          },
          "paper_bgcolor": "white",
          "plot_bgcolor": "#E5ECF6",
          "polar": {
           "angularaxis": {
            "gridcolor": "white",
            "linecolor": "white",
            "ticks": ""
           },
           "bgcolor": "#E5ECF6",
           "radialaxis": {
            "gridcolor": "white",
            "linecolor": "white",
            "ticks": ""
           }
          },
          "scene": {
           "xaxis": {
            "backgroundcolor": "#E5ECF6",
            "gridcolor": "white",
            "gridwidth": 2,
            "linecolor": "white",
            "showbackground": true,
            "ticks": "",
            "zerolinecolor": "white"
           },
           "yaxis": {
            "backgroundcolor": "#E5ECF6",
            "gridcolor": "white",
            "gridwidth": 2,
            "linecolor": "white",
            "showbackground": true,
            "ticks": "",
            "zerolinecolor": "white"
           },
           "zaxis": {
            "backgroundcolor": "#E5ECF6",
            "gridcolor": "white",
            "gridwidth": 2,
            "linecolor": "white",
            "showbackground": true,
            "ticks": "",
            "zerolinecolor": "white"
           }
          },
          "shapedefaults": {
           "line": {
            "color": "#2a3f5f"
           }
          },
          "ternary": {
           "aaxis": {
            "gridcolor": "white",
            "linecolor": "white",
            "ticks": ""
           },
           "baxis": {
            "gridcolor": "white",
            "linecolor": "white",
            "ticks": ""
           },
           "bgcolor": "#E5ECF6",
           "caxis": {
            "gridcolor": "white",
            "linecolor": "white",
            "ticks": ""
           }
          },
          "title": {
           "x": 0.05
          },
          "xaxis": {
           "automargin": true,
           "gridcolor": "white",
           "linecolor": "white",
           "ticks": "",
           "title": {
            "standoff": 15
           },
           "zerolinecolor": "white",
           "zerolinewidth": 2
          },
          "yaxis": {
           "automargin": true,
           "gridcolor": "white",
           "linecolor": "white",
           "ticks": "",
           "title": {
            "standoff": 15
           },
           "zerolinecolor": "white",
           "zerolinewidth": 2
          }
         }
        },
        "title": {
         "text": "Row wise Null Value Distribution",
         "x": 0.5
        },
        "xaxis": {
         "anchor": "y",
         "domain": [
          0,
          0.45
         ]
        },
        "xaxis2": {
         "anchor": "y2",
         "domain": [
          0.55,
          1
         ]
        },
        "yaxis": {
         "anchor": "x",
         "domain": [
          0,
          1
         ]
        },
        "yaxis2": {
         "anchor": "x2",
         "domain": [
          0,
          1
         ]
        }
       }
      },
      "text/html": [
       "<div>                            <div id=\"442aa1ed-8f73-4e3a-a82e-b09b03d7aea4\" class=\"plotly-graph-div\" style=\"height:525px; width:100%;\"></div>            <script type=\"text/javascript\">                require([\"plotly\"], function(Plotly) {                    window.PLOTLYENV=window.PLOTLYENV || {};                                    if (document.getElementById(\"442aa1ed-8f73-4e3a-a82e-b09b03d7aea4\")) {                    Plotly.newPlot(                        \"442aa1ed-8f73-4e3a-a82e-b09b03d7aea4\",                        [{\"orientation\":\"h\",\"x\":[0,0,179,181,182,183,183,188,199,200,201,203,208,217],\"y\":[\"PassengerId\",\"Transported\",\"Age\",\"RoomService\",\"Destination\",\"FoodCourt\",\"Spa\",\"VRDeck\",\"Cabin\",\"Name\",\"HomePlanet\",\"VIP\",\"ShoppingMall\",\"CryoSleep\"],\"type\":\"bar\",\"xaxis\":\"x\",\"yaxis\":\"y\"},{\"orientation\":\"h\",\"x\":[0,80,82,87,91,92,93,93,94,98,100,101,106],\"y\":[\"PassengerId\",\"VRDeck\",\"RoomService\",\"HomePlanet\",\"Age\",\"Destination\",\"CryoSleep\",\"VIP\",\"Name\",\"ShoppingMall\",\"Cabin\",\"Spa\",\"FoodCourt\"],\"type\":\"bar\",\"xaxis\":\"x2\",\"yaxis\":\"y2\"}],                        {\"template\":{\"data\":{\"histogram2dcontour\":[{\"type\":\"histogram2dcontour\",\"colorbar\":{\"outlinewidth\":0,\"ticks\":\"\"},\"colorscale\":[[0.0,\"#0d0887\"],[0.1111111111111111,\"#46039f\"],[0.2222222222222222,\"#7201a8\"],[0.3333333333333333,\"#9c179e\"],[0.4444444444444444,\"#bd3786\"],[0.5555555555555556,\"#d8576b\"],[0.6666666666666666,\"#ed7953\"],[0.7777777777777778,\"#fb9f3a\"],[0.8888888888888888,\"#fdca26\"],[1.0,\"#f0f921\"]]}],\"choropleth\":[{\"type\":\"choropleth\",\"colorbar\":{\"outlinewidth\":0,\"ticks\":\"\"}}],\"histogram2d\":[{\"type\":\"histogram2d\",\"colorbar\":{\"outlinewidth\":0,\"ticks\":\"\"},\"colorscale\":[[0.0,\"#0d0887\"],[0.1111111111111111,\"#46039f\"],[0.2222222222222222,\"#7201a8\"],[0.3333333333333333,\"#9c179e\"],[0.4444444444444444,\"#bd3786\"],[0.5555555555555556,\"#d8576b\"],[0.6666666666666666,\"#ed7953\"],[0.7777777777777778,\"#fb9f3a\"],[0.8888888888888888,\"#fdca26\"],[1.0,\"#f0f921\"]]}],\"heatmap\":[{\"type\":\"heatmap\",\"colorbar\":{\"outlinewidth\":0,\"ticks\":\"\"},\"colorscale\":[[0.0,\"#0d0887\"],[0.1111111111111111,\"#46039f\"],[0.2222222222222222,\"#7201a8\"],[0.3333333333333333,\"#9c179e\"],[0.4444444444444444,\"#bd3786\"],[0.5555555555555556,\"#d8576b\"],[0.6666666666666666,\"#ed7953\"],[0.7777777777777778,\"#fb9f3a\"],[0.8888888888888888,\"#fdca26\"],[1.0,\"#f0f921\"]]}],\"heatmapgl\":[{\"type\":\"heatmapgl\",\"colorbar\":{\"outlinewidth\":0,\"ticks\":\"\"},\"colorscale\":[[0.0,\"#0d0887\"],[0.1111111111111111,\"#46039f\"],[0.2222222222222222,\"#7201a8\"],[0.3333333333333333,\"#9c179e\"],[0.4444444444444444,\"#bd3786\"],[0.5555555555555556,\"#d8576b\"],[0.6666666666666666,\"#ed7953\"],[0.7777777777777778,\"#fb9f3a\"],[0.8888888888888888,\"#fdca26\"],[1.0,\"#f0f921\"]]}],\"contourcarpet\":[{\"type\":\"contourcarpet\",\"colorbar\":{\"outlinewidth\":0,\"ticks\":\"\"}}],\"contour\":[{\"type\":\"contour\",\"colorbar\":{\"outlinewidth\":0,\"ticks\":\"\"},\"colorscale\":[[0.0,\"#0d0887\"],[0.1111111111111111,\"#46039f\"],[0.2222222222222222,\"#7201a8\"],[0.3333333333333333,\"#9c179e\"],[0.4444444444444444,\"#bd3786\"],[0.5555555555555556,\"#d8576b\"],[0.6666666666666666,\"#ed7953\"],[0.7777777777777778,\"#fb9f3a\"],[0.8888888888888888,\"#fdca26\"],[1.0,\"#f0f921\"]]}],\"surface\":[{\"type\":\"surface\",\"colorbar\":{\"outlinewidth\":0,\"ticks\":\"\"},\"colorscale\":[[0.0,\"#0d0887\"],[0.1111111111111111,\"#46039f\"],[0.2222222222222222,\"#7201a8\"],[0.3333333333333333,\"#9c179e\"],[0.4444444444444444,\"#bd3786\"],[0.5555555555555556,\"#d8576b\"],[0.6666666666666666,\"#ed7953\"],[0.7777777777777778,\"#fb9f3a\"],[0.8888888888888888,\"#fdca26\"],[1.0,\"#f0f921\"]]}],\"mesh3d\":[{\"type\":\"mesh3d\",\"colorbar\":{\"outlinewidth\":0,\"ticks\":\"\"}}],\"scatter\":[{\"fillpattern\":{\"fillmode\":\"overlay\",\"size\":10,\"solidity\":0.2},\"type\":\"scatter\"}],\"parcoords\":[{\"type\":\"parcoords\",\"line\":{\"colorbar\":{\"outlinewidth\":0,\"ticks\":\"\"}}}],\"scatterpolargl\":[{\"type\":\"scatterpolargl\",\"marker\":{\"colorbar\":{\"outlinewidth\":0,\"ticks\":\"\"}}}],\"bar\":[{\"error_x\":{\"color\":\"#2a3f5f\"},\"error_y\":{\"color\":\"#2a3f5f\"},\"marker\":{\"line\":{\"color\":\"#E5ECF6\",\"width\":0.5},\"pattern\":{\"fillmode\":\"overlay\",\"size\":10,\"solidity\":0.2}},\"type\":\"bar\"}],\"scattergeo\":[{\"type\":\"scattergeo\",\"marker\":{\"colorbar\":{\"outlinewidth\":0,\"ticks\":\"\"}}}],\"scatterpolar\":[{\"type\":\"scatterpolar\",\"marker\":{\"colorbar\":{\"outlinewidth\":0,\"ticks\":\"\"}}}],\"histogram\":[{\"marker\":{\"pattern\":{\"fillmode\":\"overlay\",\"size\":10,\"solidity\":0.2}},\"type\":\"histogram\"}],\"scattergl\":[{\"type\":\"scattergl\",\"marker\":{\"colorbar\":{\"outlinewidth\":0,\"ticks\":\"\"}}}],\"scatter3d\":[{\"type\":\"scatter3d\",\"line\":{\"colorbar\":{\"outlinewidth\":0,\"ticks\":\"\"}},\"marker\":{\"colorbar\":{\"outlinewidth\":0,\"ticks\":\"\"}}}],\"scattermapbox\":[{\"type\":\"scattermapbox\",\"marker\":{\"colorbar\":{\"outlinewidth\":0,\"ticks\":\"\"}}}],\"scatterternary\":[{\"type\":\"scatterternary\",\"marker\":{\"colorbar\":{\"outlinewidth\":0,\"ticks\":\"\"}}}],\"scattercarpet\":[{\"type\":\"scattercarpet\",\"marker\":{\"colorbar\":{\"outlinewidth\":0,\"ticks\":\"\"}}}],\"carpet\":[{\"aaxis\":{\"endlinecolor\":\"#2a3f5f\",\"gridcolor\":\"white\",\"linecolor\":\"white\",\"minorgridcolor\":\"white\",\"startlinecolor\":\"#2a3f5f\"},\"baxis\":{\"endlinecolor\":\"#2a3f5f\",\"gridcolor\":\"white\",\"linecolor\":\"white\",\"minorgridcolor\":\"white\",\"startlinecolor\":\"#2a3f5f\"},\"type\":\"carpet\"}],\"table\":[{\"cells\":{\"fill\":{\"color\":\"#EBF0F8\"},\"line\":{\"color\":\"white\"}},\"header\":{\"fill\":{\"color\":\"#C8D4E3\"},\"line\":{\"color\":\"white\"}},\"type\":\"table\"}],\"barpolar\":[{\"marker\":{\"line\":{\"color\":\"#E5ECF6\",\"width\":0.5},\"pattern\":{\"fillmode\":\"overlay\",\"size\":10,\"solidity\":0.2}},\"type\":\"barpolar\"}],\"pie\":[{\"automargin\":true,\"type\":\"pie\"}]},\"layout\":{\"autotypenumbers\":\"strict\",\"colorway\":[\"#636efa\",\"#EF553B\",\"#00cc96\",\"#ab63fa\",\"#FFA15A\",\"#19d3f3\",\"#FF6692\",\"#B6E880\",\"#FF97FF\",\"#FECB52\"],\"font\":{\"color\":\"#2a3f5f\"},\"hovermode\":\"closest\",\"hoverlabel\":{\"align\":\"left\"},\"paper_bgcolor\":\"white\",\"plot_bgcolor\":\"#E5ECF6\",\"polar\":{\"bgcolor\":\"#E5ECF6\",\"angularaxis\":{\"gridcolor\":\"white\",\"linecolor\":\"white\",\"ticks\":\"\"},\"radialaxis\":{\"gridcolor\":\"white\",\"linecolor\":\"white\",\"ticks\":\"\"}},\"ternary\":{\"bgcolor\":\"#E5ECF6\",\"aaxis\":{\"gridcolor\":\"white\",\"linecolor\":\"white\",\"ticks\":\"\"},\"baxis\":{\"gridcolor\":\"white\",\"linecolor\":\"white\",\"ticks\":\"\"},\"caxis\":{\"gridcolor\":\"white\",\"linecolor\":\"white\",\"ticks\":\"\"}},\"coloraxis\":{\"colorbar\":{\"outlinewidth\":0,\"ticks\":\"\"}},\"colorscale\":{\"sequential\":[[0.0,\"#0d0887\"],[0.1111111111111111,\"#46039f\"],[0.2222222222222222,\"#7201a8\"],[0.3333333333333333,\"#9c179e\"],[0.4444444444444444,\"#bd3786\"],[0.5555555555555556,\"#d8576b\"],[0.6666666666666666,\"#ed7953\"],[0.7777777777777778,\"#fb9f3a\"],[0.8888888888888888,\"#fdca26\"],[1.0,\"#f0f921\"]],\"sequentialminus\":[[0.0,\"#0d0887\"],[0.1111111111111111,\"#46039f\"],[0.2222222222222222,\"#7201a8\"],[0.3333333333333333,\"#9c179e\"],[0.4444444444444444,\"#bd3786\"],[0.5555555555555556,\"#d8576b\"],[0.6666666666666666,\"#ed7953\"],[0.7777777777777778,\"#fb9f3a\"],[0.8888888888888888,\"#fdca26\"],[1.0,\"#f0f921\"]],\"diverging\":[[0,\"#8e0152\"],[0.1,\"#c51b7d\"],[0.2,\"#de77ae\"],[0.3,\"#f1b6da\"],[0.4,\"#fde0ef\"],[0.5,\"#f7f7f7\"],[0.6,\"#e6f5d0\"],[0.7,\"#b8e186\"],[0.8,\"#7fbc41\"],[0.9,\"#4d9221\"],[1,\"#276419\"]]},\"xaxis\":{\"gridcolor\":\"white\",\"linecolor\":\"white\",\"ticks\":\"\",\"title\":{\"standoff\":15},\"zerolinecolor\":\"white\",\"automargin\":true,\"zerolinewidth\":2},\"yaxis\":{\"gridcolor\":\"white\",\"linecolor\":\"white\",\"ticks\":\"\",\"title\":{\"standoff\":15},\"zerolinecolor\":\"white\",\"automargin\":true,\"zerolinewidth\":2},\"scene\":{\"xaxis\":{\"backgroundcolor\":\"#E5ECF6\",\"gridcolor\":\"white\",\"linecolor\":\"white\",\"showbackground\":true,\"ticks\":\"\",\"zerolinecolor\":\"white\",\"gridwidth\":2},\"yaxis\":{\"backgroundcolor\":\"#E5ECF6\",\"gridcolor\":\"white\",\"linecolor\":\"white\",\"showbackground\":true,\"ticks\":\"\",\"zerolinecolor\":\"white\",\"gridwidth\":2},\"zaxis\":{\"backgroundcolor\":\"#E5ECF6\",\"gridcolor\":\"white\",\"linecolor\":\"white\",\"showbackground\":true,\"ticks\":\"\",\"zerolinecolor\":\"white\",\"gridwidth\":2}},\"shapedefaults\":{\"line\":{\"color\":\"#2a3f5f\"}},\"annotationdefaults\":{\"arrowcolor\":\"#2a3f5f\",\"arrowhead\":0,\"arrowwidth\":1},\"geo\":{\"bgcolor\":\"white\",\"landcolor\":\"#E5ECF6\",\"subunitcolor\":\"white\",\"showland\":true,\"showlakes\":true,\"lakecolor\":\"white\"},\"title\":{\"x\":0.05},\"mapbox\":{\"style\":\"light\"}}},\"xaxis\":{\"anchor\":\"y\",\"domain\":[0.0,0.45]},\"yaxis\":{\"anchor\":\"x\",\"domain\":[0.0,1.0]},\"xaxis2\":{\"anchor\":\"y2\",\"domain\":[0.55,1.0]},\"yaxis2\":{\"anchor\":\"x2\",\"domain\":[0.0,1.0]},\"annotations\":[{\"font\":{\"size\":16},\"showarrow\":false,\"text\":\"Train Data\",\"x\":0.225,\"xanchor\":\"center\",\"xref\":\"paper\",\"y\":1.0,\"yanchor\":\"bottom\",\"yref\":\"paper\"},{\"font\":{\"size\":16},\"showarrow\":false,\"text\":\"Test Data\",\"x\":0.775,\"xanchor\":\"center\",\"xref\":\"paper\",\"y\":1.0,\"yanchor\":\"bottom\",\"yref\":\"paper\"},{\"font\":{\"size\":16},\"showarrow\":false,\"text\":\"Missing Values\",\"x\":0.5,\"xanchor\":\"center\",\"xref\":\"paper\",\"y\":0,\"yanchor\":\"top\",\"yref\":\"paper\",\"yshift\":-30}],\"title\":{\"text\":\"Row wise Null Value Distribution\",\"x\":0.5},\"showlegend\":false},                        {\"responsive\": true}                    ).then(function(){\n",
       "                            \n",
       "var gd = document.getElementById('442aa1ed-8f73-4e3a-a82e-b09b03d7aea4');\n",
       "var x = new MutationObserver(function (mutations, observer) {{\n",
       "        var display = window.getComputedStyle(gd).display;\n",
       "        if (!display || display === 'none') {{\n",
       "            console.log([gd, 'removed!']);\n",
       "            Plotly.purge(gd);\n",
       "            observer.disconnect();\n",
       "        }}\n",
       "}});\n",
       "\n",
       "// Listen for the removal of the full notebook cells\n",
       "var notebookContainer = gd.closest('#notebook-container');\n",
       "if (notebookContainer) {{\n",
       "    x.observe(notebookContainer, {childList: true});\n",
       "}}\n",
       "\n",
       "// Listen for the clearing of the current output cell\n",
       "var outputEl = gd.closest('.output');\n",
       "if (outputEl) {{\n",
       "    x.observe(outputEl, {childList: true});\n",
       "}}\n",
       "\n",
       "                        })                };                });            </script>        </div>"
      ]
     },
     "metadata": {},
     "output_type": "display_data"
    }
   ],
   "source": [
    "fig = make_subplots(\n",
    "    rows=1,\n",
    "    cols=2,\n",
    "    column_titles=[\"Train Data\", \"Test Data\"],\n",
    "    x_title=\"Missing Values\"\n",
    ")\n",
    "fig.add_trace(go.Bar(x=train_missing_data, y=train_missing_data.index, orientation='h'), 1, 1)\n",
    "fig.add_trace(go.Bar(x=test_missing_data, y=test_missing_data.index, orientation='h'), 1, 2)\n",
    "fig.update_layout(showlegend=False, title_text=\"Row wise Null Value Distribution\", title_x=0.5)"
   ]
  },
  {
   "attachments": {},
   "cell_type": "markdown",
   "metadata": {},
   "source": [
    "Observations:\n",
    "- Both training and testing dataset are having missing values\n",
    "- In Train data - CryoSleep has highest missing values(217) where as in Test data FoodCourt has highest missing values (106)\n",
    "- Same as, in Train data - Age has lowest missing values(179) where as in Test data FoodCourt has lowest missing values (80)"
   ]
  },
  {
   "attachments": {},
   "cell_type": "markdown",
   "metadata": {},
   "source": [
    "#### Features Informations"
   ]
  },
  {
   "cell_type": "code",
   "execution_count": 132,
   "metadata": {},
   "outputs": [
    {
     "data": {
      "text/plain": [
       "PassengerId     8693\n",
       "HomePlanet         3\n",
       "CryoSleep          2\n",
       "Cabin           6560\n",
       "Destination        3\n",
       "Age               80\n",
       "VIP                2\n",
       "RoomService     1273\n",
       "FoodCourt       1507\n",
       "ShoppingMall    1115\n",
       "Spa             1327\n",
       "VRDeck          1306\n",
       "Name            8473\n",
       "Transported        2\n",
       "dtype: int64"
      ]
     },
     "execution_count": 132,
     "metadata": {},
     "output_type": "execute_result"
    }
   ],
   "source": [
    "spaceship_titanic_df.nunique()"
   ]
  },
  {
   "attachments": {},
   "cell_type": "markdown",
   "metadata": {},
   "source": [
    "Observations:\n",
    "- Continous features 'Age', 'RoomService', 'FoodCourt', 'ShoppingMall', 'Spa', 'VRDeck'\n",
    "- Categorical features 'HomePlanet', 'CryoSleep', 'Destination', 'VIP'\n",
    "- Qualitative features 'PassengerId', 'Cabin' ,'Name'\n",
    "\n",
    "we will handle/preprocess this features on the basis of their category"
   ]
  },
  {
   "cell_type": "code",
   "execution_count": null,
   "metadata": {},
   "outputs": [],
   "source": []
  },
  {
   "cell_type": "markdown",
   "metadata": {
    "collapsed": false
   },
   "source": [
    "### Age"
   ]
  },
  {
   "cell_type": "code",
   "execution_count": 133,
   "metadata": {},
   "outputs": [
    {
     "data": {
      "text/plain": [
       "array([39., 24., 58., 33., 16., 44., 26., 28., 35., 14., 34., 45., 32.,\n",
       "       48., 31., 27.,  0.,  1., 49., 29., 10.,  7., 21., 62., 15., 43.,\n",
       "       47.,  2., 20., 23., 30., 17., 55.,  4., 19., 56., nan, 25., 38.,\n",
       "       36., 22., 18., 42., 37., 13.,  8., 40.,  3., 54.,  9.,  6., 64.,\n",
       "       67., 61., 50., 41., 57., 11., 52., 51., 46., 60., 63., 59.,  5.,\n",
       "       79., 68., 74., 12., 53., 65., 71., 75., 70., 76., 78., 73., 66.,\n",
       "       69., 72., 77.])"
      ]
     },
     "execution_count": 133,
     "metadata": {},
     "output_type": "execute_result"
    }
   ],
   "source": [
    "spaceship_titanic_df.Age.unique()"
   ]
  },
  {
   "attachments": {},
   "cell_type": "markdown",
   "metadata": {},
   "source": [
    "ploting transported passangers with age"
   ]
  },
  {
   "cell_type": "code",
   "execution_count": 134,
   "metadata": {},
   "outputs": [],
   "source": [
    "import seaborn as sns\n",
    "\n",
    "sns.set(style='darkgrid', font_scale=1.4)"
   ]
  },
  {
   "cell_type": "code",
   "execution_count": 135,
   "metadata": {},
   "outputs": [],
   "source": [
    "def hist_plot(x: str, df: pd.DataFrame = spaceship_titanic_df, hue: str = 'Transported', kde: bool = True) -> None:\n",
    "    sns.histplot(data=df, x=x, hue=hue, kde=kde, binwidth=1)\n",
    "    plt.title(f'{x} distribution')\n",
    "    plt.xlabel(f'{x}')"
   ]
  },
  {
   "cell_type": "code",
   "execution_count": 136,
   "metadata": {},
   "outputs": [],
   "source": [
    "plt.figure(figsize=(15, 5))\n",
    "hist_plot(x='Age')\n",
    "# sns.histplot(data=spaceship_titanic_df, x='Age', hue='Transported', kde=True, binwidth=1)\n",
    "# plt.title('Age distribution')\n",
    "# plt.xlabel('Age (years)')"
   ]
  },
  {
   "attachments": {},
   "cell_type": "markdown",
   "metadata": {},
   "source": [
    "Observations:\n",
    "* age range 0-79\n",
    "* most of the passangers are in the age of 18-38 (young)\n",
    "* Age between 0 - 18 are mostly likely to transported\n",
    "* Age between 20-45 less likely to transported\n"
   ]
  },
  {
   "attachments": {},
   "cell_type": "markdown",
   "metadata": {},
   "source": [
    "### Categorical features 'HomePlanet', 'CryoSleep', 'Destination', 'VIP'"
   ]
  },
  {
   "cell_type": "code",
   "execution_count": 137,
   "metadata": {},
   "outputs": [
    {
     "data": {
      "text/plain": [
       "array([False, True, nan], dtype=object)"
      ]
     },
     "execution_count": 137,
     "metadata": {},
     "output_type": "execute_result"
    }
   ],
   "source": [
    "spaceship_titanic_df.CryoSleep.unique()"
   ]
  },
  {
   "cell_type": "code",
   "execution_count": 138,
   "metadata": {},
   "outputs": [],
   "source": [
    "cat_features = ['HomePlanet', 'CryoSleep', 'Destination', 'VIP']"
   ]
  },
  {
   "cell_type": "code",
   "execution_count": 139,
   "metadata": {},
   "outputs": [],
   "source": [
    "fig = plt.figure(figsize=(15, 30))\n",
    "for i, feature_name in enumerate(cat_features):\n",
    "    # Left side\n",
    "    ax = fig.add_subplot(4, 2, 2 * i + 1)\n",
    "    sns.countplot(data=spaceship_titanic_df, x=feature_name, axes=ax, hue='Transported', width=0.5)\n",
    "    ax.set_title(f'{feature_name} Train')\n",
    "\n",
    "    # Right Side\n",
    "    ax = fig.add_subplot(4, 2, 2 * i + 2)\n",
    "    sns.countplot(data=spaceship_titanic_test_df, x=feature_name, axes=ax, width=0.5)\n",
    "    ax.set_title(f'{feature_name} Test')\n",
    "fig.tight_layout()"
   ]
  },
  {
   "attachments": {},
   "cell_type": "markdown",
   "metadata": {},
   "source": [
    "Observations:\n",
    "+ HomePlanet\n",
    "  * 3 Destinations - Europa, Eath, Mars\n",
    "  * Highest passangers are transported to Europa\n",
    "  * Least passangers are transported to Earth for some reason\n",
    "\n",
    "* VIP Test does not seem to be useful feature"
   ]
  },
  {
   "attachments": {},
   "cell_type": "markdown",
   "metadata": {
    "collapsed": false
   },
   "source": [
    "### Expenditure features 'RoomService', 'FoodCourt', 'ShoppingMall', 'Spa', 'VRDeck'"
   ]
  },
  {
   "cell_type": "code",
   "execution_count": 140,
   "metadata": {},
   "outputs": [],
   "source": [
    "# Expenditure features\n",
    "exp_feats = ['RoomService', 'FoodCourt', 'ShoppingMall', 'Spa', 'VRDeck']\n",
    "\n",
    "fig = plt.figure(figsize=(10, 20))\n",
    "for i, feature_name in enumerate(exp_feats):\n",
    "    # Left side\n",
    "    ax = fig.add_subplot(5, 2, 2 * i + 1)\n",
    "    sns.histplot(data=spaceship_titanic_df, x=feature_name, axes=ax, bins=30, kde=False, hue='Transported')\n",
    "    ax.set_title(feature_name)\n",
    "\n",
    "    # Right side\n",
    "    ax = fig.add_subplot(5, 2, 2 * i + 2)\n",
    "    sns.histplot(data=spaceship_titanic_df, x=feature_name, axes=ax, bins=30, kde=True, hue='Transported')\n",
    "    plt.ylim([0, 100])\n",
    "    ax.set_title(feature_name)\n",
    "fig.tight_layout()\n",
    "\n",
    "\n"
   ]
  },
  {
   "attachments": {},
   "cell_type": "markdown",
   "metadata": {},
   "source": [
    "Observations:\n",
    "* It seems most people do not spend money\n",
    "* we can concider these features as luxury"
   ]
  },
  {
   "attachments": {},
   "cell_type": "markdown",
   "metadata": {},
   "source": [
    "### Transported"
   ]
  },
  {
   "attachments": {},
   "cell_type": "markdown",
   "metadata": {},
   "source": [
    "Target distribution"
   ]
  },
  {
   "cell_type": "code",
   "execution_count": 141,
   "metadata": {},
   "outputs": [
    {
     "data": {
      "text/plain": [
       "Text(0.5, 1.0, 'Target Distribution')"
      ]
     },
     "execution_count": 141,
     "metadata": {},
     "output_type": "execute_result"
    }
   ],
   "source": [
    "spaceship_titanic_df.Transported.value_counts().plot.pie(\n",
    "    explode=[0.1, 0.1],\n",
    "    autopct='%1.1f%%',\n",
    "    shadow=True,\n",
    ").set_title('Target Distribution')  # type: ignore"
   ]
  },
  {
   "attachments": {},
   "cell_type": "markdown",
   "metadata": {},
   "source": [
    "let's check features correlation with target"
   ]
  },
  {
   "attachments": {},
   "cell_type": "markdown",
   "metadata": {},
   "source": [
    "Lets check feature correlations"
   ]
  },
  {
   "cell_type": "code",
   "execution_count": 142,
   "metadata": {},
   "outputs": [],
   "source": [
    "corr_matrix = spaceship_titanic_df.corr(numeric_only=True)"
   ]
  },
  {
   "cell_type": "code",
   "execution_count": 143,
   "metadata": {},
   "outputs": [
    {
     "data": {
      "text/plain": [
       "<AxesSubplot: >"
      ]
     },
     "execution_count": 143,
     "metadata": {},
     "output_type": "execute_result"
    }
   ],
   "source": [
    "plt.figure(figsize=(8, 7))\n",
    "sns.heatmap(corr_matrix, annot=True)"
   ]
  },
  {
   "cell_type": "code",
   "execution_count": 144,
   "metadata": {
    "collapsed": false
   },
   "outputs": [
    {
     "data": {
      "text/plain": [
       "<AxesSubplot: >"
      ]
     },
     "execution_count": 144,
     "metadata": {},
     "output_type": "execute_result"
    }
   ],
   "source": [
    "sns.heatmap(corr_matrix[['Transported']].sort_values(by='Transported', ascending=False), annot=True)"
   ]
  },
  {
   "attachments": {},
   "cell_type": "markdown",
   "metadata": {},
   "source": [
    "Observations:\n",
    "* As we noticed, passangers who use luxury features are not likely to do be transported, here we can see that \n",
    "  those luxuries features are inversely proportional to target "
   ]
  },
  {
   "cell_type": "markdown",
   "metadata": {
    "collapsed": false
   },
   "source": [
    "## Preprocessing"
   ]
  },
  {
   "cell_type": "markdown",
   "metadata": {
    "collapsed": false
   },
   "source": [
    "### Handle Missing Values"
   ]
  },
  {
   "cell_type": "code",
   "execution_count": 145,
   "metadata": {},
   "outputs": [
    {
     "name": "stdout",
     "output_type": "stream",
     "text": [
      "<class 'pandas.core.frame.DataFrame'>\n",
      "RangeIndex: 8693 entries, 0 to 8692\n",
      "Data columns (total 14 columns):\n",
      " #   Column        Non-Null Count  Dtype  \n",
      "---  ------        --------------  -----  \n",
      " 0   PassengerId   8693 non-null   object \n",
      " 1   HomePlanet    8492 non-null   object \n",
      " 2   CryoSleep     8476 non-null   object \n",
      " 3   Cabin         8494 non-null   object \n",
      " 4   Destination   8511 non-null   object \n",
      " 5   Age           8514 non-null   float64\n",
      " 6   VIP           8490 non-null   object \n",
      " 7   RoomService   8512 non-null   float64\n",
      " 8   FoodCourt     8510 non-null   float64\n",
      " 9   ShoppingMall  8485 non-null   float64\n",
      " 10  Spa           8510 non-null   float64\n",
      " 11  VRDeck        8505 non-null   float64\n",
      " 12  Name          8493 non-null   object \n",
      " 13  Transported   8693 non-null   bool   \n",
      "dtypes: bool(1), float64(6), object(7)\n",
      "memory usage: 891.5+ KB\n"
     ]
    }
   ],
   "source": [
    "spaceship_titanic_df.info()"
   ]
  },
  {
   "cell_type": "code",
   "execution_count": 146,
   "metadata": {},
   "outputs": [
    {
     "data": {
      "text/plain": [
       "PassengerId       0\n",
       "HomePlanet      201\n",
       "CryoSleep       217\n",
       "Cabin           199\n",
       "Destination     182\n",
       "Age             179\n",
       "VIP             203\n",
       "RoomService     181\n",
       "FoodCourt       183\n",
       "ShoppingMall    208\n",
       "Spa             183\n",
       "VRDeck          188\n",
       "Name            200\n",
       "Transported       0\n",
       "dtype: int64"
      ]
     },
     "execution_count": 146,
     "metadata": {},
     "output_type": "execute_result"
    }
   ],
   "source": [
    "spaceship_titanic_df.isna().sum()"
   ]
  },
  {
   "cell_type": "code",
   "execution_count": 147,
   "metadata": {
    "collapsed": false
   },
   "outputs": [],
   "source": [
    "num_log_attribs = [\"RoomService\", \"FoodCourt\", \"ShoppingMall\", \"Spa\", \"VRDeck\"]\n",
    "num_attribs = [\"Age\"]\n",
    "cat_attribs = [\"HomePlanet\", \"CryoSleep\", \"Cabin\", \"Destination\"]"
   ]
  },
  {
   "cell_type": "code",
   "execution_count": 148,
   "metadata": {},
   "outputs": [],
   "source": [
    "from sklearn.impute import SimpleImputer\n",
    "from sklearn.pipeline import Pipeline\n",
    "from sklearn.compose import ColumnTransformer\n",
    "from sklearn.preprocessing import OneHotEncoder, StandardScaler, FunctionTransformer\n",
    "\n",
    "scaler = StandardScaler()\n",
    "imputer_mean = SimpleImputer(strategy='mean')\n",
    "imputer_mode = SimpleImputer(strategy='most_frequent')\n",
    "onehot_encoder = OneHotEncoder(\n",
    "    drop='if_binary',\n",
    "    handle_unknown='ignore',\n",
    "    sparse=False\n",
    ")"
   ]
  },
  {
   "cell_type": "code",
   "execution_count": 149,
   "metadata": {},
   "outputs": [],
   "source": [
    "num_xformer = Pipeline(\n",
    "    steps=[\n",
    "        ('imputer_mean', imputer_mean),\n",
    "        ('scaler', scaler)\n",
    "    ]\n",
    ")"
   ]
  },
  {
   "attachments": {},
   "cell_type": "markdown",
   "metadata": {},
   "source": [
    "The logarithm transform  is used to decrease skew in distributions, espcially with large outlier.\\\n",
    "It makes easier for algorithms to learn the correct relationships. "
   ]
  },
  {
   "cell_type": "code",
   "execution_count": 150,
   "metadata": {},
   "outputs": [],
   "source": [
    "# https://stats.stackexchange.com/a/506322\n",
    "import numpy as np\n",
    "\n",
    "\n",
    "def log_transform(x):\n",
    "    return np.log(x + 1)"
   ]
  },
  {
   "cell_type": "code",
   "execution_count": 151,
   "metadata": {},
   "outputs": [],
   "source": [
    "log_xformer = FunctionTransformer(log_transform)\n",
    "log_xformer = Pipeline(\n",
    "    steps=[\n",
    "        ('imputer_mean', imputer_mean),\n",
    "        ('log', log_xformer),\n",
    "        ('scaler', scaler),\n",
    "    ]\n",
    ")"
   ]
  },
  {
   "cell_type": "code",
   "execution_count": 152,
   "metadata": {},
   "outputs": [],
   "source": [
    "cat_xformer = Pipeline(\n",
    "    steps=[\n",
    "        ('imputer_mode', imputer_mode),\n",
    "        ('onehot_encoder', onehot_encoder)\n",
    "    ]\n",
    ")"
   ]
  },
  {
   "cell_type": "code",
   "execution_count": 153,
   "metadata": {},
   "outputs": [],
   "source": [
    "preprocerssor = ColumnTransformer(\n",
    "    transformers=[\n",
    "        ('num', num_xformer, num_attribs),\n",
    "        ('log_attr', log_xformer, num_log_attribs),\n",
    "        ('cat', cat_xformer, cat_attribs)\n",
    "    ],\n",
    ")"
   ]
  },
  {
   "cell_type": "code",
   "execution_count": 154,
   "metadata": {},
   "outputs": [],
   "source": [
    "X = spaceship_titanic_df.drop(labels=['Transported'], axis=1)\n",
    "y = spaceship_titanic_df.Transported"
   ]
  },
  {
   "cell_type": "code",
   "execution_count": 155,
   "metadata": {},
   "outputs": [
    {
     "data": {
      "text/plain": [
       "Index(['PassengerId', 'HomePlanet', 'CryoSleep', 'Cabin', 'Destination', 'Age',\n",
       "       'VIP', 'RoomService', 'FoodCourt', 'ShoppingMall', 'Spa', 'VRDeck',\n",
       "       'Name'],\n",
       "      dtype='object')"
      ]
     },
     "execution_count": 155,
     "metadata": {},
     "output_type": "execute_result"
    }
   ],
   "source": [
    "X.columns"
   ]
  },
  {
   "cell_type": "code",
   "execution_count": 156,
   "metadata": {},
   "outputs": [
    {
     "name": "stderr",
     "output_type": "stream",
     "text": [
      "/usr/local/lib/python3.8/dist-packages/sklearn/preprocessing/_encoders.py:808: FutureWarning:\n",
      "\n",
      "`sparse` was renamed to `sparse_output` in version 1.2 and will be removed in 1.4. `sparse_output` is ignored unless you leave `sparse` to its default value.\n",
      "\n"
     ]
    }
   ],
   "source": [
    "X_preprocessed = preprocerssor.fit_transform(X)"
   ]
  },
  {
   "cell_type": "code",
   "execution_count": 157,
   "metadata": {},
   "outputs": [
    {
     "name": "stderr",
     "output_type": "stream",
     "text": [
      "/usr/local/lib/python3.8/dist-packages/sklearn/preprocessing/_encoders.py:182: UserWarning:\n",
      "\n",
      "Found unknown categories in columns [2] during transform. These unknown categories will be encoded as all zeros\n",
      "\n"
     ]
    }
   ],
   "source": [
    "X_test_preprocessed = preprocerssor.transform(spaceship_titanic_test_df)"
   ]
  },
  {
   "attachments": {},
   "cell_type": "markdown",
   "metadata": {},
   "source": [
    "## Preparing data for model"
   ]
  },
  {
   "cell_type": "code",
   "execution_count": 158,
   "metadata": {},
   "outputs": [],
   "source": [
    "from sklearn.model_selection import StratifiedKFold, train_test_split"
   ]
  },
  {
   "cell_type": "code",
   "execution_count": 159,
   "metadata": {},
   "outputs": [],
   "source": [
    "X_train, X_valid, y_train, y_valid = train_test_split(X_preprocessed, y,\n",
    "                                                      test_size=0.2,\n",
    "                                                      shuffle=True,\n",
    "                                                      random_state=42\n",
    "                                                      )"
   ]
  },
  {
   "cell_type": "code",
   "execution_count": 160,
   "metadata": {},
   "outputs": [
    {
     "data": {
      "text/plain": [
       "array([[-0.05774287, -0.67035216,  0.66759839, ...,  0.        ,\n",
       "         0.        ,  1.        ],\n",
       "       [-0.82492266, -0.67035216,  1.69473514, ...,  0.        ,\n",
       "         0.        ,  1.        ],\n",
       "       [-0.05774287, -0.67035216, -0.68296189, ...,  1.        ,\n",
       "         0.        ,  0.        ],\n",
       "       ...,\n",
       "       [-0.47620457,  1.16823704, -0.68296189, ...,  0.        ,\n",
       "         1.        ,  0.        ],\n",
       "       [ 0.36071884,  1.48426238, -0.68296189, ...,  0.        ,\n",
       "         0.        ,  1.        ],\n",
       "       [-0.05774287,  0.08390134,  1.39534543, ...,  1.        ,\n",
       "         0.        ,  0.        ]])"
      ]
     },
     "execution_count": 160,
     "metadata": {},
     "output_type": "execute_result"
    }
   ],
   "source": [
    "X_train"
   ]
  },
  {
   "attachments": {},
   "cell_type": "markdown",
   "metadata": {},
   "source": [
    "## Model Building"
   ]
  },
  {
   "cell_type": "code",
   "execution_count": 161,
   "metadata": {},
   "outputs": [],
   "source": [
    "def predict_and_submit(model, fname, test_df):\n",
    "    test_preds = model.predict(test_df)\n",
    "    sub_df = pd.read_csv(data_dir + '/sample_submission.csv')\n",
    "    sub_df['Transported'] = test_preds\n",
    "    sub_df.to_csv(f'{fname}.csv', index=None)\n",
    "    return sub_df"
   ]
  },
  {
   "cell_type": "code",
   "execution_count": 162,
   "metadata": {},
   "outputs": [
    {
     "name": "stdout",
     "output_type": "stream",
     "text": [
      "WARNING:tensorflow:Detecting that an object or model or tf.train.Checkpoint is being deleted with unrestored values. See the following logs for the specific values in question. To silence these warnings, use `status.expect_partial()`. See https://www.tensorflow.org/api_docs/python/tf/train/Checkpoint#restorefor details about the status object returned by the restore function.\n",
      "WARNING:tensorflow:Value in checkpoint could not be found in the restored object: (root).optimizer._variables.1\n",
      "WARNING:tensorflow:Value in checkpoint could not be found in the restored object: (root).optimizer._variables.2\n",
      "WARNING:tensorflow:Value in checkpoint could not be found in the restored object: (root).optimizer._variables.3\n",
      "WARNING:tensorflow:Value in checkpoint could not be found in the restored object: (root).optimizer._variables.4\n",
      "WARNING:tensorflow:Value in checkpoint could not be found in the restored object: (root).optimizer._variables.5\n",
      "WARNING:tensorflow:Value in checkpoint could not be found in the restored object: (root).optimizer._variables.6\n",
      "WARNING:tensorflow:Value in checkpoint could not be found in the restored object: (root).optimizer._variables.7\n",
      "WARNING:tensorflow:Value in checkpoint could not be found in the restored object: (root).optimizer._variables.8\n",
      "WARNING:tensorflow:Value in checkpoint could not be found in the restored object: (root).optimizer._variables.9\n",
      "WARNING:tensorflow:Value in checkpoint could not be found in the restored object: (root).optimizer._variables.10\n",
      "WARNING:tensorflow:Value in checkpoint could not be found in the restored object: (root).optimizer._variables.11\n",
      "WARNING:tensorflow:Value in checkpoint could not be found in the restored object: (root).optimizer._variables.12\n",
      "WARNING:tensorflow:Value in checkpoint could not be found in the restored object: (root).optimizer._variables.13\n",
      "WARNING:tensorflow:Value in checkpoint could not be found in the restored object: (root).optimizer._variables.14\n",
      "WARNING:tensorflow:Value in checkpoint could not be found in the restored object: (root).optimizer._variables.15\n",
      "WARNING:tensorflow:Value in checkpoint could not be found in the restored object: (root).optimizer._variables.16\n"
     ]
    }
   ],
   "source": [
    "import lazypredict\n",
    "from lazypredict.Supervised import LazyClassifier"
   ]
  },
  {
   "cell_type": "code",
   "execution_count": 163,
   "metadata": {},
   "outputs": [
    {
     "name": "stderr",
     "output_type": "stream",
     "text": [
      "100%|██████████| 29/29 [10:53<00:00, 22.55s/it]\n"
     ]
    }
   ],
   "source": [
    "lazy_clf = LazyClassifier(verbose=0, ignore_warnings=True, custom_metric=None)\n",
    "models, predictions = lazy_clf.fit(X_train, X_valid, y_train, y_valid)"
   ]
  },
  {
   "cell_type": "code",
   "execution_count": 164,
   "metadata": {},
   "outputs": [
    {
     "data": {
      "text/html": [
       "<div>\n",
       "<style scoped>\n",
       "    .dataframe tbody tr th:only-of-type {\n",
       "        vertical-align: middle;\n",
       "    }\n",
       "\n",
       "    .dataframe tbody tr th {\n",
       "        vertical-align: top;\n",
       "    }\n",
       "\n",
       "    .dataframe thead th {\n",
       "        text-align: right;\n",
       "    }\n",
       "</style>\n",
       "<table border=\"1\" class=\"dataframe\">\n",
       "  <thead>\n",
       "    <tr style=\"text-align: right;\">\n",
       "      <th></th>\n",
       "      <th>Accuracy</th>\n",
       "      <th>Balanced Accuracy</th>\n",
       "      <th>ROC AUC</th>\n",
       "      <th>F1 Score</th>\n",
       "      <th>Time Taken</th>\n",
       "    </tr>\n",
       "    <tr>\n",
       "      <th>Model</th>\n",
       "      <th></th>\n",
       "      <th></th>\n",
       "      <th></th>\n",
       "      <th></th>\n",
       "      <th></th>\n",
       "    </tr>\n",
       "  </thead>\n",
       "  <tbody>\n",
       "    <tr>\n",
       "      <th>RandomForestClassifier</th>\n",
       "      <td>0.78</td>\n",
       "      <td>0.78</td>\n",
       "      <td>0.78</td>\n",
       "      <td>0.78</td>\n",
       "      <td>8.24</td>\n",
       "    </tr>\n",
       "    <tr>\n",
       "      <th>LGBMClassifier</th>\n",
       "      <td>0.78</td>\n",
       "      <td>0.78</td>\n",
       "      <td>0.78</td>\n",
       "      <td>0.78</td>\n",
       "      <td>1.35</td>\n",
       "    </tr>\n",
       "    <tr>\n",
       "      <th>BaggingClassifier</th>\n",
       "      <td>0.78</td>\n",
       "      <td>0.78</td>\n",
       "      <td>0.78</td>\n",
       "      <td>0.78</td>\n",
       "      <td>5.63</td>\n",
       "    </tr>\n",
       "    <tr>\n",
       "      <th>AdaBoostClassifier</th>\n",
       "      <td>0.78</td>\n",
       "      <td>0.78</td>\n",
       "      <td>0.78</td>\n",
       "      <td>0.78</td>\n",
       "      <td>15.92</td>\n",
       "    </tr>\n",
       "    <tr>\n",
       "      <th>ExtraTreesClassifier</th>\n",
       "      <td>0.78</td>\n",
       "      <td>0.78</td>\n",
       "      <td>0.78</td>\n",
       "      <td>0.78</td>\n",
       "      <td>15.54</td>\n",
       "    </tr>\n",
       "    <tr>\n",
       "      <th>XGBClassifier</th>\n",
       "      <td>0.78</td>\n",
       "      <td>0.78</td>\n",
       "      <td>0.78</td>\n",
       "      <td>0.78</td>\n",
       "      <td>9.97</td>\n",
       "    </tr>\n",
       "    <tr>\n",
       "      <th>DecisionTreeClassifier</th>\n",
       "      <td>0.77</td>\n",
       "      <td>0.77</td>\n",
       "      <td>0.77</td>\n",
       "      <td>0.77</td>\n",
       "      <td>1.42</td>\n",
       "    </tr>\n",
       "    <tr>\n",
       "      <th>BernoulliNB</th>\n",
       "      <td>0.75</td>\n",
       "      <td>0.75</td>\n",
       "      <td>0.75</td>\n",
       "      <td>0.75</td>\n",
       "      <td>0.97</td>\n",
       "    </tr>\n",
       "    <tr>\n",
       "      <th>CalibratedClassifierCV</th>\n",
       "      <td>0.75</td>\n",
       "      <td>0.75</td>\n",
       "      <td>0.75</td>\n",
       "      <td>0.75</td>\n",
       "      <td>171.05</td>\n",
       "    </tr>\n",
       "    <tr>\n",
       "      <th>RidgeClassifier</th>\n",
       "      <td>0.75</td>\n",
       "      <td>0.75</td>\n",
       "      <td>0.75</td>\n",
       "      <td>0.75</td>\n",
       "      <td>2.16</td>\n",
       "    </tr>\n",
       "    <tr>\n",
       "      <th>NearestCentroid</th>\n",
       "      <td>0.74</td>\n",
       "      <td>0.74</td>\n",
       "      <td>0.74</td>\n",
       "      <td>0.74</td>\n",
       "      <td>0.82</td>\n",
       "    </tr>\n",
       "    <tr>\n",
       "      <th>LinearSVC</th>\n",
       "      <td>0.74</td>\n",
       "      <td>0.74</td>\n",
       "      <td>0.74</td>\n",
       "      <td>0.74</td>\n",
       "      <td>42.63</td>\n",
       "    </tr>\n",
       "    <tr>\n",
       "      <th>SGDClassifier</th>\n",
       "      <td>0.74</td>\n",
       "      <td>0.74</td>\n",
       "      <td>0.74</td>\n",
       "      <td>0.74</td>\n",
       "      <td>6.34</td>\n",
       "    </tr>\n",
       "    <tr>\n",
       "      <th>Perceptron</th>\n",
       "      <td>0.73</td>\n",
       "      <td>0.73</td>\n",
       "      <td>0.73</td>\n",
       "      <td>0.73</td>\n",
       "      <td>1.20</td>\n",
       "    </tr>\n",
       "    <tr>\n",
       "      <th>PassiveAggressiveClassifier</th>\n",
       "      <td>0.73</td>\n",
       "      <td>0.73</td>\n",
       "      <td>0.73</td>\n",
       "      <td>0.73</td>\n",
       "      <td>1.73</td>\n",
       "    </tr>\n",
       "  </tbody>\n",
       "</table>\n",
       "</div>"
      ],
      "text/plain": [
       "                             Accuracy  Balanced Accuracy  ROC AUC  F1 Score  \\\n",
       "Model                                                                         \n",
       "RandomForestClassifier           0.78               0.78     0.78      0.78   \n",
       "LGBMClassifier                   0.78               0.78     0.78      0.78   \n",
       "BaggingClassifier                0.78               0.78     0.78      0.78   \n",
       "AdaBoostClassifier               0.78               0.78     0.78      0.78   \n",
       "ExtraTreesClassifier             0.78               0.78     0.78      0.78   \n",
       "XGBClassifier                    0.78               0.78     0.78      0.78   \n",
       "DecisionTreeClassifier           0.77               0.77     0.77      0.77   \n",
       "BernoulliNB                      0.75               0.75     0.75      0.75   \n",
       "CalibratedClassifierCV           0.75               0.75     0.75      0.75   \n",
       "RidgeClassifier                  0.75               0.75     0.75      0.75   \n",
       "NearestCentroid                  0.74               0.74     0.74      0.74   \n",
       "LinearSVC                        0.74               0.74     0.74      0.74   \n",
       "SGDClassifier                    0.74               0.74     0.74      0.74   \n",
       "Perceptron                       0.73               0.73     0.73      0.73   \n",
       "PassiveAggressiveClassifier      0.73               0.73     0.73      0.73   \n",
       "\n",
       "                             Time Taken  \n",
       "Model                                    \n",
       "RandomForestClassifier             8.24  \n",
       "LGBMClassifier                     1.35  \n",
       "BaggingClassifier                  5.63  \n",
       "AdaBoostClassifier                15.92  \n",
       "ExtraTreesClassifier              15.54  \n",
       "XGBClassifier                      9.97  \n",
       "DecisionTreeClassifier             1.42  \n",
       "BernoulliNB                        0.97  \n",
       "CalibratedClassifierCV           171.05  \n",
       "RidgeClassifier                    2.16  \n",
       "NearestCentroid                    0.82  \n",
       "LinearSVC                         42.63  \n",
       "SGDClassifier                      6.34  \n",
       "Perceptron                         1.20  \n",
       "PassiveAggressiveClassifier        1.73  "
      ]
     },
     "execution_count": 164,
     "metadata": {},
     "output_type": "execute_result"
    }
   ],
   "source": [
    "models[:15]"
   ]
  },
  {
   "attachments": {},
   "cell_type": "markdown",
   "metadata": {},
   "source": [
    "LGBMClassifier is winner with less time taken. so we can try to fine-tune it"
   ]
  },
  {
   "attachments": {},
   "cell_type": "markdown",
   "metadata": {},
   "source": [
    "### Fine tune LGBMClassifier"
   ]
  },
  {
   "cell_type": "code",
   "execution_count": 165,
   "metadata": {},
   "outputs": [],
   "source": [
    "from lightgbm import LGBMClassifier\n",
    "from sklearn.model_selection import GridSearchCV\n",
    "\n",
    "param_drid = {\n",
    "    'n_estimators': np.arange(100, 1000, 100),\n",
    "    'boosting_type': ['gbdt'],\n",
    "    'max_depth': [-1],\n",
    "    'num_leaves': np.arange(2, 50, 3)\n",
    "}"
   ]
  },
  {
   "cell_type": "code",
   "execution_count": 166,
   "metadata": {},
   "outputs": [],
   "source": [
    "lgbm_model = LGBMClassifier(\n",
    "    random_state=42,\n",
    "    n_jobs=-1\n",
    ")"
   ]
  },
  {
   "cell_type": "code",
   "execution_count": 167,
   "metadata": {},
   "outputs": [],
   "source": [
    "grid_search_lgbm = GridSearchCV(\n",
    "    estimator=lgbm_model,\n",
    "    param_grid=param_drid,\n",
    "    scoring='accuracy',\n",
    "    verbose=10,\n",
    "    cv=5\n",
    ")"
   ]
  },
  {
   "cell_type": "code",
   "execution_count": 168,
   "metadata": {},
   "outputs": [
    {
     "name": "stdout",
     "output_type": "stream",
     "text": [
      "Fitting 5 folds for each of 144 candidates, totalling 720 fits\n",
      "[CV 1/5; 1/144] START boosting_type=gbdt, max_depth=-1, n_estimators=100, num_leaves=2\n",
      "[CV 1/5; 1/144] END boosting_type=gbdt, max_depth=-1, n_estimators=100, num_leaves=2;, score=0.769 total time=   0.2s\n",
      "[CV 2/5; 1/144] START boosting_type=gbdt, max_depth=-1, n_estimators=100, num_leaves=2\n",
      "[CV 2/5; 1/144] END boosting_type=gbdt, max_depth=-1, n_estimators=100, num_leaves=2;, score=0.784 total time=   0.1s\n",
      "[CV 3/5; 1/144] START boosting_type=gbdt, max_depth=-1, n_estimators=100, num_leaves=2\n",
      "[CV 3/5; 1/144] END boosting_type=gbdt, max_depth=-1, n_estimators=100, num_leaves=2;, score=0.768 total time=   0.1s\n",
      "[CV 4/5; 1/144] START boosting_type=gbdt, max_depth=-1, n_estimators=100, num_leaves=2\n",
      "[CV 4/5; 1/144] END boosting_type=gbdt, max_depth=-1, n_estimators=100, num_leaves=2;, score=0.778 total time=   0.1s\n",
      "[CV 5/5; 1/144] START boosting_type=gbdt, max_depth=-1, n_estimators=100, num_leaves=2\n",
      "[CV 5/5; 1/144] END boosting_type=gbdt, max_depth=-1, n_estimators=100, num_leaves=2;, score=0.794 total time=   0.1s\n",
      "[CV 1/5; 2/144] START boosting_type=gbdt, max_depth=-1, n_estimators=100, num_leaves=5\n",
      "[CV 1/5; 2/144] END boosting_type=gbdt, max_depth=-1, n_estimators=100, num_leaves=5;, score=0.786 total time=   0.1s\n",
      "[CV 2/5; 2/144] START boosting_type=gbdt, max_depth=-1, n_estimators=100, num_leaves=5\n",
      "[CV 2/5; 2/144] END boosting_type=gbdt, max_depth=-1, n_estimators=100, num_leaves=5;, score=0.815 total time=   0.1s\n",
      "[CV 3/5; 2/144] START boosting_type=gbdt, max_depth=-1, n_estimators=100, num_leaves=5\n",
      "[CV 3/5; 2/144] END boosting_type=gbdt, max_depth=-1, n_estimators=100, num_leaves=5;, score=0.794 total time=   0.1s\n",
      "[CV 4/5; 2/144] START boosting_type=gbdt, max_depth=-1, n_estimators=100, num_leaves=5\n",
      "[CV 4/5; 2/144] END boosting_type=gbdt, max_depth=-1, n_estimators=100, num_leaves=5;, score=0.792 total time=   0.1s\n",
      "[CV 5/5; 2/144] START boosting_type=gbdt, max_depth=-1, n_estimators=100, num_leaves=5\n",
      "[CV 5/5; 2/144] END boosting_type=gbdt, max_depth=-1, n_estimators=100, num_leaves=5;, score=0.814 total time=   0.1s\n",
      "[CV 1/5; 3/144] START boosting_type=gbdt, max_depth=-1, n_estimators=100, num_leaves=8\n",
      "[CV 1/5; 3/144] END boosting_type=gbdt, max_depth=-1, n_estimators=100, num_leaves=8;, score=0.783 total time=   0.1s\n",
      "[CV 2/5; 3/144] START boosting_type=gbdt, max_depth=-1, n_estimators=100, num_leaves=8\n",
      "[CV 2/5; 3/144] END boosting_type=gbdt, max_depth=-1, n_estimators=100, num_leaves=8;, score=0.805 total time=   0.1s\n",
      "[CV 3/5; 3/144] START boosting_type=gbdt, max_depth=-1, n_estimators=100, num_leaves=8\n",
      "[CV 3/5; 3/144] END boosting_type=gbdt, max_depth=-1, n_estimators=100, num_leaves=8;, score=0.795 total time=   0.1s\n",
      "[CV 4/5; 3/144] START boosting_type=gbdt, max_depth=-1, n_estimators=100, num_leaves=8\n",
      "[CV 4/5; 3/144] END boosting_type=gbdt, max_depth=-1, n_estimators=100, num_leaves=8;, score=0.799 total time=   0.1s\n",
      "[CV 5/5; 3/144] START boosting_type=gbdt, max_depth=-1, n_estimators=100, num_leaves=8\n",
      "[CV 5/5; 3/144] END boosting_type=gbdt, max_depth=-1, n_estimators=100, num_leaves=8;, score=0.814 total time=   0.1s\n",
      "[CV 1/5; 4/144] START boosting_type=gbdt, max_depth=-1, n_estimators=100, num_leaves=11\n",
      "[CV 1/5; 4/144] END boosting_type=gbdt, max_depth=-1, n_estimators=100, num_leaves=11;, score=0.781 total time=   0.1s\n",
      "[CV 2/5; 4/144] START boosting_type=gbdt, max_depth=-1, n_estimators=100, num_leaves=11\n",
      "[CV 2/5; 4/144] END boosting_type=gbdt, max_depth=-1, n_estimators=100, num_leaves=11;, score=0.807 total time=   0.1s\n",
      "[CV 3/5; 4/144] START boosting_type=gbdt, max_depth=-1, n_estimators=100, num_leaves=11\n",
      "[CV 3/5; 4/144] END boosting_type=gbdt, max_depth=-1, n_estimators=100, num_leaves=11;, score=0.797 total time=   0.1s\n",
      "[CV 4/5; 4/144] START boosting_type=gbdt, max_depth=-1, n_estimators=100, num_leaves=11\n",
      "[CV 4/5; 4/144] END boosting_type=gbdt, max_depth=-1, n_estimators=100, num_leaves=11;, score=0.797 total time=   0.1s\n",
      "[CV 5/5; 4/144] START boosting_type=gbdt, max_depth=-1, n_estimators=100, num_leaves=11\n",
      "[CV 5/5; 4/144] END boosting_type=gbdt, max_depth=-1, n_estimators=100, num_leaves=11;, score=0.812 total time=   0.1s\n",
      "[CV 1/5; 5/144] START boosting_type=gbdt, max_depth=-1, n_estimators=100, num_leaves=14\n",
      "[CV 1/5; 5/144] END boosting_type=gbdt, max_depth=-1, n_estimators=100, num_leaves=14;, score=0.781 total time=   0.1s\n",
      "[CV 2/5; 5/144] START boosting_type=gbdt, max_depth=-1, n_estimators=100, num_leaves=14\n",
      "[CV 2/5; 5/144] END boosting_type=gbdt, max_depth=-1, n_estimators=100, num_leaves=14;, score=0.802 total time=   0.2s\n",
      "[CV 3/5; 5/144] START boosting_type=gbdt, max_depth=-1, n_estimators=100, num_leaves=14\n",
      "[CV 3/5; 5/144] END boosting_type=gbdt, max_depth=-1, n_estimators=100, num_leaves=14;, score=0.796 total time=   0.2s\n",
      "[CV 4/5; 5/144] START boosting_type=gbdt, max_depth=-1, n_estimators=100, num_leaves=14\n",
      "[CV 4/5; 5/144] END boosting_type=gbdt, max_depth=-1, n_estimators=100, num_leaves=14;, score=0.800 total time=   0.1s\n",
      "[CV 5/5; 5/144] START boosting_type=gbdt, max_depth=-1, n_estimators=100, num_leaves=14\n",
      "[CV 5/5; 5/144] END boosting_type=gbdt, max_depth=-1, n_estimators=100, num_leaves=14;, score=0.804 total time=   0.1s\n",
      "[CV 1/5; 6/144] START boosting_type=gbdt, max_depth=-1, n_estimators=100, num_leaves=17\n",
      "[CV 1/5; 6/144] END boosting_type=gbdt, max_depth=-1, n_estimators=100, num_leaves=17;, score=0.779 total time=   0.2s\n",
      "[CV 2/5; 6/144] START boosting_type=gbdt, max_depth=-1, n_estimators=100, num_leaves=17\n",
      "[CV 2/5; 6/144] END boosting_type=gbdt, max_depth=-1, n_estimators=100, num_leaves=17;, score=0.805 total time=   0.2s\n",
      "[CV 3/5; 6/144] START boosting_type=gbdt, max_depth=-1, n_estimators=100, num_leaves=17\n",
      "[CV 3/5; 6/144] END boosting_type=gbdt, max_depth=-1, n_estimators=100, num_leaves=17;, score=0.791 total time=   0.2s\n",
      "[CV 4/5; 6/144] START boosting_type=gbdt, max_depth=-1, n_estimators=100, num_leaves=17\n",
      "[CV 4/5; 6/144] END boosting_type=gbdt, max_depth=-1, n_estimators=100, num_leaves=17;, score=0.803 total time=   0.2s\n",
      "[CV 5/5; 6/144] START boosting_type=gbdt, max_depth=-1, n_estimators=100, num_leaves=17\n",
      "[CV 5/5; 6/144] END boosting_type=gbdt, max_depth=-1, n_estimators=100, num_leaves=17;, score=0.806 total time=   0.2s\n",
      "[CV 1/5; 7/144] START boosting_type=gbdt, max_depth=-1, n_estimators=100, num_leaves=20\n",
      "[CV 1/5; 7/144] END boosting_type=gbdt, max_depth=-1, n_estimators=100, num_leaves=20;, score=0.778 total time=   0.3s\n",
      "[CV 2/5; 7/144] START boosting_type=gbdt, max_depth=-1, n_estimators=100, num_leaves=20\n",
      "[CV 2/5; 7/144] END boosting_type=gbdt, max_depth=-1, n_estimators=100, num_leaves=20;, score=0.804 total time=   0.3s\n",
      "[CV 3/5; 7/144] START boosting_type=gbdt, max_depth=-1, n_estimators=100, num_leaves=20\n",
      "[CV 3/5; 7/144] END boosting_type=gbdt, max_depth=-1, n_estimators=100, num_leaves=20;, score=0.797 total time=   0.2s\n",
      "[CV 4/5; 7/144] START boosting_type=gbdt, max_depth=-1, n_estimators=100, num_leaves=20\n",
      "[CV 4/5; 7/144] END boosting_type=gbdt, max_depth=-1, n_estimators=100, num_leaves=20;, score=0.797 total time=   0.2s\n",
      "[CV 5/5; 7/144] START boosting_type=gbdt, max_depth=-1, n_estimators=100, num_leaves=20\n",
      "[CV 5/5; 7/144] END boosting_type=gbdt, max_depth=-1, n_estimators=100, num_leaves=20;, score=0.801 total time=   0.2s\n",
      "[CV 1/5; 8/144] START boosting_type=gbdt, max_depth=-1, n_estimators=100, num_leaves=23\n",
      "[CV 1/5; 8/144] END boosting_type=gbdt, max_depth=-1, n_estimators=100, num_leaves=23;, score=0.789 total time=   0.2s\n",
      "[CV 2/5; 8/144] START boosting_type=gbdt, max_depth=-1, n_estimators=100, num_leaves=23\n",
      "[CV 2/5; 8/144] END boosting_type=gbdt, max_depth=-1, n_estimators=100, num_leaves=23;, score=0.800 total time=   0.2s\n",
      "[CV 3/5; 8/144] START boosting_type=gbdt, max_depth=-1, n_estimators=100, num_leaves=23\n",
      "[CV 3/5; 8/144] END boosting_type=gbdt, max_depth=-1, n_estimators=100, num_leaves=23;, score=0.795 total time=   0.2s\n",
      "[CV 4/5; 8/144] START boosting_type=gbdt, max_depth=-1, n_estimators=100, num_leaves=23\n",
      "[CV 4/5; 8/144] END boosting_type=gbdt, max_depth=-1, n_estimators=100, num_leaves=23;, score=0.805 total time=   0.2s\n",
      "[CV 5/5; 8/144] START boosting_type=gbdt, max_depth=-1, n_estimators=100, num_leaves=23\n",
      "[CV 5/5; 8/144] END boosting_type=gbdt, max_depth=-1, n_estimators=100, num_leaves=23;, score=0.801 total time=   0.2s\n",
      "[CV 1/5; 9/144] START boosting_type=gbdt, max_depth=-1, n_estimators=100, num_leaves=26\n",
      "[CV 1/5; 9/144] END boosting_type=gbdt, max_depth=-1, n_estimators=100, num_leaves=26;, score=0.781 total time=   0.2s\n",
      "[CV 2/5; 9/144] START boosting_type=gbdt, max_depth=-1, n_estimators=100, num_leaves=26\n",
      "[CV 2/5; 9/144] END boosting_type=gbdt, max_depth=-1, n_estimators=100, num_leaves=26;, score=0.797 total time=   0.2s\n",
      "[CV 3/5; 9/144] START boosting_type=gbdt, max_depth=-1, n_estimators=100, num_leaves=26\n",
      "[CV 3/5; 9/144] END boosting_type=gbdt, max_depth=-1, n_estimators=100, num_leaves=26;, score=0.792 total time=   0.2s\n",
      "[CV 4/5; 9/144] START boosting_type=gbdt, max_depth=-1, n_estimators=100, num_leaves=26\n",
      "[CV 4/5; 9/144] END boosting_type=gbdt, max_depth=-1, n_estimators=100, num_leaves=26;, score=0.801 total time=   0.2s\n",
      "[CV 5/5; 9/144] START boosting_type=gbdt, max_depth=-1, n_estimators=100, num_leaves=26\n",
      "[CV 5/5; 9/144] END boosting_type=gbdt, max_depth=-1, n_estimators=100, num_leaves=26;, score=0.808 total time=   0.2s\n",
      "[CV 1/5; 10/144] START boosting_type=gbdt, max_depth=-1, n_estimators=100, num_leaves=29\n",
      "[CV 1/5; 10/144] END boosting_type=gbdt, max_depth=-1, n_estimators=100, num_leaves=29;, score=0.783 total time=   0.2s\n",
      "[CV 2/5; 10/144] START boosting_type=gbdt, max_depth=-1, n_estimators=100, num_leaves=29\n",
      "[CV 2/5; 10/144] END boosting_type=gbdt, max_depth=-1, n_estimators=100, num_leaves=29;, score=0.799 total time=   0.2s\n",
      "[CV 3/5; 10/144] START boosting_type=gbdt, max_depth=-1, n_estimators=100, num_leaves=29\n",
      "[CV 3/5; 10/144] END boosting_type=gbdt, max_depth=-1, n_estimators=100, num_leaves=29;, score=0.794 total time=   0.2s\n",
      "[CV 4/5; 10/144] START boosting_type=gbdt, max_depth=-1, n_estimators=100, num_leaves=29\n",
      "[CV 4/5; 10/144] END boosting_type=gbdt, max_depth=-1, n_estimators=100, num_leaves=29;, score=0.799 total time=   0.2s\n",
      "[CV 5/5; 10/144] START boosting_type=gbdt, max_depth=-1, n_estimators=100, num_leaves=29\n",
      "[CV 5/5; 10/144] END boosting_type=gbdt, max_depth=-1, n_estimators=100, num_leaves=29;, score=0.804 total time=   0.2s\n",
      "[CV 1/5; 11/144] START boosting_type=gbdt, max_depth=-1, n_estimators=100, num_leaves=32\n",
      "[CV 1/5; 11/144] END boosting_type=gbdt, max_depth=-1, n_estimators=100, num_leaves=32;, score=0.776 total time=   0.2s\n",
      "[CV 2/5; 11/144] START boosting_type=gbdt, max_depth=-1, n_estimators=100, num_leaves=32\n",
      "[CV 2/5; 11/144] END boosting_type=gbdt, max_depth=-1, n_estimators=100, num_leaves=32;, score=0.799 total time=   0.2s\n",
      "[CV 3/5; 11/144] START boosting_type=gbdt, max_depth=-1, n_estimators=100, num_leaves=32\n",
      "[CV 3/5; 11/144] END boosting_type=gbdt, max_depth=-1, n_estimators=100, num_leaves=32;, score=0.792 total time=   0.2s\n",
      "[CV 4/5; 11/144] START boosting_type=gbdt, max_depth=-1, n_estimators=100, num_leaves=32\n",
      "[CV 4/5; 11/144] END boosting_type=gbdt, max_depth=-1, n_estimators=100, num_leaves=32;, score=0.799 total time=   0.2s\n",
      "[CV 5/5; 11/144] START boosting_type=gbdt, max_depth=-1, n_estimators=100, num_leaves=32\n",
      "[CV 5/5; 11/144] END boosting_type=gbdt, max_depth=-1, n_estimators=100, num_leaves=32;, score=0.802 total time=   0.2s\n",
      "[CV 1/5; 12/144] START boosting_type=gbdt, max_depth=-1, n_estimators=100, num_leaves=35\n",
      "[CV 1/5; 12/144] END boosting_type=gbdt, max_depth=-1, n_estimators=100, num_leaves=35;, score=0.786 total time=   0.2s\n",
      "[CV 2/5; 12/144] START boosting_type=gbdt, max_depth=-1, n_estimators=100, num_leaves=35\n",
      "[CV 2/5; 12/144] END boosting_type=gbdt, max_depth=-1, n_estimators=100, num_leaves=35;, score=0.799 total time=   0.2s\n",
      "[CV 3/5; 12/144] START boosting_type=gbdt, max_depth=-1, n_estimators=100, num_leaves=35\n",
      "[CV 3/5; 12/144] END boosting_type=gbdt, max_depth=-1, n_estimators=100, num_leaves=35;, score=0.794 total time=   0.2s\n",
      "[CV 4/5; 12/144] START boosting_type=gbdt, max_depth=-1, n_estimators=100, num_leaves=35\n",
      "[CV 4/5; 12/144] END boosting_type=gbdt, max_depth=-1, n_estimators=100, num_leaves=35;, score=0.791 total time=   0.3s\n",
      "[CV 5/5; 12/144] START boosting_type=gbdt, max_depth=-1, n_estimators=100, num_leaves=35\n",
      "[CV 5/5; 12/144] END boosting_type=gbdt, max_depth=-1, n_estimators=100, num_leaves=35;, score=0.805 total time=   0.2s\n",
      "[CV 1/5; 13/144] START boosting_type=gbdt, max_depth=-1, n_estimators=100, num_leaves=38\n",
      "[CV 1/5; 13/144] END boosting_type=gbdt, max_depth=-1, n_estimators=100, num_leaves=38;, score=0.781 total time=   0.2s\n",
      "[CV 2/5; 13/144] START boosting_type=gbdt, max_depth=-1, n_estimators=100, num_leaves=38\n",
      "[CV 2/5; 13/144] END boosting_type=gbdt, max_depth=-1, n_estimators=100, num_leaves=38;, score=0.800 total time=   0.2s\n",
      "[CV 3/5; 13/144] START boosting_type=gbdt, max_depth=-1, n_estimators=100, num_leaves=38\n",
      "[CV 3/5; 13/144] END boosting_type=gbdt, max_depth=-1, n_estimators=100, num_leaves=38;, score=0.794 total time=   0.2s\n",
      "[CV 4/5; 13/144] START boosting_type=gbdt, max_depth=-1, n_estimators=100, num_leaves=38\n",
      "[CV 4/5; 13/144] END boosting_type=gbdt, max_depth=-1, n_estimators=100, num_leaves=38;, score=0.795 total time=   0.2s\n",
      "[CV 5/5; 13/144] START boosting_type=gbdt, max_depth=-1, n_estimators=100, num_leaves=38\n",
      "[CV 5/5; 13/144] END boosting_type=gbdt, max_depth=-1, n_estimators=100, num_leaves=38;, score=0.806 total time=   0.2s\n",
      "[CV 1/5; 14/144] START boosting_type=gbdt, max_depth=-1, n_estimators=100, num_leaves=41\n",
      "[CV 1/5; 14/144] END boosting_type=gbdt, max_depth=-1, n_estimators=100, num_leaves=41;, score=0.782 total time=   0.3s\n",
      "[CV 2/5; 14/144] START boosting_type=gbdt, max_depth=-1, n_estimators=100, num_leaves=41\n",
      "[CV 2/5; 14/144] END boosting_type=gbdt, max_depth=-1, n_estimators=100, num_leaves=41;, score=0.804 total time=   0.2s\n",
      "[CV 3/5; 14/144] START boosting_type=gbdt, max_depth=-1, n_estimators=100, num_leaves=41\n",
      "[CV 3/5; 14/144] END boosting_type=gbdt, max_depth=-1, n_estimators=100, num_leaves=41;, score=0.784 total time=   0.3s\n",
      "[CV 4/5; 14/144] START boosting_type=gbdt, max_depth=-1, n_estimators=100, num_leaves=41\n",
      "[CV 4/5; 14/144] END boosting_type=gbdt, max_depth=-1, n_estimators=100, num_leaves=41;, score=0.788 total time=   0.2s\n",
      "[CV 5/5; 14/144] START boosting_type=gbdt, max_depth=-1, n_estimators=100, num_leaves=41\n",
      "[CV 5/5; 14/144] END boosting_type=gbdt, max_depth=-1, n_estimators=100, num_leaves=41;, score=0.802 total time=   0.4s\n",
      "[CV 1/5; 15/144] START boosting_type=gbdt, max_depth=-1, n_estimators=100, num_leaves=44\n",
      "[CV 1/5; 15/144] END boosting_type=gbdt, max_depth=-1, n_estimators=100, num_leaves=44;, score=0.777 total time=   0.3s\n",
      "[CV 2/5; 15/144] START boosting_type=gbdt, max_depth=-1, n_estimators=100, num_leaves=44\n",
      "[CV 2/5; 15/144] END boosting_type=gbdt, max_depth=-1, n_estimators=100, num_leaves=44;, score=0.801 total time=   0.3s\n",
      "[CV 3/5; 15/144] START boosting_type=gbdt, max_depth=-1, n_estimators=100, num_leaves=44\n",
      "[CV 3/5; 15/144] END boosting_type=gbdt, max_depth=-1, n_estimators=100, num_leaves=44;, score=0.782 total time=   0.2s\n",
      "[CV 4/5; 15/144] START boosting_type=gbdt, max_depth=-1, n_estimators=100, num_leaves=44\n",
      "[CV 4/5; 15/144] END boosting_type=gbdt, max_depth=-1, n_estimators=100, num_leaves=44;, score=0.791 total time=   0.2s\n",
      "[CV 5/5; 15/144] START boosting_type=gbdt, max_depth=-1, n_estimators=100, num_leaves=44\n",
      "[CV 5/5; 15/144] END boosting_type=gbdt, max_depth=-1, n_estimators=100, num_leaves=44;, score=0.802 total time=   0.3s\n",
      "[CV 1/5; 16/144] START boosting_type=gbdt, max_depth=-1, n_estimators=100, num_leaves=47\n",
      "[CV 1/5; 16/144] END boosting_type=gbdt, max_depth=-1, n_estimators=100, num_leaves=47;, score=0.776 total time=   0.2s\n",
      "[CV 2/5; 16/144] START boosting_type=gbdt, max_depth=-1, n_estimators=100, num_leaves=47\n",
      "[CV 2/5; 16/144] END boosting_type=gbdt, max_depth=-1, n_estimators=100, num_leaves=47;, score=0.802 total time=   0.2s\n",
      "[CV 3/5; 16/144] START boosting_type=gbdt, max_depth=-1, n_estimators=100, num_leaves=47\n",
      "[CV 3/5; 16/144] END boosting_type=gbdt, max_depth=-1, n_estimators=100, num_leaves=47;, score=0.781 total time=   0.3s\n",
      "[CV 4/5; 16/144] START boosting_type=gbdt, max_depth=-1, n_estimators=100, num_leaves=47\n",
      "[CV 4/5; 16/144] END boosting_type=gbdt, max_depth=-1, n_estimators=100, num_leaves=47;, score=0.795 total time=   0.2s\n",
      "[CV 5/5; 16/144] START boosting_type=gbdt, max_depth=-1, n_estimators=100, num_leaves=47\n",
      "[CV 5/5; 16/144] END boosting_type=gbdt, max_depth=-1, n_estimators=100, num_leaves=47;, score=0.796 total time=   0.2s\n",
      "[CV 1/5; 17/144] START boosting_type=gbdt, max_depth=-1, n_estimators=200, num_leaves=2\n",
      "[CV 1/5; 17/144] END boosting_type=gbdt, max_depth=-1, n_estimators=200, num_leaves=2;, score=0.779 total time=   0.1s\n",
      "[CV 2/5; 17/144] START boosting_type=gbdt, max_depth=-1, n_estimators=200, num_leaves=2\n",
      "[CV 2/5; 17/144] END boosting_type=gbdt, max_depth=-1, n_estimators=200, num_leaves=2;, score=0.799 total time=   0.1s\n",
      "[CV 3/5; 17/144] START boosting_type=gbdt, max_depth=-1, n_estimators=200, num_leaves=2\n",
      "[CV 3/5; 17/144] END boosting_type=gbdt, max_depth=-1, n_estimators=200, num_leaves=2;, score=0.792 total time=   0.1s\n",
      "[CV 4/5; 17/144] START boosting_type=gbdt, max_depth=-1, n_estimators=200, num_leaves=2\n",
      "[CV 4/5; 17/144] END boosting_type=gbdt, max_depth=-1, n_estimators=200, num_leaves=2;, score=0.787 total time=   0.1s\n",
      "[CV 5/5; 17/144] START boosting_type=gbdt, max_depth=-1, n_estimators=200, num_leaves=2\n",
      "[CV 5/5; 17/144] END boosting_type=gbdt, max_depth=-1, n_estimators=200, num_leaves=2;, score=0.804 total time=   0.1s\n",
      "[CV 1/5; 18/144] START boosting_type=gbdt, max_depth=-1, n_estimators=200, num_leaves=5\n",
      "[CV 1/5; 18/144] END boosting_type=gbdt, max_depth=-1, n_estimators=200, num_leaves=5;, score=0.786 total time=   0.1s\n",
      "[CV 2/5; 18/144] START boosting_type=gbdt, max_depth=-1, n_estimators=200, num_leaves=5\n",
      "[CV 2/5; 18/144] END boosting_type=gbdt, max_depth=-1, n_estimators=200, num_leaves=5;, score=0.807 total time=   0.1s\n",
      "[CV 3/5; 18/144] START boosting_type=gbdt, max_depth=-1, n_estimators=200, num_leaves=5\n",
      "[CV 3/5; 18/144] END boosting_type=gbdt, max_depth=-1, n_estimators=200, num_leaves=5;, score=0.797 total time=   0.2s\n",
      "[CV 4/5; 18/144] START boosting_type=gbdt, max_depth=-1, n_estimators=200, num_leaves=5\n",
      "[CV 4/5; 18/144] END boosting_type=gbdt, max_depth=-1, n_estimators=200, num_leaves=5;, score=0.798 total time=   0.1s\n",
      "[CV 5/5; 18/144] START boosting_type=gbdt, max_depth=-1, n_estimators=200, num_leaves=5\n",
      "[CV 5/5; 18/144] END boosting_type=gbdt, max_depth=-1, n_estimators=200, num_leaves=5;, score=0.806 total time=   0.2s\n",
      "[CV 1/5; 19/144] START boosting_type=gbdt, max_depth=-1, n_estimators=200, num_leaves=8\n",
      "[CV 1/5; 19/144] END boosting_type=gbdt, max_depth=-1, n_estimators=200, num_leaves=8;, score=0.783 total time=   0.3s\n",
      "[CV 2/5; 19/144] START boosting_type=gbdt, max_depth=-1, n_estimators=200, num_leaves=8\n",
      "[CV 2/5; 19/144] END boosting_type=gbdt, max_depth=-1, n_estimators=200, num_leaves=8;, score=0.802 total time=   0.2s\n",
      "[CV 3/5; 19/144] START boosting_type=gbdt, max_depth=-1, n_estimators=200, num_leaves=8\n",
      "[CV 3/5; 19/144] END boosting_type=gbdt, max_depth=-1, n_estimators=200, num_leaves=8;, score=0.792 total time=   0.4s\n",
      "[CV 4/5; 19/144] START boosting_type=gbdt, max_depth=-1, n_estimators=200, num_leaves=8\n",
      "[CV 4/5; 19/144] END boosting_type=gbdt, max_depth=-1, n_estimators=200, num_leaves=8;, score=0.795 total time=   0.2s\n",
      "[CV 5/5; 19/144] START boosting_type=gbdt, max_depth=-1, n_estimators=200, num_leaves=8\n",
      "[CV 5/5; 19/144] END boosting_type=gbdt, max_depth=-1, n_estimators=200, num_leaves=8;, score=0.804 total time=   0.2s\n",
      "[CV 1/5; 20/144] START boosting_type=gbdt, max_depth=-1, n_estimators=200, num_leaves=11\n",
      "[CV 1/5; 20/144] END boosting_type=gbdt, max_depth=-1, n_estimators=200, num_leaves=11;, score=0.781 total time=   0.2s\n",
      "[CV 2/5; 20/144] START boosting_type=gbdt, max_depth=-1, n_estimators=200, num_leaves=11\n",
      "[CV 2/5; 20/144] END boosting_type=gbdt, max_depth=-1, n_estimators=200, num_leaves=11;, score=0.799 total time=   0.2s\n",
      "[CV 3/5; 20/144] START boosting_type=gbdt, max_depth=-1, n_estimators=200, num_leaves=11\n",
      "[CV 3/5; 20/144] END boosting_type=gbdt, max_depth=-1, n_estimators=200, num_leaves=11;, score=0.792 total time=   0.2s\n",
      "[CV 4/5; 20/144] START boosting_type=gbdt, max_depth=-1, n_estimators=200, num_leaves=11\n",
      "[CV 4/5; 20/144] END boosting_type=gbdt, max_depth=-1, n_estimators=200, num_leaves=11;, score=0.794 total time=   0.2s\n",
      "[CV 5/5; 20/144] START boosting_type=gbdt, max_depth=-1, n_estimators=200, num_leaves=11\n",
      "[CV 5/5; 20/144] END boosting_type=gbdt, max_depth=-1, n_estimators=200, num_leaves=11;, score=0.806 total time=   0.2s\n",
      "[CV 1/5; 21/144] START boosting_type=gbdt, max_depth=-1, n_estimators=200, num_leaves=14\n",
      "[CV 1/5; 21/144] END boosting_type=gbdt, max_depth=-1, n_estimators=200, num_leaves=14;, score=0.781 total time=   0.2s\n",
      "[CV 2/5; 21/144] START boosting_type=gbdt, max_depth=-1, n_estimators=200, num_leaves=14\n",
      "[CV 2/5; 21/144] END boosting_type=gbdt, max_depth=-1, n_estimators=200, num_leaves=14;, score=0.802 total time=   0.2s\n",
      "[CV 3/5; 21/144] START boosting_type=gbdt, max_depth=-1, n_estimators=200, num_leaves=14\n",
      "[CV 3/5; 21/144] END boosting_type=gbdt, max_depth=-1, n_estimators=200, num_leaves=14;, score=0.787 total time=   0.2s\n",
      "[CV 4/5; 21/144] START boosting_type=gbdt, max_depth=-1, n_estimators=200, num_leaves=14\n",
      "[CV 4/5; 21/144] END boosting_type=gbdt, max_depth=-1, n_estimators=200, num_leaves=14;, score=0.801 total time=   0.2s\n",
      "[CV 5/5; 21/144] START boosting_type=gbdt, max_depth=-1, n_estimators=200, num_leaves=14\n",
      "[CV 5/5; 21/144] END boosting_type=gbdt, max_depth=-1, n_estimators=200, num_leaves=14;, score=0.801 total time=   0.2s\n",
      "[CV 1/5; 22/144] START boosting_type=gbdt, max_depth=-1, n_estimators=200, num_leaves=17\n",
      "[CV 1/5; 22/144] END boosting_type=gbdt, max_depth=-1, n_estimators=200, num_leaves=17;, score=0.779 total time=   0.2s\n",
      "[CV 2/5; 22/144] START boosting_type=gbdt, max_depth=-1, n_estimators=200, num_leaves=17\n",
      "[CV 2/5; 22/144] END boosting_type=gbdt, max_depth=-1, n_estimators=200, num_leaves=17;, score=0.802 total time=   0.2s\n",
      "[CV 3/5; 22/144] START boosting_type=gbdt, max_depth=-1, n_estimators=200, num_leaves=17\n",
      "[CV 3/5; 22/144] END boosting_type=gbdt, max_depth=-1, n_estimators=200, num_leaves=17;, score=0.784 total time=   0.2s\n",
      "[CV 4/5; 22/144] START boosting_type=gbdt, max_depth=-1, n_estimators=200, num_leaves=17\n",
      "[CV 4/5; 22/144] END boosting_type=gbdt, max_depth=-1, n_estimators=200, num_leaves=17;, score=0.799 total time=   0.2s\n",
      "[CV 5/5; 22/144] START boosting_type=gbdt, max_depth=-1, n_estimators=200, num_leaves=17\n",
      "[CV 5/5; 22/144] END boosting_type=gbdt, max_depth=-1, n_estimators=200, num_leaves=17;, score=0.805 total time=   0.2s\n",
      "[CV 1/5; 23/144] START boosting_type=gbdt, max_depth=-1, n_estimators=200, num_leaves=20\n",
      "[CV 1/5; 23/144] END boosting_type=gbdt, max_depth=-1, n_estimators=200, num_leaves=20;, score=0.778 total time=   0.2s\n",
      "[CV 2/5; 23/144] START boosting_type=gbdt, max_depth=-1, n_estimators=200, num_leaves=20\n",
      "[CV 2/5; 23/144] END boosting_type=gbdt, max_depth=-1, n_estimators=200, num_leaves=20;, score=0.804 total time=   0.2s\n",
      "[CV 3/5; 23/144] START boosting_type=gbdt, max_depth=-1, n_estimators=200, num_leaves=20\n",
      "[CV 3/5; 23/144] END boosting_type=gbdt, max_depth=-1, n_estimators=200, num_leaves=20;, score=0.787 total time=   0.2s\n",
      "[CV 4/5; 23/144] START boosting_type=gbdt, max_depth=-1, n_estimators=200, num_leaves=20\n",
      "[CV 4/5; 23/144] END boosting_type=gbdt, max_depth=-1, n_estimators=200, num_leaves=20;, score=0.795 total time=   0.2s\n",
      "[CV 5/5; 23/144] START boosting_type=gbdt, max_depth=-1, n_estimators=200, num_leaves=20\n",
      "[CV 5/5; 23/144] END boosting_type=gbdt, max_depth=-1, n_estimators=200, num_leaves=20;, score=0.799 total time=   0.3s\n",
      "[CV 1/5; 24/144] START boosting_type=gbdt, max_depth=-1, n_estimators=200, num_leaves=23\n",
      "[CV 1/5; 24/144] END boosting_type=gbdt, max_depth=-1, n_estimators=200, num_leaves=23;, score=0.785 total time=   0.3s\n",
      "[CV 2/5; 24/144] START boosting_type=gbdt, max_depth=-1, n_estimators=200, num_leaves=23\n",
      "[CV 2/5; 24/144] END boosting_type=gbdt, max_depth=-1, n_estimators=200, num_leaves=23;, score=0.794 total time=   0.2s\n",
      "[CV 3/5; 24/144] START boosting_type=gbdt, max_depth=-1, n_estimators=200, num_leaves=23\n",
      "[CV 3/5; 24/144] END boosting_type=gbdt, max_depth=-1, n_estimators=200, num_leaves=23;, score=0.785 total time=   0.3s\n",
      "[CV 4/5; 24/144] START boosting_type=gbdt, max_depth=-1, n_estimators=200, num_leaves=23\n",
      "[CV 4/5; 24/144] END boosting_type=gbdt, max_depth=-1, n_estimators=200, num_leaves=23;, score=0.794 total time=   0.3s\n",
      "[CV 5/5; 24/144] START boosting_type=gbdt, max_depth=-1, n_estimators=200, num_leaves=23\n",
      "[CV 5/5; 24/144] END boosting_type=gbdt, max_depth=-1, n_estimators=200, num_leaves=23;, score=0.796 total time=   0.4s\n",
      "[CV 1/5; 25/144] START boosting_type=gbdt, max_depth=-1, n_estimators=200, num_leaves=26\n",
      "[CV 1/5; 25/144] END boosting_type=gbdt, max_depth=-1, n_estimators=200, num_leaves=26;, score=0.781 total time=   0.3s\n",
      "[CV 2/5; 25/144] START boosting_type=gbdt, max_depth=-1, n_estimators=200, num_leaves=26\n",
      "[CV 2/5; 25/144] END boosting_type=gbdt, max_depth=-1, n_estimators=200, num_leaves=26;, score=0.797 total time=   0.3s\n",
      "[CV 3/5; 25/144] START boosting_type=gbdt, max_depth=-1, n_estimators=200, num_leaves=26\n",
      "[CV 3/5; 25/144] END boosting_type=gbdt, max_depth=-1, n_estimators=200, num_leaves=26;, score=0.786 total time=   0.3s\n",
      "[CV 4/5; 25/144] START boosting_type=gbdt, max_depth=-1, n_estimators=200, num_leaves=26\n",
      "[CV 4/5; 25/144] END boosting_type=gbdt, max_depth=-1, n_estimators=200, num_leaves=26;, score=0.792 total time=   0.3s\n",
      "[CV 5/5; 25/144] START boosting_type=gbdt, max_depth=-1, n_estimators=200, num_leaves=26\n",
      "[CV 5/5; 25/144] END boosting_type=gbdt, max_depth=-1, n_estimators=200, num_leaves=26;, score=0.801 total time=   0.3s\n",
      "[CV 1/5; 26/144] START boosting_type=gbdt, max_depth=-1, n_estimators=200, num_leaves=29\n",
      "[CV 1/5; 26/144] END boosting_type=gbdt, max_depth=-1, n_estimators=200, num_leaves=29;, score=0.784 total time=   0.3s\n",
      "[CV 2/5; 26/144] START boosting_type=gbdt, max_depth=-1, n_estimators=200, num_leaves=29\n",
      "[CV 2/5; 26/144] END boosting_type=gbdt, max_depth=-1, n_estimators=200, num_leaves=29;, score=0.799 total time=   0.3s\n",
      "[CV 3/5; 26/144] START boosting_type=gbdt, max_depth=-1, n_estimators=200, num_leaves=29\n",
      "[CV 3/5; 26/144] END boosting_type=gbdt, max_depth=-1, n_estimators=200, num_leaves=29;, score=0.779 total time=   0.3s\n",
      "[CV 4/5; 26/144] START boosting_type=gbdt, max_depth=-1, n_estimators=200, num_leaves=29\n",
      "[CV 4/5; 26/144] END boosting_type=gbdt, max_depth=-1, n_estimators=200, num_leaves=29;, score=0.791 total time=   0.3s\n",
      "[CV 5/5; 26/144] START boosting_type=gbdt, max_depth=-1, n_estimators=200, num_leaves=29\n",
      "[CV 5/5; 26/144] END boosting_type=gbdt, max_depth=-1, n_estimators=200, num_leaves=29;, score=0.799 total time=   0.4s\n",
      "[CV 1/5; 27/144] START boosting_type=gbdt, max_depth=-1, n_estimators=200, num_leaves=32\n",
      "[CV 1/5; 27/144] END boosting_type=gbdt, max_depth=-1, n_estimators=200, num_leaves=32;, score=0.780 total time=   0.3s\n",
      "[CV 2/5; 27/144] START boosting_type=gbdt, max_depth=-1, n_estimators=200, num_leaves=32\n",
      "[CV 2/5; 27/144] END boosting_type=gbdt, max_depth=-1, n_estimators=200, num_leaves=32;, score=0.804 total time=   0.3s\n",
      "[CV 3/5; 27/144] START boosting_type=gbdt, max_depth=-1, n_estimators=200, num_leaves=32\n",
      "[CV 3/5; 27/144] END boosting_type=gbdt, max_depth=-1, n_estimators=200, num_leaves=32;, score=0.781 total time=   0.3s\n",
      "[CV 4/5; 27/144] START boosting_type=gbdt, max_depth=-1, n_estimators=200, num_leaves=32\n",
      "[CV 4/5; 27/144] END boosting_type=gbdt, max_depth=-1, n_estimators=200, num_leaves=32;, score=0.784 total time=   0.3s\n",
      "[CV 5/5; 27/144] START boosting_type=gbdt, max_depth=-1, n_estimators=200, num_leaves=32\n",
      "[CV 5/5; 27/144] END boosting_type=gbdt, max_depth=-1, n_estimators=200, num_leaves=32;, score=0.797 total time=   0.3s\n",
      "[CV 1/5; 28/144] START boosting_type=gbdt, max_depth=-1, n_estimators=200, num_leaves=35\n",
      "[CV 1/5; 28/144] END boosting_type=gbdt, max_depth=-1, n_estimators=200, num_leaves=35;, score=0.779 total time=   0.3s\n",
      "[CV 2/5; 28/144] START boosting_type=gbdt, max_depth=-1, n_estimators=200, num_leaves=35\n",
      "[CV 2/5; 28/144] END boosting_type=gbdt, max_depth=-1, n_estimators=200, num_leaves=35;, score=0.792 total time=   0.3s\n",
      "[CV 3/5; 28/144] START boosting_type=gbdt, max_depth=-1, n_estimators=200, num_leaves=35\n",
      "[CV 3/5; 28/144] END boosting_type=gbdt, max_depth=-1, n_estimators=200, num_leaves=35;, score=0.785 total time=   0.3s\n",
      "[CV 4/5; 28/144] START boosting_type=gbdt, max_depth=-1, n_estimators=200, num_leaves=35\n",
      "[CV 4/5; 28/144] END boosting_type=gbdt, max_depth=-1, n_estimators=200, num_leaves=35;, score=0.789 total time=   0.4s\n",
      "[CV 5/5; 28/144] START boosting_type=gbdt, max_depth=-1, n_estimators=200, num_leaves=35\n",
      "[CV 5/5; 28/144] END boosting_type=gbdt, max_depth=-1, n_estimators=200, num_leaves=35;, score=0.791 total time=   0.3s\n",
      "[CV 1/5; 29/144] START boosting_type=gbdt, max_depth=-1, n_estimators=200, num_leaves=38\n",
      "[CV 1/5; 29/144] END boosting_type=gbdt, max_depth=-1, n_estimators=200, num_leaves=38;, score=0.774 total time=   0.4s\n",
      "[CV 2/5; 29/144] START boosting_type=gbdt, max_depth=-1, n_estimators=200, num_leaves=38\n",
      "[CV 2/5; 29/144] END boosting_type=gbdt, max_depth=-1, n_estimators=200, num_leaves=38;, score=0.798 total time=   0.4s\n",
      "[CV 3/5; 29/144] START boosting_type=gbdt, max_depth=-1, n_estimators=200, num_leaves=38\n",
      "[CV 3/5; 29/144] END boosting_type=gbdt, max_depth=-1, n_estimators=200, num_leaves=38;, score=0.776 total time=   0.3s\n",
      "[CV 4/5; 29/144] START boosting_type=gbdt, max_depth=-1, n_estimators=200, num_leaves=38\n",
      "[CV 4/5; 29/144] END boosting_type=gbdt, max_depth=-1, n_estimators=200, num_leaves=38;, score=0.783 total time=   0.4s\n",
      "[CV 5/5; 29/144] START boosting_type=gbdt, max_depth=-1, n_estimators=200, num_leaves=38\n",
      "[CV 5/5; 29/144] END boosting_type=gbdt, max_depth=-1, n_estimators=200, num_leaves=38;, score=0.796 total time=   0.3s\n",
      "[CV 1/5; 30/144] START boosting_type=gbdt, max_depth=-1, n_estimators=200, num_leaves=41\n",
      "[CV 1/5; 30/144] END boosting_type=gbdt, max_depth=-1, n_estimators=200, num_leaves=41;, score=0.781 total time=   0.4s\n",
      "[CV 2/5; 30/144] START boosting_type=gbdt, max_depth=-1, n_estimators=200, num_leaves=41\n",
      "[CV 2/5; 30/144] END boosting_type=gbdt, max_depth=-1, n_estimators=200, num_leaves=41;, score=0.800 total time=   0.3s\n",
      "[CV 3/5; 30/144] START boosting_type=gbdt, max_depth=-1, n_estimators=200, num_leaves=41\n",
      "[CV 3/5; 30/144] END boosting_type=gbdt, max_depth=-1, n_estimators=200, num_leaves=41;, score=0.778 total time=   0.4s\n",
      "[CV 4/5; 30/144] START boosting_type=gbdt, max_depth=-1, n_estimators=200, num_leaves=41\n",
      "[CV 4/5; 30/144] END boosting_type=gbdt, max_depth=-1, n_estimators=200, num_leaves=41;, score=0.782 total time=   0.4s\n",
      "[CV 5/5; 30/144] START boosting_type=gbdt, max_depth=-1, n_estimators=200, num_leaves=41\n",
      "[CV 5/5; 30/144] END boosting_type=gbdt, max_depth=-1, n_estimators=200, num_leaves=41;, score=0.794 total time=   0.4s\n",
      "[CV 1/5; 31/144] START boosting_type=gbdt, max_depth=-1, n_estimators=200, num_leaves=44\n",
      "[CV 1/5; 31/144] END boosting_type=gbdt, max_depth=-1, n_estimators=200, num_leaves=44;, score=0.771 total time=   0.4s\n",
      "[CV 2/5; 31/144] START boosting_type=gbdt, max_depth=-1, n_estimators=200, num_leaves=44\n",
      "[CV 2/5; 31/144] END boosting_type=gbdt, max_depth=-1, n_estimators=200, num_leaves=44;, score=0.794 total time=   0.3s\n",
      "[CV 3/5; 31/144] START boosting_type=gbdt, max_depth=-1, n_estimators=200, num_leaves=44\n",
      "[CV 3/5; 31/144] END boosting_type=gbdt, max_depth=-1, n_estimators=200, num_leaves=44;, score=0.779 total time=   0.4s\n",
      "[CV 4/5; 31/144] START boosting_type=gbdt, max_depth=-1, n_estimators=200, num_leaves=44\n",
      "[CV 4/5; 31/144] END boosting_type=gbdt, max_depth=-1, n_estimators=200, num_leaves=44;, score=0.784 total time=   0.4s\n",
      "[CV 5/5; 31/144] START boosting_type=gbdt, max_depth=-1, n_estimators=200, num_leaves=44\n",
      "[CV 5/5; 31/144] END boosting_type=gbdt, max_depth=-1, n_estimators=200, num_leaves=44;, score=0.794 total time=   0.4s\n",
      "[CV 1/5; 32/144] START boosting_type=gbdt, max_depth=-1, n_estimators=200, num_leaves=47\n",
      "[CV 1/5; 32/144] END boosting_type=gbdt, max_depth=-1, n_estimators=200, num_leaves=47;, score=0.775 total time=   0.4s\n",
      "[CV 2/5; 32/144] START boosting_type=gbdt, max_depth=-1, n_estimators=200, num_leaves=47\n",
      "[CV 2/5; 32/144] END boosting_type=gbdt, max_depth=-1, n_estimators=200, num_leaves=47;, score=0.790 total time=   0.4s\n",
      "[CV 3/5; 32/144] START boosting_type=gbdt, max_depth=-1, n_estimators=200, num_leaves=47\n",
      "[CV 3/5; 32/144] END boosting_type=gbdt, max_depth=-1, n_estimators=200, num_leaves=47;, score=0.779 total time=   0.4s\n",
      "[CV 4/5; 32/144] START boosting_type=gbdt, max_depth=-1, n_estimators=200, num_leaves=47\n",
      "[CV 4/5; 32/144] END boosting_type=gbdt, max_depth=-1, n_estimators=200, num_leaves=47;, score=0.785 total time=   0.4s\n",
      "[CV 5/5; 32/144] START boosting_type=gbdt, max_depth=-1, n_estimators=200, num_leaves=47\n",
      "[CV 5/5; 32/144] END boosting_type=gbdt, max_depth=-1, n_estimators=200, num_leaves=47;, score=0.791 total time=   0.4s\n",
      "[CV 1/5; 33/144] START boosting_type=gbdt, max_depth=-1, n_estimators=300, num_leaves=2\n",
      "[CV 1/5; 33/144] END boosting_type=gbdt, max_depth=-1, n_estimators=300, num_leaves=2;, score=0.781 total time=   0.1s\n",
      "[CV 2/5; 33/144] START boosting_type=gbdt, max_depth=-1, n_estimators=300, num_leaves=2\n",
      "[CV 2/5; 33/144] END boosting_type=gbdt, max_depth=-1, n_estimators=300, num_leaves=2;, score=0.801 total time=   0.1s\n",
      "[CV 3/5; 33/144] START boosting_type=gbdt, max_depth=-1, n_estimators=300, num_leaves=2\n",
      "[CV 3/5; 33/144] END boosting_type=gbdt, max_depth=-1, n_estimators=300, num_leaves=2;, score=0.792 total time=   0.1s\n",
      "[CV 4/5; 33/144] START boosting_type=gbdt, max_depth=-1, n_estimators=300, num_leaves=2\n",
      "[CV 4/5; 33/144] END boosting_type=gbdt, max_depth=-1, n_estimators=300, num_leaves=2;, score=0.789 total time=   0.1s\n",
      "[CV 5/5; 33/144] START boosting_type=gbdt, max_depth=-1, n_estimators=300, num_leaves=2\n",
      "[CV 5/5; 33/144] END boosting_type=gbdt, max_depth=-1, n_estimators=300, num_leaves=2;, score=0.804 total time=   0.1s\n",
      "[CV 1/5; 34/144] START boosting_type=gbdt, max_depth=-1, n_estimators=300, num_leaves=5\n",
      "[CV 1/5; 34/144] END boosting_type=gbdt, max_depth=-1, n_estimators=300, num_leaves=5;, score=0.787 total time=   0.3s\n",
      "[CV 2/5; 34/144] START boosting_type=gbdt, max_depth=-1, n_estimators=300, num_leaves=5\n",
      "[CV 2/5; 34/144] END boosting_type=gbdt, max_depth=-1, n_estimators=300, num_leaves=5;, score=0.803 total time=   0.2s\n",
      "[CV 3/5; 34/144] START boosting_type=gbdt, max_depth=-1, n_estimators=300, num_leaves=5\n",
      "[CV 3/5; 34/144] END boosting_type=gbdt, max_depth=-1, n_estimators=300, num_leaves=5;, score=0.794 total time=   0.2s\n",
      "[CV 4/5; 34/144] START boosting_type=gbdt, max_depth=-1, n_estimators=300, num_leaves=5\n",
      "[CV 4/5; 34/144] END boosting_type=gbdt, max_depth=-1, n_estimators=300, num_leaves=5;, score=0.802 total time=   0.2s\n",
      "[CV 5/5; 34/144] START boosting_type=gbdt, max_depth=-1, n_estimators=300, num_leaves=5\n",
      "[CV 5/5; 34/144] END boosting_type=gbdt, max_depth=-1, n_estimators=300, num_leaves=5;, score=0.800 total time=   0.2s\n",
      "[CV 1/5; 35/144] START boosting_type=gbdt, max_depth=-1, n_estimators=300, num_leaves=8\n",
      "[CV 1/5; 35/144] END boosting_type=gbdt, max_depth=-1, n_estimators=300, num_leaves=8;, score=0.782 total time=   0.2s\n",
      "[CV 2/5; 35/144] START boosting_type=gbdt, max_depth=-1, n_estimators=300, num_leaves=8\n",
      "[CV 2/5; 35/144] END boosting_type=gbdt, max_depth=-1, n_estimators=300, num_leaves=8;, score=0.797 total time=   0.2s\n",
      "[CV 3/5; 35/144] START boosting_type=gbdt, max_depth=-1, n_estimators=300, num_leaves=8\n",
      "[CV 3/5; 35/144] END boosting_type=gbdt, max_depth=-1, n_estimators=300, num_leaves=8;, score=0.789 total time=   0.2s\n",
      "[CV 4/5; 35/144] START boosting_type=gbdt, max_depth=-1, n_estimators=300, num_leaves=8\n",
      "[CV 4/5; 35/144] END boosting_type=gbdt, max_depth=-1, n_estimators=300, num_leaves=8;, score=0.794 total time=   0.2s\n",
      "[CV 5/5; 35/144] START boosting_type=gbdt, max_depth=-1, n_estimators=300, num_leaves=8\n",
      "[CV 5/5; 35/144] END boosting_type=gbdt, max_depth=-1, n_estimators=300, num_leaves=8;, score=0.801 total time=   0.3s\n",
      "[CV 1/5; 36/144] START boosting_type=gbdt, max_depth=-1, n_estimators=300, num_leaves=11\n",
      "[CV 1/5; 36/144] END boosting_type=gbdt, max_depth=-1, n_estimators=300, num_leaves=11;, score=0.778 total time=   0.5s\n",
      "[CV 2/5; 36/144] START boosting_type=gbdt, max_depth=-1, n_estimators=300, num_leaves=11\n",
      "[CV 2/5; 36/144] END boosting_type=gbdt, max_depth=-1, n_estimators=300, num_leaves=11;, score=0.796 total time=   0.3s\n",
      "[CV 3/5; 36/144] START boosting_type=gbdt, max_depth=-1, n_estimators=300, num_leaves=11\n",
      "[CV 3/5; 36/144] END boosting_type=gbdt, max_depth=-1, n_estimators=300, num_leaves=11;, score=0.786 total time=   0.3s\n",
      "[CV 4/5; 36/144] START boosting_type=gbdt, max_depth=-1, n_estimators=300, num_leaves=11\n",
      "[CV 4/5; 36/144] END boosting_type=gbdt, max_depth=-1, n_estimators=300, num_leaves=11;, score=0.794 total time=   0.2s\n",
      "[CV 5/5; 36/144] START boosting_type=gbdt, max_depth=-1, n_estimators=300, num_leaves=11\n",
      "[CV 5/5; 36/144] END boosting_type=gbdt, max_depth=-1, n_estimators=300, num_leaves=11;, score=0.797 total time=   0.2s\n",
      "[CV 1/5; 37/144] START boosting_type=gbdt, max_depth=-1, n_estimators=300, num_leaves=14\n",
      "[CV 1/5; 37/144] END boosting_type=gbdt, max_depth=-1, n_estimators=300, num_leaves=14;, score=0.778 total time=   0.2s\n",
      "[CV 2/5; 37/144] START boosting_type=gbdt, max_depth=-1, n_estimators=300, num_leaves=14\n",
      "[CV 2/5; 37/144] END boosting_type=gbdt, max_depth=-1, n_estimators=300, num_leaves=14;, score=0.797 total time=   0.3s\n",
      "[CV 3/5; 37/144] START boosting_type=gbdt, max_depth=-1, n_estimators=300, num_leaves=14\n",
      "[CV 3/5; 37/144] END boosting_type=gbdt, max_depth=-1, n_estimators=300, num_leaves=14;, score=0.787 total time=   0.2s\n",
      "[CV 4/5; 37/144] START boosting_type=gbdt, max_depth=-1, n_estimators=300, num_leaves=14\n",
      "[CV 4/5; 37/144] END boosting_type=gbdt, max_depth=-1, n_estimators=300, num_leaves=14;, score=0.797 total time=   0.2s\n",
      "[CV 5/5; 37/144] START boosting_type=gbdt, max_depth=-1, n_estimators=300, num_leaves=14\n",
      "[CV 5/5; 37/144] END boosting_type=gbdt, max_depth=-1, n_estimators=300, num_leaves=14;, score=0.801 total time=   0.2s\n",
      "[CV 1/5; 38/144] START boosting_type=gbdt, max_depth=-1, n_estimators=300, num_leaves=17\n",
      "[CV 1/5; 38/144] END boosting_type=gbdt, max_depth=-1, n_estimators=300, num_leaves=17;, score=0.776 total time=   0.3s\n",
      "[CV 2/5; 38/144] START boosting_type=gbdt, max_depth=-1, n_estimators=300, num_leaves=17\n",
      "[CV 2/5; 38/144] END boosting_type=gbdt, max_depth=-1, n_estimators=300, num_leaves=17;, score=0.796 total time=   0.3s\n",
      "[CV 3/5; 38/144] START boosting_type=gbdt, max_depth=-1, n_estimators=300, num_leaves=17\n",
      "[CV 3/5; 38/144] END boosting_type=gbdt, max_depth=-1, n_estimators=300, num_leaves=17;, score=0.783 total time=   0.3s\n",
      "[CV 4/5; 38/144] START boosting_type=gbdt, max_depth=-1, n_estimators=300, num_leaves=17\n",
      "[CV 4/5; 38/144] END boosting_type=gbdt, max_depth=-1, n_estimators=300, num_leaves=17;, score=0.799 total time=   0.3s\n",
      "[CV 5/5; 38/144] START boosting_type=gbdt, max_depth=-1, n_estimators=300, num_leaves=17\n",
      "[CV 5/5; 38/144] END boosting_type=gbdt, max_depth=-1, n_estimators=300, num_leaves=17;, score=0.798 total time=   0.3s\n",
      "[CV 1/5; 39/144] START boosting_type=gbdt, max_depth=-1, n_estimators=300, num_leaves=20\n",
      "[CV 1/5; 39/144] END boosting_type=gbdt, max_depth=-1, n_estimators=300, num_leaves=20;, score=0.779 total time=   0.3s\n",
      "[CV 2/5; 39/144] START boosting_type=gbdt, max_depth=-1, n_estimators=300, num_leaves=20\n",
      "[CV 2/5; 39/144] END boosting_type=gbdt, max_depth=-1, n_estimators=300, num_leaves=20;, score=0.797 total time=   0.3s\n",
      "[CV 3/5; 39/144] START boosting_type=gbdt, max_depth=-1, n_estimators=300, num_leaves=20\n",
      "[CV 3/5; 39/144] END boosting_type=gbdt, max_depth=-1, n_estimators=300, num_leaves=20;, score=0.783 total time=   0.3s\n",
      "[CV 4/5; 39/144] START boosting_type=gbdt, max_depth=-1, n_estimators=300, num_leaves=20\n",
      "[CV 4/5; 39/144] END boosting_type=gbdt, max_depth=-1, n_estimators=300, num_leaves=20;, score=0.790 total time=   0.3s\n",
      "[CV 5/5; 39/144] START boosting_type=gbdt, max_depth=-1, n_estimators=300, num_leaves=20\n",
      "[CV 5/5; 39/144] END boosting_type=gbdt, max_depth=-1, n_estimators=300, num_leaves=20;, score=0.798 total time=   0.3s\n",
      "[CV 1/5; 40/144] START boosting_type=gbdt, max_depth=-1, n_estimators=300, num_leaves=23\n",
      "[CV 1/5; 40/144] END boosting_type=gbdt, max_depth=-1, n_estimators=300, num_leaves=23;, score=0.779 total time=   0.3s\n",
      "[CV 2/5; 40/144] START boosting_type=gbdt, max_depth=-1, n_estimators=300, num_leaves=23\n",
      "[CV 2/5; 40/144] END boosting_type=gbdt, max_depth=-1, n_estimators=300, num_leaves=23;, score=0.794 total time=   0.4s\n",
      "[CV 3/5; 40/144] START boosting_type=gbdt, max_depth=-1, n_estimators=300, num_leaves=23\n",
      "[CV 3/5; 40/144] END boosting_type=gbdt, max_depth=-1, n_estimators=300, num_leaves=23;, score=0.786 total time=   0.5s\n",
      "[CV 4/5; 40/144] START boosting_type=gbdt, max_depth=-1, n_estimators=300, num_leaves=23\n",
      "[CV 4/5; 40/144] END boosting_type=gbdt, max_depth=-1, n_estimators=300, num_leaves=23;, score=0.789 total time=   0.4s\n",
      "[CV 5/5; 40/144] START boosting_type=gbdt, max_depth=-1, n_estimators=300, num_leaves=23\n",
      "[CV 5/5; 40/144] END boosting_type=gbdt, max_depth=-1, n_estimators=300, num_leaves=23;, score=0.796 total time=   0.5s\n",
      "[CV 1/5; 41/144] START boosting_type=gbdt, max_depth=-1, n_estimators=300, num_leaves=26\n",
      "[CV 1/5; 41/144] END boosting_type=gbdt, max_depth=-1, n_estimators=300, num_leaves=26;, score=0.781 total time=   0.4s\n",
      "[CV 2/5; 41/144] START boosting_type=gbdt, max_depth=-1, n_estimators=300, num_leaves=26\n",
      "[CV 2/5; 41/144] END boosting_type=gbdt, max_depth=-1, n_estimators=300, num_leaves=26;, score=0.795 total time=   0.4s\n",
      "[CV 3/5; 41/144] START boosting_type=gbdt, max_depth=-1, n_estimators=300, num_leaves=26\n",
      "[CV 3/5; 41/144] END boosting_type=gbdt, max_depth=-1, n_estimators=300, num_leaves=26;, score=0.779 total time=   0.4s\n",
      "[CV 4/5; 41/144] START boosting_type=gbdt, max_depth=-1, n_estimators=300, num_leaves=26\n",
      "[CV 4/5; 41/144] END boosting_type=gbdt, max_depth=-1, n_estimators=300, num_leaves=26;, score=0.792 total time=   0.4s\n",
      "[CV 5/5; 41/144] START boosting_type=gbdt, max_depth=-1, n_estimators=300, num_leaves=26\n",
      "[CV 5/5; 41/144] END boosting_type=gbdt, max_depth=-1, n_estimators=300, num_leaves=26;, score=0.796 total time=   0.5s\n",
      "[CV 1/5; 42/144] START boosting_type=gbdt, max_depth=-1, n_estimators=300, num_leaves=29\n",
      "[CV 1/5; 42/144] END boosting_type=gbdt, max_depth=-1, n_estimators=300, num_leaves=29;, score=0.778 total time=   0.5s\n",
      "[CV 2/5; 42/144] START boosting_type=gbdt, max_depth=-1, n_estimators=300, num_leaves=29\n",
      "[CV 2/5; 42/144] END boosting_type=gbdt, max_depth=-1, n_estimators=300, num_leaves=29;, score=0.793 total time=   0.4s\n",
      "[CV 3/5; 42/144] START boosting_type=gbdt, max_depth=-1, n_estimators=300, num_leaves=29\n",
      "[CV 3/5; 42/144] END boosting_type=gbdt, max_depth=-1, n_estimators=300, num_leaves=29;, score=0.774 total time=   0.4s\n",
      "[CV 4/5; 42/144] START boosting_type=gbdt, max_depth=-1, n_estimators=300, num_leaves=29\n",
      "[CV 4/5; 42/144] END boosting_type=gbdt, max_depth=-1, n_estimators=300, num_leaves=29;, score=0.785 total time=   0.5s\n",
      "[CV 5/5; 42/144] START boosting_type=gbdt, max_depth=-1, n_estimators=300, num_leaves=29\n",
      "[CV 5/5; 42/144] END boosting_type=gbdt, max_depth=-1, n_estimators=300, num_leaves=29;, score=0.797 total time=   0.4s\n",
      "[CV 1/5; 43/144] START boosting_type=gbdt, max_depth=-1, n_estimators=300, num_leaves=32\n",
      "[CV 1/5; 43/144] END boosting_type=gbdt, max_depth=-1, n_estimators=300, num_leaves=32;, score=0.778 total time=   0.5s\n",
      "[CV 2/5; 43/144] START boosting_type=gbdt, max_depth=-1, n_estimators=300, num_leaves=32\n",
      "[CV 2/5; 43/144] END boosting_type=gbdt, max_depth=-1, n_estimators=300, num_leaves=32;, score=0.794 total time=   0.5s\n",
      "[CV 3/5; 43/144] START boosting_type=gbdt, max_depth=-1, n_estimators=300, num_leaves=32\n",
      "[CV 3/5; 43/144] END boosting_type=gbdt, max_depth=-1, n_estimators=300, num_leaves=32;, score=0.782 total time=   0.5s\n",
      "[CV 4/5; 43/144] START boosting_type=gbdt, max_depth=-1, n_estimators=300, num_leaves=32\n",
      "[CV 4/5; 43/144] END boosting_type=gbdt, max_depth=-1, n_estimators=300, num_leaves=32;, score=0.784 total time=   0.5s\n",
      "[CV 5/5; 43/144] START boosting_type=gbdt, max_depth=-1, n_estimators=300, num_leaves=32\n",
      "[CV 5/5; 43/144] END boosting_type=gbdt, max_depth=-1, n_estimators=300, num_leaves=32;, score=0.796 total time=   0.6s\n",
      "[CV 1/5; 44/144] START boosting_type=gbdt, max_depth=-1, n_estimators=300, num_leaves=35\n",
      "[CV 1/5; 44/144] END boosting_type=gbdt, max_depth=-1, n_estimators=300, num_leaves=35;, score=0.766 total time=   0.5s\n",
      "[CV 2/5; 44/144] START boosting_type=gbdt, max_depth=-1, n_estimators=300, num_leaves=35\n",
      "[CV 2/5; 44/144] END boosting_type=gbdt, max_depth=-1, n_estimators=300, num_leaves=35;, score=0.792 total time=   0.5s\n",
      "[CV 3/5; 44/144] START boosting_type=gbdt, max_depth=-1, n_estimators=300, num_leaves=35\n",
      "[CV 3/5; 44/144] END boosting_type=gbdt, max_depth=-1, n_estimators=300, num_leaves=35;, score=0.776 total time=   0.5s\n",
      "[CV 4/5; 44/144] START boosting_type=gbdt, max_depth=-1, n_estimators=300, num_leaves=35\n",
      "[CV 4/5; 44/144] END boosting_type=gbdt, max_depth=-1, n_estimators=300, num_leaves=35;, score=0.784 total time=   0.5s\n",
      "[CV 5/5; 44/144] START boosting_type=gbdt, max_depth=-1, n_estimators=300, num_leaves=35\n",
      "[CV 5/5; 44/144] END boosting_type=gbdt, max_depth=-1, n_estimators=300, num_leaves=35;, score=0.795 total time=   0.5s\n",
      "[CV 1/5; 45/144] START boosting_type=gbdt, max_depth=-1, n_estimators=300, num_leaves=38\n",
      "[CV 1/5; 45/144] END boosting_type=gbdt, max_depth=-1, n_estimators=300, num_leaves=38;, score=0.771 total time=   0.8s\n",
      "[CV 2/5; 45/144] START boosting_type=gbdt, max_depth=-1, n_estimators=300, num_leaves=38\n",
      "[CV 2/5; 45/144] END boosting_type=gbdt, max_depth=-1, n_estimators=300, num_leaves=38;, score=0.793 total time=   0.6s\n",
      "[CV 3/5; 45/144] START boosting_type=gbdt, max_depth=-1, n_estimators=300, num_leaves=38\n",
      "[CV 3/5; 45/144] END boosting_type=gbdt, max_depth=-1, n_estimators=300, num_leaves=38;, score=0.778 total time=   0.5s\n",
      "[CV 4/5; 45/144] START boosting_type=gbdt, max_depth=-1, n_estimators=300, num_leaves=38\n",
      "[CV 4/5; 45/144] END boosting_type=gbdt, max_depth=-1, n_estimators=300, num_leaves=38;, score=0.780 total time=   0.5s\n",
      "[CV 5/5; 45/144] START boosting_type=gbdt, max_depth=-1, n_estimators=300, num_leaves=38\n",
      "[CV 5/5; 45/144] END boosting_type=gbdt, max_depth=-1, n_estimators=300, num_leaves=38;, score=0.794 total time=   1.2s\n",
      "[CV 1/5; 46/144] START boosting_type=gbdt, max_depth=-1, n_estimators=300, num_leaves=41\n",
      "[CV 1/5; 46/144] END boosting_type=gbdt, max_depth=-1, n_estimators=300, num_leaves=41;, score=0.784 total time=   0.6s\n",
      "[CV 2/5; 46/144] START boosting_type=gbdt, max_depth=-1, n_estimators=300, num_leaves=41\n",
      "[CV 2/5; 46/144] END boosting_type=gbdt, max_depth=-1, n_estimators=300, num_leaves=41;, score=0.800 total time=   0.5s\n",
      "[CV 3/5; 46/144] START boosting_type=gbdt, max_depth=-1, n_estimators=300, num_leaves=41\n",
      "[CV 3/5; 46/144] END boosting_type=gbdt, max_depth=-1, n_estimators=300, num_leaves=41;, score=0.773 total time=   0.5s\n",
      "[CV 4/5; 46/144] START boosting_type=gbdt, max_depth=-1, n_estimators=300, num_leaves=41\n",
      "[CV 4/5; 46/144] END boosting_type=gbdt, max_depth=-1, n_estimators=300, num_leaves=41;, score=0.775 total time=   0.5s\n",
      "[CV 5/5; 46/144] START boosting_type=gbdt, max_depth=-1, n_estimators=300, num_leaves=41\n",
      "[CV 5/5; 46/144] END boosting_type=gbdt, max_depth=-1, n_estimators=300, num_leaves=41;, score=0.791 total time=   0.5s\n",
      "[CV 1/5; 47/144] START boosting_type=gbdt, max_depth=-1, n_estimators=300, num_leaves=44\n",
      "[CV 1/5; 47/144] END boosting_type=gbdt, max_depth=-1, n_estimators=300, num_leaves=44;, score=0.770 total time=   0.5s\n",
      "[CV 2/5; 47/144] START boosting_type=gbdt, max_depth=-1, n_estimators=300, num_leaves=44\n",
      "[CV 2/5; 47/144] END boosting_type=gbdt, max_depth=-1, n_estimators=300, num_leaves=44;, score=0.799 total time=   0.5s\n",
      "[CV 3/5; 47/144] START boosting_type=gbdt, max_depth=-1, n_estimators=300, num_leaves=44\n",
      "[CV 3/5; 47/144] END boosting_type=gbdt, max_depth=-1, n_estimators=300, num_leaves=44;, score=0.776 total time=   0.5s\n",
      "[CV 4/5; 47/144] START boosting_type=gbdt, max_depth=-1, n_estimators=300, num_leaves=44\n",
      "[CV 4/5; 47/144] END boosting_type=gbdt, max_depth=-1, n_estimators=300, num_leaves=44;, score=0.777 total time=   0.6s\n",
      "[CV 5/5; 47/144] START boosting_type=gbdt, max_depth=-1, n_estimators=300, num_leaves=44\n",
      "[CV 5/5; 47/144] END boosting_type=gbdt, max_depth=-1, n_estimators=300, num_leaves=44;, score=0.797 total time=   0.5s\n",
      "[CV 1/5; 48/144] START boosting_type=gbdt, max_depth=-1, n_estimators=300, num_leaves=47\n",
      "[CV 1/5; 48/144] END boosting_type=gbdt, max_depth=-1, n_estimators=300, num_leaves=47;, score=0.777 total time=   0.6s\n",
      "[CV 2/5; 48/144] START boosting_type=gbdt, max_depth=-1, n_estimators=300, num_leaves=47\n",
      "[CV 2/5; 48/144] END boosting_type=gbdt, max_depth=-1, n_estimators=300, num_leaves=47;, score=0.791 total time=   0.6s\n",
      "[CV 3/5; 48/144] START boosting_type=gbdt, max_depth=-1, n_estimators=300, num_leaves=47\n",
      "[CV 3/5; 48/144] END boosting_type=gbdt, max_depth=-1, n_estimators=300, num_leaves=47;, score=0.777 total time=   0.6s\n",
      "[CV 4/5; 48/144] START boosting_type=gbdt, max_depth=-1, n_estimators=300, num_leaves=47\n",
      "[CV 4/5; 48/144] END boosting_type=gbdt, max_depth=-1, n_estimators=300, num_leaves=47;, score=0.781 total time=   0.6s\n",
      "[CV 5/5; 48/144] START boosting_type=gbdt, max_depth=-1, n_estimators=300, num_leaves=47\n",
      "[CV 5/5; 48/144] END boosting_type=gbdt, max_depth=-1, n_estimators=300, num_leaves=47;, score=0.788 total time=   0.6s\n",
      "[CV 1/5; 49/144] START boosting_type=gbdt, max_depth=-1, n_estimators=400, num_leaves=2\n",
      "[CV 1/5; 49/144] END boosting_type=gbdt, max_depth=-1, n_estimators=400, num_leaves=2;, score=0.783 total time=   0.1s\n",
      "[CV 2/5; 49/144] START boosting_type=gbdt, max_depth=-1, n_estimators=400, num_leaves=2\n",
      "[CV 2/5; 49/144] END boosting_type=gbdt, max_depth=-1, n_estimators=400, num_leaves=2;, score=0.805 total time=   0.2s\n",
      "[CV 3/5; 49/144] START boosting_type=gbdt, max_depth=-1, n_estimators=400, num_leaves=2\n",
      "[CV 3/5; 49/144] END boosting_type=gbdt, max_depth=-1, n_estimators=400, num_leaves=2;, score=0.792 total time=   0.1s\n",
      "[CV 4/5; 49/144] START boosting_type=gbdt, max_depth=-1, n_estimators=400, num_leaves=2\n",
      "[CV 4/5; 49/144] END boosting_type=gbdt, max_depth=-1, n_estimators=400, num_leaves=2;, score=0.787 total time=   0.2s\n",
      "[CV 5/5; 49/144] START boosting_type=gbdt, max_depth=-1, n_estimators=400, num_leaves=2\n",
      "[CV 5/5; 49/144] END boosting_type=gbdt, max_depth=-1, n_estimators=400, num_leaves=2;, score=0.804 total time=   0.2s\n",
      "[CV 1/5; 50/144] START boosting_type=gbdt, max_depth=-1, n_estimators=400, num_leaves=5\n",
      "[CV 1/5; 50/144] END boosting_type=gbdt, max_depth=-1, n_estimators=400, num_leaves=5;, score=0.788 total time=   0.2s\n",
      "[CV 2/5; 50/144] START boosting_type=gbdt, max_depth=-1, n_estimators=400, num_leaves=5\n",
      "[CV 2/5; 50/144] END boosting_type=gbdt, max_depth=-1, n_estimators=400, num_leaves=5;, score=0.799 total time=   0.2s\n",
      "[CV 3/5; 50/144] START boosting_type=gbdt, max_depth=-1, n_estimators=400, num_leaves=5\n",
      "[CV 3/5; 50/144] END boosting_type=gbdt, max_depth=-1, n_estimators=400, num_leaves=5;, score=0.791 total time=   0.2s\n",
      "[CV 4/5; 50/144] START boosting_type=gbdt, max_depth=-1, n_estimators=400, num_leaves=5\n",
      "[CV 4/5; 50/144] END boosting_type=gbdt, max_depth=-1, n_estimators=400, num_leaves=5;, score=0.796 total time=   0.2s\n",
      "[CV 5/5; 50/144] START boosting_type=gbdt, max_depth=-1, n_estimators=400, num_leaves=5\n",
      "[CV 5/5; 50/144] END boosting_type=gbdt, max_depth=-1, n_estimators=400, num_leaves=5;, score=0.800 total time=   0.2s\n",
      "[CV 1/5; 51/144] START boosting_type=gbdt, max_depth=-1, n_estimators=400, num_leaves=8\n",
      "[CV 1/5; 51/144] END boosting_type=gbdt, max_depth=-1, n_estimators=400, num_leaves=8;, score=0.777 total time=   0.2s\n",
      "[CV 2/5; 51/144] START boosting_type=gbdt, max_depth=-1, n_estimators=400, num_leaves=8\n",
      "[CV 2/5; 51/144] END boosting_type=gbdt, max_depth=-1, n_estimators=400, num_leaves=8;, score=0.797 total time=   0.3s\n",
      "[CV 3/5; 51/144] START boosting_type=gbdt, max_depth=-1, n_estimators=400, num_leaves=8\n",
      "[CV 3/5; 51/144] END boosting_type=gbdt, max_depth=-1, n_estimators=400, num_leaves=8;, score=0.786 total time=   0.2s\n",
      "[CV 4/5; 51/144] START boosting_type=gbdt, max_depth=-1, n_estimators=400, num_leaves=8\n",
      "[CV 4/5; 51/144] END boosting_type=gbdt, max_depth=-1, n_estimators=400, num_leaves=8;, score=0.795 total time=   0.2s\n",
      "[CV 5/5; 51/144] START boosting_type=gbdt, max_depth=-1, n_estimators=400, num_leaves=8\n",
      "[CV 5/5; 51/144] END boosting_type=gbdt, max_depth=-1, n_estimators=400, num_leaves=8;, score=0.802 total time=   0.3s\n",
      "[CV 1/5; 52/144] START boosting_type=gbdt, max_depth=-1, n_estimators=400, num_leaves=11\n",
      "[CV 1/5; 52/144] END boosting_type=gbdt, max_depth=-1, n_estimators=400, num_leaves=11;, score=0.777 total time=   0.3s\n",
      "[CV 2/5; 52/144] START boosting_type=gbdt, max_depth=-1, n_estimators=400, num_leaves=11\n",
      "[CV 2/5; 52/144] END boosting_type=gbdt, max_depth=-1, n_estimators=400, num_leaves=11;, score=0.799 total time=   0.3s\n",
      "[CV 3/5; 52/144] START boosting_type=gbdt, max_depth=-1, n_estimators=400, num_leaves=11\n",
      "[CV 3/5; 52/144] END boosting_type=gbdt, max_depth=-1, n_estimators=400, num_leaves=11;, score=0.784 total time=   0.3s\n",
      "[CV 4/5; 52/144] START boosting_type=gbdt, max_depth=-1, n_estimators=400, num_leaves=11\n",
      "[CV 4/5; 52/144] END boosting_type=gbdt, max_depth=-1, n_estimators=400, num_leaves=11;, score=0.795 total time=   0.3s\n",
      "[CV 5/5; 52/144] START boosting_type=gbdt, max_depth=-1, n_estimators=400, num_leaves=11\n",
      "[CV 5/5; 52/144] END boosting_type=gbdt, max_depth=-1, n_estimators=400, num_leaves=11;, score=0.796 total time=   0.3s\n",
      "[CV 1/5; 53/144] START boosting_type=gbdt, max_depth=-1, n_estimators=400, num_leaves=14\n",
      "[CV 1/5; 53/144] END boosting_type=gbdt, max_depth=-1, n_estimators=400, num_leaves=14;, score=0.775 total time=   0.3s\n",
      "[CV 2/5; 53/144] START boosting_type=gbdt, max_depth=-1, n_estimators=400, num_leaves=14\n",
      "[CV 2/5; 53/144] END boosting_type=gbdt, max_depth=-1, n_estimators=400, num_leaves=14;, score=0.798 total time=   0.3s\n",
      "[CV 3/5; 53/144] START boosting_type=gbdt, max_depth=-1, n_estimators=400, num_leaves=14\n",
      "[CV 3/5; 53/144] END boosting_type=gbdt, max_depth=-1, n_estimators=400, num_leaves=14;, score=0.778 total time=   0.3s\n",
      "[CV 4/5; 53/144] START boosting_type=gbdt, max_depth=-1, n_estimators=400, num_leaves=14\n",
      "[CV 4/5; 53/144] END boosting_type=gbdt, max_depth=-1, n_estimators=400, num_leaves=14;, score=0.794 total time=   0.3s\n",
      "[CV 5/5; 53/144] START boosting_type=gbdt, max_depth=-1, n_estimators=400, num_leaves=14\n",
      "[CV 5/5; 53/144] END boosting_type=gbdt, max_depth=-1, n_estimators=400, num_leaves=14;, score=0.797 total time=   0.3s\n",
      "[CV 1/5; 54/144] START boosting_type=gbdt, max_depth=-1, n_estimators=400, num_leaves=17\n",
      "[CV 1/5; 54/144] END boosting_type=gbdt, max_depth=-1, n_estimators=400, num_leaves=17;, score=0.777 total time=   0.3s\n",
      "[CV 2/5; 54/144] START boosting_type=gbdt, max_depth=-1, n_estimators=400, num_leaves=17\n",
      "[CV 2/5; 54/144] END boosting_type=gbdt, max_depth=-1, n_estimators=400, num_leaves=17;, score=0.793 total time=   0.4s\n",
      "[CV 3/5; 54/144] START boosting_type=gbdt, max_depth=-1, n_estimators=400, num_leaves=17\n",
      "[CV 3/5; 54/144] END boosting_type=gbdt, max_depth=-1, n_estimators=400, num_leaves=17;, score=0.781 total time=   0.3s\n",
      "[CV 4/5; 54/144] START boosting_type=gbdt, max_depth=-1, n_estimators=400, num_leaves=17\n",
      "[CV 4/5; 54/144] END boosting_type=gbdt, max_depth=-1, n_estimators=400, num_leaves=17;, score=0.797 total time=   0.3s\n",
      "[CV 5/5; 54/144] START boosting_type=gbdt, max_depth=-1, n_estimators=400, num_leaves=17\n",
      "[CV 5/5; 54/144] END boosting_type=gbdt, max_depth=-1, n_estimators=400, num_leaves=17;, score=0.799 total time=   0.4s\n",
      "[CV 1/5; 55/144] START boosting_type=gbdt, max_depth=-1, n_estimators=400, num_leaves=20\n",
      "[CV 1/5; 55/144] END boosting_type=gbdt, max_depth=-1, n_estimators=400, num_leaves=20;, score=0.778 total time=   0.4s\n",
      "[CV 2/5; 55/144] START boosting_type=gbdt, max_depth=-1, n_estimators=400, num_leaves=20\n",
      "[CV 2/5; 55/144] END boosting_type=gbdt, max_depth=-1, n_estimators=400, num_leaves=20;, score=0.796 total time=   0.4s\n",
      "[CV 3/5; 55/144] START boosting_type=gbdt, max_depth=-1, n_estimators=400, num_leaves=20\n",
      "[CV 3/5; 55/144] END boosting_type=gbdt, max_depth=-1, n_estimators=400, num_leaves=20;, score=0.779 total time=   0.4s\n",
      "[CV 4/5; 55/144] START boosting_type=gbdt, max_depth=-1, n_estimators=400, num_leaves=20\n",
      "[CV 4/5; 55/144] END boosting_type=gbdt, max_depth=-1, n_estimators=400, num_leaves=20;, score=0.793 total time=   0.4s\n",
      "[CV 5/5; 55/144] START boosting_type=gbdt, max_depth=-1, n_estimators=400, num_leaves=20\n",
      "[CV 5/5; 55/144] END boosting_type=gbdt, max_depth=-1, n_estimators=400, num_leaves=20;, score=0.795 total time=   0.4s\n",
      "[CV 1/5; 56/144] START boosting_type=gbdt, max_depth=-1, n_estimators=400, num_leaves=23\n",
      "[CV 1/5; 56/144] END boosting_type=gbdt, max_depth=-1, n_estimators=400, num_leaves=23;, score=0.777 total time=   0.4s\n",
      "[CV 2/5; 56/144] START boosting_type=gbdt, max_depth=-1, n_estimators=400, num_leaves=23\n",
      "[CV 2/5; 56/144] END boosting_type=gbdt, max_depth=-1, n_estimators=400, num_leaves=23;, score=0.796 total time=   0.4s\n",
      "[CV 3/5; 56/144] START boosting_type=gbdt, max_depth=-1, n_estimators=400, num_leaves=23\n",
      "[CV 3/5; 56/144] END boosting_type=gbdt, max_depth=-1, n_estimators=400, num_leaves=23;, score=0.779 total time=   0.4s\n",
      "[CV 4/5; 56/144] START boosting_type=gbdt, max_depth=-1, n_estimators=400, num_leaves=23\n",
      "[CV 4/5; 56/144] END boosting_type=gbdt, max_depth=-1, n_estimators=400, num_leaves=23;, score=0.784 total time=   0.5s\n",
      "[CV 5/5; 56/144] START boosting_type=gbdt, max_depth=-1, n_estimators=400, num_leaves=23\n",
      "[CV 5/5; 56/144] END boosting_type=gbdt, max_depth=-1, n_estimators=400, num_leaves=23;, score=0.795 total time=   0.4s\n",
      "[CV 1/5; 57/144] START boosting_type=gbdt, max_depth=-1, n_estimators=400, num_leaves=26\n",
      "[CV 1/5; 57/144] END boosting_type=gbdt, max_depth=-1, n_estimators=400, num_leaves=26;, score=0.776 total time=   0.5s\n",
      "[CV 2/5; 57/144] START boosting_type=gbdt, max_depth=-1, n_estimators=400, num_leaves=26\n",
      "[CV 2/5; 57/144] END boosting_type=gbdt, max_depth=-1, n_estimators=400, num_leaves=26;, score=0.791 total time=   0.5s\n",
      "[CV 3/5; 57/144] START boosting_type=gbdt, max_depth=-1, n_estimators=400, num_leaves=26\n",
      "[CV 3/5; 57/144] END boosting_type=gbdt, max_depth=-1, n_estimators=400, num_leaves=26;, score=0.781 total time=   0.5s\n",
      "[CV 4/5; 57/144] START boosting_type=gbdt, max_depth=-1, n_estimators=400, num_leaves=26\n",
      "[CV 4/5; 57/144] END boosting_type=gbdt, max_depth=-1, n_estimators=400, num_leaves=26;, score=0.784 total time=   0.5s\n",
      "[CV 5/5; 57/144] START boosting_type=gbdt, max_depth=-1, n_estimators=400, num_leaves=26\n",
      "[CV 5/5; 57/144] END boosting_type=gbdt, max_depth=-1, n_estimators=400, num_leaves=26;, score=0.791 total time=   0.5s\n",
      "[CV 1/5; 58/144] START boosting_type=gbdt, max_depth=-1, n_estimators=400, num_leaves=29\n",
      "[CV 1/5; 58/144] END boosting_type=gbdt, max_depth=-1, n_estimators=400, num_leaves=29;, score=0.776 total time=   0.5s\n",
      "[CV 2/5; 58/144] START boosting_type=gbdt, max_depth=-1, n_estimators=400, num_leaves=29\n",
      "[CV 2/5; 58/144] END boosting_type=gbdt, max_depth=-1, n_estimators=400, num_leaves=29;, score=0.794 total time=   0.5s\n",
      "[CV 3/5; 58/144] START boosting_type=gbdt, max_depth=-1, n_estimators=400, num_leaves=29\n",
      "[CV 3/5; 58/144] END boosting_type=gbdt, max_depth=-1, n_estimators=400, num_leaves=29;, score=0.775 total time=   0.5s\n",
      "[CV 4/5; 58/144] START boosting_type=gbdt, max_depth=-1, n_estimators=400, num_leaves=29\n",
      "[CV 4/5; 58/144] END boosting_type=gbdt, max_depth=-1, n_estimators=400, num_leaves=29;, score=0.783 total time=   0.5s\n",
      "[CV 5/5; 58/144] START boosting_type=gbdt, max_depth=-1, n_estimators=400, num_leaves=29\n",
      "[CV 5/5; 58/144] END boosting_type=gbdt, max_depth=-1, n_estimators=400, num_leaves=29;, score=0.799 total time=   0.5s\n",
      "[CV 1/5; 59/144] START boosting_type=gbdt, max_depth=-1, n_estimators=400, num_leaves=32\n",
      "[CV 1/5; 59/144] END boosting_type=gbdt, max_depth=-1, n_estimators=400, num_leaves=32;, score=0.777 total time=   0.6s\n",
      "[CV 2/5; 59/144] START boosting_type=gbdt, max_depth=-1, n_estimators=400, num_leaves=32\n",
      "[CV 2/5; 59/144] END boosting_type=gbdt, max_depth=-1, n_estimators=400, num_leaves=32;, score=0.794 total time=   0.8s\n",
      "[CV 3/5; 59/144] START boosting_type=gbdt, max_depth=-1, n_estimators=400, num_leaves=32\n",
      "[CV 3/5; 59/144] END boosting_type=gbdt, max_depth=-1, n_estimators=400, num_leaves=32;, score=0.781 total time=   0.8s\n",
      "[CV 4/5; 59/144] START boosting_type=gbdt, max_depth=-1, n_estimators=400, num_leaves=32\n",
      "[CV 4/5; 59/144] END boosting_type=gbdt, max_depth=-1, n_estimators=400, num_leaves=32;, score=0.781 total time=   0.5s\n",
      "[CV 5/5; 59/144] START boosting_type=gbdt, max_depth=-1, n_estimators=400, num_leaves=32\n",
      "[CV 5/5; 59/144] END boosting_type=gbdt, max_depth=-1, n_estimators=400, num_leaves=32;, score=0.796 total time=   0.5s\n",
      "[CV 1/5; 60/144] START boosting_type=gbdt, max_depth=-1, n_estimators=400, num_leaves=35\n",
      "[CV 1/5; 60/144] END boosting_type=gbdt, max_depth=-1, n_estimators=400, num_leaves=35;, score=0.771 total time=   0.6s\n",
      "[CV 2/5; 60/144] START boosting_type=gbdt, max_depth=-1, n_estimators=400, num_leaves=35\n",
      "[CV 2/5; 60/144] END boosting_type=gbdt, max_depth=-1, n_estimators=400, num_leaves=35;, score=0.789 total time=   0.8s\n",
      "[CV 3/5; 60/144] START boosting_type=gbdt, max_depth=-1, n_estimators=400, num_leaves=35\n",
      "[CV 3/5; 60/144] END boosting_type=gbdt, max_depth=-1, n_estimators=400, num_leaves=35;, score=0.774 total time=   0.6s\n",
      "[CV 4/5; 60/144] START boosting_type=gbdt, max_depth=-1, n_estimators=400, num_leaves=35\n",
      "[CV 4/5; 60/144] END boosting_type=gbdt, max_depth=-1, n_estimators=400, num_leaves=35;, score=0.780 total time=   0.6s\n",
      "[CV 5/5; 60/144] START boosting_type=gbdt, max_depth=-1, n_estimators=400, num_leaves=35\n",
      "[CV 5/5; 60/144] END boosting_type=gbdt, max_depth=-1, n_estimators=400, num_leaves=35;, score=0.796 total time=   0.6s\n",
      "[CV 1/5; 61/144] START boosting_type=gbdt, max_depth=-1, n_estimators=400, num_leaves=38\n",
      "[CV 1/5; 61/144] END boosting_type=gbdt, max_depth=-1, n_estimators=400, num_leaves=38;, score=0.777 total time=   0.6s\n",
      "[CV 2/5; 61/144] START boosting_type=gbdt, max_depth=-1, n_estimators=400, num_leaves=38\n",
      "[CV 2/5; 61/144] END boosting_type=gbdt, max_depth=-1, n_estimators=400, num_leaves=38;, score=0.798 total time=   0.6s\n",
      "[CV 3/5; 61/144] START boosting_type=gbdt, max_depth=-1, n_estimators=400, num_leaves=38\n",
      "[CV 3/5; 61/144] END boosting_type=gbdt, max_depth=-1, n_estimators=400, num_leaves=38;, score=0.779 total time=   0.6s\n",
      "[CV 4/5; 61/144] START boosting_type=gbdt, max_depth=-1, n_estimators=400, num_leaves=38\n",
      "[CV 4/5; 61/144] END boosting_type=gbdt, max_depth=-1, n_estimators=400, num_leaves=38;, score=0.776 total time=   0.6s\n",
      "[CV 5/5; 61/144] START boosting_type=gbdt, max_depth=-1, n_estimators=400, num_leaves=38\n",
      "[CV 5/5; 61/144] END boosting_type=gbdt, max_depth=-1, n_estimators=400, num_leaves=38;, score=0.796 total time=   0.7s\n",
      "[CV 1/5; 62/144] START boosting_type=gbdt, max_depth=-1, n_estimators=400, num_leaves=41\n",
      "[CV 1/5; 62/144] END boosting_type=gbdt, max_depth=-1, n_estimators=400, num_leaves=41;, score=0.779 total time=   0.8s\n",
      "[CV 2/5; 62/144] START boosting_type=gbdt, max_depth=-1, n_estimators=400, num_leaves=41\n",
      "[CV 2/5; 62/144] END boosting_type=gbdt, max_depth=-1, n_estimators=400, num_leaves=41;, score=0.795 total time=   1.0s\n",
      "[CV 3/5; 62/144] START boosting_type=gbdt, max_depth=-1, n_estimators=400, num_leaves=41\n",
      "[CV 3/5; 62/144] END boosting_type=gbdt, max_depth=-1, n_estimators=400, num_leaves=41;, score=0.769 total time=   0.7s\n",
      "[CV 4/5; 62/144] START boosting_type=gbdt, max_depth=-1, n_estimators=400, num_leaves=41\n",
      "[CV 4/5; 62/144] END boosting_type=gbdt, max_depth=-1, n_estimators=400, num_leaves=41;, score=0.777 total time=   0.7s\n",
      "[CV 5/5; 62/144] START boosting_type=gbdt, max_depth=-1, n_estimators=400, num_leaves=41\n",
      "[CV 5/5; 62/144] END boosting_type=gbdt, max_depth=-1, n_estimators=400, num_leaves=41;, score=0.792 total time=   0.6s\n",
      "[CV 1/5; 63/144] START boosting_type=gbdt, max_depth=-1, n_estimators=400, num_leaves=44\n",
      "[CV 1/5; 63/144] END boosting_type=gbdt, max_depth=-1, n_estimators=400, num_leaves=44;, score=0.771 total time=   0.7s\n",
      "[CV 2/5; 63/144] START boosting_type=gbdt, max_depth=-1, n_estimators=400, num_leaves=44\n",
      "[CV 2/5; 63/144] END boosting_type=gbdt, max_depth=-1, n_estimators=400, num_leaves=44;, score=0.795 total time=   0.7s\n",
      "[CV 3/5; 63/144] START boosting_type=gbdt, max_depth=-1, n_estimators=400, num_leaves=44\n",
      "[CV 3/5; 63/144] END boosting_type=gbdt, max_depth=-1, n_estimators=400, num_leaves=44;, score=0.769 total time=   0.7s\n",
      "[CV 4/5; 63/144] START boosting_type=gbdt, max_depth=-1, n_estimators=400, num_leaves=44\n",
      "[CV 4/5; 63/144] END boosting_type=gbdt, max_depth=-1, n_estimators=400, num_leaves=44;, score=0.776 total time=   0.6s\n",
      "[CV 5/5; 63/144] START boosting_type=gbdt, max_depth=-1, n_estimators=400, num_leaves=44\n",
      "[CV 5/5; 63/144] END boosting_type=gbdt, max_depth=-1, n_estimators=400, num_leaves=44;, score=0.791 total time=   0.6s\n",
      "[CV 1/5; 64/144] START boosting_type=gbdt, max_depth=-1, n_estimators=400, num_leaves=47\n",
      "[CV 1/5; 64/144] END boosting_type=gbdt, max_depth=-1, n_estimators=400, num_leaves=47;, score=0.776 total time=   0.7s\n",
      "[CV 2/5; 64/144] START boosting_type=gbdt, max_depth=-1, n_estimators=400, num_leaves=47\n",
      "[CV 2/5; 64/144] END boosting_type=gbdt, max_depth=-1, n_estimators=400, num_leaves=47;, score=0.792 total time=   0.6s\n",
      "[CV 3/5; 64/144] START boosting_type=gbdt, max_depth=-1, n_estimators=400, num_leaves=47\n",
      "[CV 3/5; 64/144] END boosting_type=gbdt, max_depth=-1, n_estimators=400, num_leaves=47;, score=0.776 total time=   0.7s\n",
      "[CV 4/5; 64/144] START boosting_type=gbdt, max_depth=-1, n_estimators=400, num_leaves=47\n",
      "[CV 4/5; 64/144] END boosting_type=gbdt, max_depth=-1, n_estimators=400, num_leaves=47;, score=0.776 total time=   0.7s\n",
      "[CV 5/5; 64/144] START boosting_type=gbdt, max_depth=-1, n_estimators=400, num_leaves=47\n",
      "[CV 5/5; 64/144] END boosting_type=gbdt, max_depth=-1, n_estimators=400, num_leaves=47;, score=0.786 total time=   1.1s\n",
      "[CV 1/5; 65/144] START boosting_type=gbdt, max_depth=-1, n_estimators=500, num_leaves=2\n",
      "[CV 1/5; 65/144] END boosting_type=gbdt, max_depth=-1, n_estimators=500, num_leaves=2;, score=0.781 total time=   0.2s\n",
      "[CV 2/5; 65/144] START boosting_type=gbdt, max_depth=-1, n_estimators=500, num_leaves=2\n",
      "[CV 2/5; 65/144] END boosting_type=gbdt, max_depth=-1, n_estimators=500, num_leaves=2;, score=0.809 total time=   0.2s\n",
      "[CV 3/5; 65/144] START boosting_type=gbdt, max_depth=-1, n_estimators=500, num_leaves=2\n",
      "[CV 3/5; 65/144] END boosting_type=gbdt, max_depth=-1, n_estimators=500, num_leaves=2;, score=0.792 total time=   0.2s\n",
      "[CV 4/5; 65/144] START boosting_type=gbdt, max_depth=-1, n_estimators=500, num_leaves=2\n",
      "[CV 4/5; 65/144] END boosting_type=gbdt, max_depth=-1, n_estimators=500, num_leaves=2;, score=0.789 total time=   0.2s\n",
      "[CV 5/5; 65/144] START boosting_type=gbdt, max_depth=-1, n_estimators=500, num_leaves=2\n",
      "[CV 5/5; 65/144] END boosting_type=gbdt, max_depth=-1, n_estimators=500, num_leaves=2;, score=0.804 total time=   0.2s\n",
      "[CV 1/5; 66/144] START boosting_type=gbdt, max_depth=-1, n_estimators=500, num_leaves=5\n",
      "[CV 1/5; 66/144] END boosting_type=gbdt, max_depth=-1, n_estimators=500, num_leaves=5;, score=0.789 total time=   0.2s\n",
      "[CV 2/5; 66/144] START boosting_type=gbdt, max_depth=-1, n_estimators=500, num_leaves=5\n",
      "[CV 2/5; 66/144] END boosting_type=gbdt, max_depth=-1, n_estimators=500, num_leaves=5;, score=0.801 total time=   0.3s\n",
      "[CV 3/5; 66/144] START boosting_type=gbdt, max_depth=-1, n_estimators=500, num_leaves=5\n",
      "[CV 3/5; 66/144] END boosting_type=gbdt, max_depth=-1, n_estimators=500, num_leaves=5;, score=0.793 total time=   0.6s\n",
      "[CV 4/5; 66/144] START boosting_type=gbdt, max_depth=-1, n_estimators=500, num_leaves=5\n",
      "[CV 4/5; 66/144] END boosting_type=gbdt, max_depth=-1, n_estimators=500, num_leaves=5;, score=0.802 total time=   0.5s\n",
      "[CV 5/5; 66/144] START boosting_type=gbdt, max_depth=-1, n_estimators=500, num_leaves=5\n",
      "[CV 5/5; 66/144] END boosting_type=gbdt, max_depth=-1, n_estimators=500, num_leaves=5;, score=0.796 total time=   0.2s\n",
      "[CV 1/5; 67/144] START boosting_type=gbdt, max_depth=-1, n_estimators=500, num_leaves=8\n",
      "[CV 1/5; 67/144] END boosting_type=gbdt, max_depth=-1, n_estimators=500, num_leaves=8;, score=0.772 total time=   0.3s\n",
      "[CV 2/5; 67/144] START boosting_type=gbdt, max_depth=-1, n_estimators=500, num_leaves=8\n",
      "[CV 2/5; 67/144] END boosting_type=gbdt, max_depth=-1, n_estimators=500, num_leaves=8;, score=0.793 total time=   0.3s\n",
      "[CV 3/5; 67/144] START boosting_type=gbdt, max_depth=-1, n_estimators=500, num_leaves=8\n",
      "[CV 3/5; 67/144] END boosting_type=gbdt, max_depth=-1, n_estimators=500, num_leaves=8;, score=0.784 total time=   0.3s\n",
      "[CV 4/5; 67/144] START boosting_type=gbdt, max_depth=-1, n_estimators=500, num_leaves=8\n",
      "[CV 4/5; 67/144] END boosting_type=gbdt, max_depth=-1, n_estimators=500, num_leaves=8;, score=0.792 total time=   0.3s\n",
      "[CV 5/5; 67/144] START boosting_type=gbdt, max_depth=-1, n_estimators=500, num_leaves=8\n",
      "[CV 5/5; 67/144] END boosting_type=gbdt, max_depth=-1, n_estimators=500, num_leaves=8;, score=0.799 total time=   0.4s\n",
      "[CV 1/5; 68/144] START boosting_type=gbdt, max_depth=-1, n_estimators=500, num_leaves=11\n",
      "[CV 1/5; 68/144] END boosting_type=gbdt, max_depth=-1, n_estimators=500, num_leaves=11;, score=0.779 total time=   0.4s\n",
      "[CV 2/5; 68/144] START boosting_type=gbdt, max_depth=-1, n_estimators=500, num_leaves=11\n",
      "[CV 2/5; 68/144] END boosting_type=gbdt, max_depth=-1, n_estimators=500, num_leaves=11;, score=0.794 total time=   0.4s\n",
      "[CV 3/5; 68/144] START boosting_type=gbdt, max_depth=-1, n_estimators=500, num_leaves=11\n",
      "[CV 3/5; 68/144] END boosting_type=gbdt, max_depth=-1, n_estimators=500, num_leaves=11;, score=0.782 total time=   0.6s\n",
      "[CV 4/5; 68/144] START boosting_type=gbdt, max_depth=-1, n_estimators=500, num_leaves=11\n",
      "[CV 4/5; 68/144] END boosting_type=gbdt, max_depth=-1, n_estimators=500, num_leaves=11;, score=0.798 total time=   0.3s\n",
      "[CV 5/5; 68/144] START boosting_type=gbdt, max_depth=-1, n_estimators=500, num_leaves=11\n",
      "[CV 5/5; 68/144] END boosting_type=gbdt, max_depth=-1, n_estimators=500, num_leaves=11;, score=0.791 total time=   0.4s\n",
      "[CV 1/5; 69/144] START boosting_type=gbdt, max_depth=-1, n_estimators=500, num_leaves=14\n",
      "[CV 1/5; 69/144] END boosting_type=gbdt, max_depth=-1, n_estimators=500, num_leaves=14;, score=0.774 total time=   0.4s\n",
      "[CV 2/5; 69/144] START boosting_type=gbdt, max_depth=-1, n_estimators=500, num_leaves=14\n",
      "[CV 2/5; 69/144] END boosting_type=gbdt, max_depth=-1, n_estimators=500, num_leaves=14;, score=0.797 total time=   0.4s\n",
      "[CV 3/5; 69/144] START boosting_type=gbdt, max_depth=-1, n_estimators=500, num_leaves=14\n",
      "[CV 3/5; 69/144] END boosting_type=gbdt, max_depth=-1, n_estimators=500, num_leaves=14;, score=0.776 total time=   0.4s\n",
      "[CV 4/5; 69/144] START boosting_type=gbdt, max_depth=-1, n_estimators=500, num_leaves=14\n",
      "[CV 4/5; 69/144] END boosting_type=gbdt, max_depth=-1, n_estimators=500, num_leaves=14;, score=0.794 total time=   0.5s\n",
      "[CV 5/5; 69/144] START boosting_type=gbdt, max_depth=-1, n_estimators=500, num_leaves=14\n",
      "[CV 5/5; 69/144] END boosting_type=gbdt, max_depth=-1, n_estimators=500, num_leaves=14;, score=0.798 total time=   0.8s\n",
      "[CV 1/5; 70/144] START boosting_type=gbdt, max_depth=-1, n_estimators=500, num_leaves=17\n",
      "[CV 1/5; 70/144] END boosting_type=gbdt, max_depth=-1, n_estimators=500, num_leaves=17;, score=0.774 total time=   0.4s\n",
      "[CV 2/5; 70/144] START boosting_type=gbdt, max_depth=-1, n_estimators=500, num_leaves=17\n",
      "[CV 2/5; 70/144] END boosting_type=gbdt, max_depth=-1, n_estimators=500, num_leaves=17;, score=0.788 total time=   0.5s\n",
      "[CV 3/5; 70/144] START boosting_type=gbdt, max_depth=-1, n_estimators=500, num_leaves=17\n",
      "[CV 3/5; 70/144] END boosting_type=gbdt, max_depth=-1, n_estimators=500, num_leaves=17;, score=0.781 total time=   0.7s\n",
      "[CV 4/5; 70/144] START boosting_type=gbdt, max_depth=-1, n_estimators=500, num_leaves=17\n",
      "[CV 4/5; 70/144] END boosting_type=gbdt, max_depth=-1, n_estimators=500, num_leaves=17;, score=0.794 total time=   0.6s\n",
      "[CV 5/5; 70/144] START boosting_type=gbdt, max_depth=-1, n_estimators=500, num_leaves=17\n",
      "[CV 5/5; 70/144] END boosting_type=gbdt, max_depth=-1, n_estimators=500, num_leaves=17;, score=0.799 total time=   0.7s\n",
      "[CV 1/5; 71/144] START boosting_type=gbdt, max_depth=-1, n_estimators=500, num_leaves=20\n",
      "[CV 1/5; 71/144] END boosting_type=gbdt, max_depth=-1, n_estimators=500, num_leaves=20;, score=0.774 total time=   0.7s\n",
      "[CV 2/5; 71/144] START boosting_type=gbdt, max_depth=-1, n_estimators=500, num_leaves=20\n",
      "[CV 2/5; 71/144] END boosting_type=gbdt, max_depth=-1, n_estimators=500, num_leaves=20;, score=0.791 total time=   0.6s\n",
      "[CV 3/5; 71/144] START boosting_type=gbdt, max_depth=-1, n_estimators=500, num_leaves=20\n",
      "[CV 3/5; 71/144] END boosting_type=gbdt, max_depth=-1, n_estimators=500, num_leaves=20;, score=0.779 total time=   0.5s\n",
      "[CV 4/5; 71/144] START boosting_type=gbdt, max_depth=-1, n_estimators=500, num_leaves=20\n",
      "[CV 4/5; 71/144] END boosting_type=gbdt, max_depth=-1, n_estimators=500, num_leaves=20;, score=0.786 total time=   0.4s\n",
      "[CV 5/5; 71/144] START boosting_type=gbdt, max_depth=-1, n_estimators=500, num_leaves=20\n",
      "[CV 5/5; 71/144] END boosting_type=gbdt, max_depth=-1, n_estimators=500, num_leaves=20;, score=0.794 total time=   0.4s\n",
      "[CV 1/5; 72/144] START boosting_type=gbdt, max_depth=-1, n_estimators=500, num_leaves=23\n",
      "[CV 1/5; 72/144] END boosting_type=gbdt, max_depth=-1, n_estimators=500, num_leaves=23;, score=0.777 total time=   0.5s\n",
      "[CV 2/5; 72/144] START boosting_type=gbdt, max_depth=-1, n_estimators=500, num_leaves=23\n",
      "[CV 2/5; 72/144] END boosting_type=gbdt, max_depth=-1, n_estimators=500, num_leaves=23;, score=0.792 total time=   0.5s\n",
      "[CV 3/5; 72/144] START boosting_type=gbdt, max_depth=-1, n_estimators=500, num_leaves=23\n",
      "[CV 3/5; 72/144] END boosting_type=gbdt, max_depth=-1, n_estimators=500, num_leaves=23;, score=0.779 total time=   0.5s\n",
      "[CV 4/5; 72/144] START boosting_type=gbdt, max_depth=-1, n_estimators=500, num_leaves=23\n",
      "[CV 4/5; 72/144] END boosting_type=gbdt, max_depth=-1, n_estimators=500, num_leaves=23;, score=0.784 total time=   0.5s\n",
      "[CV 5/5; 72/144] START boosting_type=gbdt, max_depth=-1, n_estimators=500, num_leaves=23\n",
      "[CV 5/5; 72/144] END boosting_type=gbdt, max_depth=-1, n_estimators=500, num_leaves=23;, score=0.796 total time=   0.5s\n",
      "[CV 1/5; 73/144] START boosting_type=gbdt, max_depth=-1, n_estimators=500, num_leaves=26\n",
      "[CV 1/5; 73/144] END boosting_type=gbdt, max_depth=-1, n_estimators=500, num_leaves=26;, score=0.780 total time=   0.7s\n",
      "[CV 2/5; 73/144] START boosting_type=gbdt, max_depth=-1, n_estimators=500, num_leaves=26\n",
      "[CV 2/5; 73/144] END boosting_type=gbdt, max_depth=-1, n_estimators=500, num_leaves=26;, score=0.792 total time=   0.5s\n",
      "[CV 3/5; 73/144] START boosting_type=gbdt, max_depth=-1, n_estimators=500, num_leaves=26\n",
      "[CV 3/5; 73/144] END boosting_type=gbdt, max_depth=-1, n_estimators=500, num_leaves=26;, score=0.777 total time=   0.5s\n",
      "[CV 4/5; 73/144] START boosting_type=gbdt, max_depth=-1, n_estimators=500, num_leaves=26\n",
      "[CV 4/5; 73/144] END boosting_type=gbdt, max_depth=-1, n_estimators=500, num_leaves=26;, score=0.786 total time=   0.5s\n",
      "[CV 5/5; 73/144] START boosting_type=gbdt, max_depth=-1, n_estimators=500, num_leaves=26\n",
      "[CV 5/5; 73/144] END boosting_type=gbdt, max_depth=-1, n_estimators=500, num_leaves=26;, score=0.791 total time=   0.5s\n",
      "[CV 1/5; 74/144] START boosting_type=gbdt, max_depth=-1, n_estimators=500, num_leaves=29\n",
      "[CV 1/5; 74/144] END boosting_type=gbdt, max_depth=-1, n_estimators=500, num_leaves=29;, score=0.781 total time=   0.5s\n",
      "[CV 2/5; 74/144] START boosting_type=gbdt, max_depth=-1, n_estimators=500, num_leaves=29\n",
      "[CV 2/5; 74/144] END boosting_type=gbdt, max_depth=-1, n_estimators=500, num_leaves=29;, score=0.797 total time=   0.6s\n",
      "[CV 3/5; 74/144] START boosting_type=gbdt, max_depth=-1, n_estimators=500, num_leaves=29\n",
      "[CV 3/5; 74/144] END boosting_type=gbdt, max_depth=-1, n_estimators=500, num_leaves=29;, score=0.774 total time=   0.6s\n",
      "[CV 4/5; 74/144] START boosting_type=gbdt, max_depth=-1, n_estimators=500, num_leaves=29\n",
      "[CV 4/5; 74/144] END boosting_type=gbdt, max_depth=-1, n_estimators=500, num_leaves=29;, score=0.777 total time=   0.6s\n",
      "[CV 5/5; 74/144] START boosting_type=gbdt, max_depth=-1, n_estimators=500, num_leaves=29\n",
      "[CV 5/5; 74/144] END boosting_type=gbdt, max_depth=-1, n_estimators=500, num_leaves=29;, score=0.796 total time=   0.6s\n",
      "[CV 1/5; 75/144] START boosting_type=gbdt, max_depth=-1, n_estimators=500, num_leaves=32\n",
      "[CV 1/5; 75/144] END boosting_type=gbdt, max_depth=-1, n_estimators=500, num_leaves=32;, score=0.778 total time=   0.6s\n",
      "[CV 2/5; 75/144] START boosting_type=gbdt, max_depth=-1, n_estimators=500, num_leaves=32\n",
      "[CV 2/5; 75/144] END boosting_type=gbdt, max_depth=-1, n_estimators=500, num_leaves=32;, score=0.793 total time=   0.6s\n",
      "[CV 3/5; 75/144] START boosting_type=gbdt, max_depth=-1, n_estimators=500, num_leaves=32\n",
      "[CV 3/5; 75/144] END boosting_type=gbdt, max_depth=-1, n_estimators=500, num_leaves=32;, score=0.776 total time=   0.6s\n",
      "[CV 4/5; 75/144] START boosting_type=gbdt, max_depth=-1, n_estimators=500, num_leaves=32\n",
      "[CV 4/5; 75/144] END boosting_type=gbdt, max_depth=-1, n_estimators=500, num_leaves=32;, score=0.783 total time=   0.6s\n",
      "[CV 5/5; 75/144] START boosting_type=gbdt, max_depth=-1, n_estimators=500, num_leaves=32\n",
      "[CV 5/5; 75/144] END boosting_type=gbdt, max_depth=-1, n_estimators=500, num_leaves=32;, score=0.794 total time=   0.6s\n",
      "[CV 1/5; 76/144] START boosting_type=gbdt, max_depth=-1, n_estimators=500, num_leaves=35\n",
      "[CV 1/5; 76/144] END boosting_type=gbdt, max_depth=-1, n_estimators=500, num_leaves=35;, score=0.772 total time=   0.6s\n",
      "[CV 2/5; 76/144] START boosting_type=gbdt, max_depth=-1, n_estimators=500, num_leaves=35\n",
      "[CV 2/5; 76/144] END boosting_type=gbdt, max_depth=-1, n_estimators=500, num_leaves=35;, score=0.794 total time=   0.7s\n",
      "[CV 3/5; 76/144] START boosting_type=gbdt, max_depth=-1, n_estimators=500, num_leaves=35\n",
      "[CV 3/5; 76/144] END boosting_type=gbdt, max_depth=-1, n_estimators=500, num_leaves=35;, score=0.771 total time=   0.7s\n",
      "[CV 4/5; 76/144] START boosting_type=gbdt, max_depth=-1, n_estimators=500, num_leaves=35\n",
      "[CV 4/5; 76/144] END boosting_type=gbdt, max_depth=-1, n_estimators=500, num_leaves=35;, score=0.777 total time=   0.7s\n",
      "[CV 5/5; 76/144] START boosting_type=gbdt, max_depth=-1, n_estimators=500, num_leaves=35\n",
      "[CV 5/5; 76/144] END boosting_type=gbdt, max_depth=-1, n_estimators=500, num_leaves=35;, score=0.794 total time=   0.7s\n",
      "[CV 1/5; 77/144] START boosting_type=gbdt, max_depth=-1, n_estimators=500, num_leaves=38\n",
      "[CV 1/5; 77/144] END boosting_type=gbdt, max_depth=-1, n_estimators=500, num_leaves=38;, score=0.776 total time=   0.7s\n",
      "[CV 2/5; 77/144] START boosting_type=gbdt, max_depth=-1, n_estimators=500, num_leaves=38\n",
      "[CV 2/5; 77/144] END boosting_type=gbdt, max_depth=-1, n_estimators=500, num_leaves=38;, score=0.795 total time=   0.7s\n",
      "[CV 3/5; 77/144] START boosting_type=gbdt, max_depth=-1, n_estimators=500, num_leaves=38\n",
      "[CV 3/5; 77/144] END boosting_type=gbdt, max_depth=-1, n_estimators=500, num_leaves=38;, score=0.777 total time=   0.7s\n",
      "[CV 4/5; 77/144] START boosting_type=gbdt, max_depth=-1, n_estimators=500, num_leaves=38\n",
      "[CV 4/5; 77/144] END boosting_type=gbdt, max_depth=-1, n_estimators=500, num_leaves=38;, score=0.776 total time=   0.7s\n",
      "[CV 5/5; 77/144] START boosting_type=gbdt, max_depth=-1, n_estimators=500, num_leaves=38\n",
      "[CV 5/5; 77/144] END boosting_type=gbdt, max_depth=-1, n_estimators=500, num_leaves=38;, score=0.790 total time=   0.7s\n",
      "[CV 1/5; 78/144] START boosting_type=gbdt, max_depth=-1, n_estimators=500, num_leaves=41\n",
      "[CV 1/5; 78/144] END boosting_type=gbdt, max_depth=-1, n_estimators=500, num_leaves=41;, score=0.775 total time=   0.8s\n",
      "[CV 2/5; 78/144] START boosting_type=gbdt, max_depth=-1, n_estimators=500, num_leaves=41\n",
      "[CV 2/5; 78/144] END boosting_type=gbdt, max_depth=-1, n_estimators=500, num_leaves=41;, score=0.796 total time=   0.9s\n",
      "[CV 3/5; 78/144] START boosting_type=gbdt, max_depth=-1, n_estimators=500, num_leaves=41\n",
      "[CV 3/5; 78/144] END boosting_type=gbdt, max_depth=-1, n_estimators=500, num_leaves=41;, score=0.771 total time=   0.7s\n",
      "[CV 4/5; 78/144] START boosting_type=gbdt, max_depth=-1, n_estimators=500, num_leaves=41\n",
      "[CV 4/5; 78/144] END boosting_type=gbdt, max_depth=-1, n_estimators=500, num_leaves=41;, score=0.774 total time=   0.8s\n",
      "[CV 5/5; 78/144] START boosting_type=gbdt, max_depth=-1, n_estimators=500, num_leaves=41\n",
      "[CV 5/5; 78/144] END boosting_type=gbdt, max_depth=-1, n_estimators=500, num_leaves=41;, score=0.795 total time=   0.9s\n",
      "[CV 1/5; 79/144] START boosting_type=gbdt, max_depth=-1, n_estimators=500, num_leaves=44\n",
      "[CV 1/5; 79/144] END boosting_type=gbdt, max_depth=-1, n_estimators=500, num_leaves=44;, score=0.776 total time=   0.8s\n",
      "[CV 2/5; 79/144] START boosting_type=gbdt, max_depth=-1, n_estimators=500, num_leaves=44\n",
      "[CV 2/5; 79/144] END boosting_type=gbdt, max_depth=-1, n_estimators=500, num_leaves=44;, score=0.800 total time=   0.8s\n",
      "[CV 3/5; 79/144] START boosting_type=gbdt, max_depth=-1, n_estimators=500, num_leaves=44\n",
      "[CV 3/5; 79/144] END boosting_type=gbdt, max_depth=-1, n_estimators=500, num_leaves=44;, score=0.769 total time=   0.8s\n",
      "[CV 4/5; 79/144] START boosting_type=gbdt, max_depth=-1, n_estimators=500, num_leaves=44\n",
      "[CV 4/5; 79/144] END boosting_type=gbdt, max_depth=-1, n_estimators=500, num_leaves=44;, score=0.777 total time=   0.8s\n",
      "[CV 5/5; 79/144] START boosting_type=gbdt, max_depth=-1, n_estimators=500, num_leaves=44\n",
      "[CV 5/5; 79/144] END boosting_type=gbdt, max_depth=-1, n_estimators=500, num_leaves=44;, score=0.788 total time=   0.7s\n",
      "[CV 1/5; 80/144] START boosting_type=gbdt, max_depth=-1, n_estimators=500, num_leaves=47\n",
      "[CV 1/5; 80/144] END boosting_type=gbdt, max_depth=-1, n_estimators=500, num_leaves=47;, score=0.770 total time=   0.8s\n",
      "[CV 2/5; 80/144] START boosting_type=gbdt, max_depth=-1, n_estimators=500, num_leaves=47\n",
      "[CV 2/5; 80/144] END boosting_type=gbdt, max_depth=-1, n_estimators=500, num_leaves=47;, score=0.793 total time=   0.9s\n",
      "[CV 3/5; 80/144] START boosting_type=gbdt, max_depth=-1, n_estimators=500, num_leaves=47\n",
      "[CV 3/5; 80/144] END boosting_type=gbdt, max_depth=-1, n_estimators=500, num_leaves=47;, score=0.774 total time=   0.8s\n",
      "[CV 4/5; 80/144] START boosting_type=gbdt, max_depth=-1, n_estimators=500, num_leaves=47\n",
      "[CV 4/5; 80/144] END boosting_type=gbdt, max_depth=-1, n_estimators=500, num_leaves=47;, score=0.779 total time=   1.2s\n",
      "[CV 5/5; 80/144] START boosting_type=gbdt, max_depth=-1, n_estimators=500, num_leaves=47\n",
      "[CV 5/5; 80/144] END boosting_type=gbdt, max_depth=-1, n_estimators=500, num_leaves=47;, score=0.786 total time=   0.9s\n",
      "[CV 1/5; 81/144] START boosting_type=gbdt, max_depth=-1, n_estimators=600, num_leaves=2\n",
      "[CV 1/5; 81/144] END boosting_type=gbdt, max_depth=-1, n_estimators=600, num_leaves=2;, score=0.779 total time=   0.2s\n",
      "[CV 2/5; 81/144] START boosting_type=gbdt, max_depth=-1, n_estimators=600, num_leaves=2\n",
      "[CV 2/5; 81/144] END boosting_type=gbdt, max_depth=-1, n_estimators=600, num_leaves=2;, score=0.808 total time=   0.2s\n",
      "[CV 3/5; 81/144] START boosting_type=gbdt, max_depth=-1, n_estimators=600, num_leaves=2\n",
      "[CV 3/5; 81/144] END boosting_type=gbdt, max_depth=-1, n_estimators=600, num_leaves=2;, score=0.796 total time=   0.2s\n",
      "[CV 4/5; 81/144] START boosting_type=gbdt, max_depth=-1, n_estimators=600, num_leaves=2\n",
      "[CV 4/5; 81/144] END boosting_type=gbdt, max_depth=-1, n_estimators=600, num_leaves=2;, score=0.788 total time=   0.2s\n",
      "[CV 5/5; 81/144] START boosting_type=gbdt, max_depth=-1, n_estimators=600, num_leaves=2\n",
      "[CV 5/5; 81/144] END boosting_type=gbdt, max_depth=-1, n_estimators=600, num_leaves=2;, score=0.803 total time=   0.2s\n",
      "[CV 1/5; 82/144] START boosting_type=gbdt, max_depth=-1, n_estimators=600, num_leaves=5\n",
      "[CV 1/5; 82/144] END boosting_type=gbdt, max_depth=-1, n_estimators=600, num_leaves=5;, score=0.787 total time=   0.3s\n",
      "[CV 2/5; 82/144] START boosting_type=gbdt, max_depth=-1, n_estimators=600, num_leaves=5\n",
      "[CV 2/5; 82/144] END boosting_type=gbdt, max_depth=-1, n_estimators=600, num_leaves=5;, score=0.802 total time=   0.3s\n",
      "[CV 3/5; 82/144] START boosting_type=gbdt, max_depth=-1, n_estimators=600, num_leaves=5\n",
      "[CV 3/5; 82/144] END boosting_type=gbdt, max_depth=-1, n_estimators=600, num_leaves=5;, score=0.790 total time=   0.2s\n",
      "[CV 4/5; 82/144] START boosting_type=gbdt, max_depth=-1, n_estimators=600, num_leaves=5\n",
      "[CV 4/5; 82/144] END boosting_type=gbdt, max_depth=-1, n_estimators=600, num_leaves=5;, score=0.799 total time=   0.7s\n",
      "[CV 5/5; 82/144] START boosting_type=gbdt, max_depth=-1, n_estimators=600, num_leaves=5\n",
      "[CV 5/5; 82/144] END boosting_type=gbdt, max_depth=-1, n_estimators=600, num_leaves=5;, score=0.796 total time=   1.0s\n",
      "[CV 1/5; 83/144] START boosting_type=gbdt, max_depth=-1, n_estimators=600, num_leaves=8\n",
      "[CV 1/5; 83/144] END boosting_type=gbdt, max_depth=-1, n_estimators=600, num_leaves=8;, score=0.779 total time=   1.3s\n",
      "[CV 2/5; 83/144] START boosting_type=gbdt, max_depth=-1, n_estimators=600, num_leaves=8\n",
      "[CV 2/5; 83/144] END boosting_type=gbdt, max_depth=-1, n_estimators=600, num_leaves=8;, score=0.799 total time=   0.4s\n",
      "[CV 3/5; 83/144] START boosting_type=gbdt, max_depth=-1, n_estimators=600, num_leaves=8\n",
      "[CV 3/5; 83/144] END boosting_type=gbdt, max_depth=-1, n_estimators=600, num_leaves=8;, score=0.781 total time=   0.3s\n",
      "[CV 4/5; 83/144] START boosting_type=gbdt, max_depth=-1, n_estimators=600, num_leaves=8\n",
      "[CV 4/5; 83/144] END boosting_type=gbdt, max_depth=-1, n_estimators=600, num_leaves=8;, score=0.795 total time=   0.5s\n",
      "[CV 5/5; 83/144] START boosting_type=gbdt, max_depth=-1, n_estimators=600, num_leaves=8\n",
      "[CV 5/5; 83/144] END boosting_type=gbdt, max_depth=-1, n_estimators=600, num_leaves=8;, score=0.796 total time=   0.3s\n",
      "[CV 1/5; 84/144] START boosting_type=gbdt, max_depth=-1, n_estimators=600, num_leaves=11\n",
      "[CV 1/5; 84/144] END boosting_type=gbdt, max_depth=-1, n_estimators=600, num_leaves=11;, score=0.779 total time=   0.9s\n",
      "[CV 2/5; 84/144] START boosting_type=gbdt, max_depth=-1, n_estimators=600, num_leaves=11\n",
      "[CV 2/5; 84/144] END boosting_type=gbdt, max_depth=-1, n_estimators=600, num_leaves=11;, score=0.792 total time=   0.4s\n",
      "[CV 3/5; 84/144] START boosting_type=gbdt, max_depth=-1, n_estimators=600, num_leaves=11\n",
      "[CV 3/5; 84/144] END boosting_type=gbdt, max_depth=-1, n_estimators=600, num_leaves=11;, score=0.776 total time=   0.5s\n",
      "[CV 4/5; 84/144] START boosting_type=gbdt, max_depth=-1, n_estimators=600, num_leaves=11\n",
      "[CV 4/5; 84/144] END boosting_type=gbdt, max_depth=-1, n_estimators=600, num_leaves=11;, score=0.795 total time=   0.4s\n",
      "[CV 5/5; 84/144] START boosting_type=gbdt, max_depth=-1, n_estimators=600, num_leaves=11\n",
      "[CV 5/5; 84/144] END boosting_type=gbdt, max_depth=-1, n_estimators=600, num_leaves=11;, score=0.792 total time=   0.4s\n",
      "[CV 1/5; 85/144] START boosting_type=gbdt, max_depth=-1, n_estimators=600, num_leaves=14\n",
      "[CV 1/5; 85/144] END boosting_type=gbdt, max_depth=-1, n_estimators=600, num_leaves=14;, score=0.774 total time=   0.4s\n",
      "[CV 2/5; 85/144] START boosting_type=gbdt, max_depth=-1, n_estimators=600, num_leaves=14\n",
      "[CV 2/5; 85/144] END boosting_type=gbdt, max_depth=-1, n_estimators=600, num_leaves=14;, score=0.794 total time=   0.6s\n",
      "[CV 3/5; 85/144] START boosting_type=gbdt, max_depth=-1, n_estimators=600, num_leaves=14\n",
      "[CV 3/5; 85/144] END boosting_type=gbdt, max_depth=-1, n_estimators=600, num_leaves=14;, score=0.775 total time=   0.4s\n",
      "[CV 4/5; 85/144] START boosting_type=gbdt, max_depth=-1, n_estimators=600, num_leaves=14\n",
      "[CV 4/5; 85/144] END boosting_type=gbdt, max_depth=-1, n_estimators=600, num_leaves=14;, score=0.791 total time=   0.4s\n",
      "[CV 5/5; 85/144] START boosting_type=gbdt, max_depth=-1, n_estimators=600, num_leaves=14\n",
      "[CV 5/5; 85/144] END boosting_type=gbdt, max_depth=-1, n_estimators=600, num_leaves=14;, score=0.788 total time=   0.4s\n",
      "[CV 1/5; 86/144] START boosting_type=gbdt, max_depth=-1, n_estimators=600, num_leaves=17\n",
      "[CV 1/5; 86/144] END boosting_type=gbdt, max_depth=-1, n_estimators=600, num_leaves=17;, score=0.773 total time=   0.5s\n",
      "[CV 2/5; 86/144] START boosting_type=gbdt, max_depth=-1, n_estimators=600, num_leaves=17\n",
      "[CV 2/5; 86/144] END boosting_type=gbdt, max_depth=-1, n_estimators=600, num_leaves=17;, score=0.788 total time=   0.5s\n",
      "[CV 3/5; 86/144] START boosting_type=gbdt, max_depth=-1, n_estimators=600, num_leaves=17\n",
      "[CV 3/5; 86/144] END boosting_type=gbdt, max_depth=-1, n_estimators=600, num_leaves=17;, score=0.777 total time=   0.5s\n",
      "[CV 4/5; 86/144] START boosting_type=gbdt, max_depth=-1, n_estimators=600, num_leaves=17\n",
      "[CV 4/5; 86/144] END boosting_type=gbdt, max_depth=-1, n_estimators=600, num_leaves=17;, score=0.788 total time=   0.6s\n",
      "[CV 5/5; 86/144] START boosting_type=gbdt, max_depth=-1, n_estimators=600, num_leaves=17\n",
      "[CV 5/5; 86/144] END boosting_type=gbdt, max_depth=-1, n_estimators=600, num_leaves=17;, score=0.799 total time=   0.6s\n",
      "[CV 1/5; 87/144] START boosting_type=gbdt, max_depth=-1, n_estimators=600, num_leaves=20\n",
      "[CV 1/5; 87/144] END boosting_type=gbdt, max_depth=-1, n_estimators=600, num_leaves=20;, score=0.774 total time=   2.6s\n",
      "[CV 2/5; 87/144] START boosting_type=gbdt, max_depth=-1, n_estimators=600, num_leaves=20\n",
      "[CV 2/5; 87/144] END boosting_type=gbdt, max_depth=-1, n_estimators=600, num_leaves=20;, score=0.790 total time=   0.6s\n",
      "[CV 3/5; 87/144] START boosting_type=gbdt, max_depth=-1, n_estimators=600, num_leaves=20\n",
      "[CV 3/5; 87/144] END boosting_type=gbdt, max_depth=-1, n_estimators=600, num_leaves=20;, score=0.775 total time=   0.9s\n",
      "[CV 4/5; 87/144] START boosting_type=gbdt, max_depth=-1, n_estimators=600, num_leaves=20\n",
      "[CV 4/5; 87/144] END boosting_type=gbdt, max_depth=-1, n_estimators=600, num_leaves=20;, score=0.781 total time=   1.5s\n",
      "[CV 5/5; 87/144] START boosting_type=gbdt, max_depth=-1, n_estimators=600, num_leaves=20\n",
      "[CV 5/5; 87/144] END boosting_type=gbdt, max_depth=-1, n_estimators=600, num_leaves=20;, score=0.790 total time=   0.5s\n",
      "[CV 1/5; 88/144] START boosting_type=gbdt, max_depth=-1, n_estimators=600, num_leaves=23\n",
      "[CV 1/5; 88/144] END boosting_type=gbdt, max_depth=-1, n_estimators=600, num_leaves=23;, score=0.774 total time=   0.6s\n",
      "[CV 2/5; 88/144] START boosting_type=gbdt, max_depth=-1, n_estimators=600, num_leaves=23\n",
      "[CV 2/5; 88/144] END boosting_type=gbdt, max_depth=-1, n_estimators=600, num_leaves=23;, score=0.791 total time=   0.6s\n",
      "[CV 3/5; 88/144] START boosting_type=gbdt, max_depth=-1, n_estimators=600, num_leaves=23\n",
      "[CV 3/5; 88/144] END boosting_type=gbdt, max_depth=-1, n_estimators=600, num_leaves=23;, score=0.778 total time=   0.6s\n",
      "[CV 4/5; 88/144] START boosting_type=gbdt, max_depth=-1, n_estimators=600, num_leaves=23\n",
      "[CV 4/5; 88/144] END boosting_type=gbdt, max_depth=-1, n_estimators=600, num_leaves=23;, score=0.777 total time=   0.6s\n",
      "[CV 5/5; 88/144] START boosting_type=gbdt, max_depth=-1, n_estimators=600, num_leaves=23\n",
      "[CV 5/5; 88/144] END boosting_type=gbdt, max_depth=-1, n_estimators=600, num_leaves=23;, score=0.791 total time=   0.7s\n",
      "[CV 1/5; 89/144] START boosting_type=gbdt, max_depth=-1, n_estimators=600, num_leaves=26\n",
      "[CV 1/5; 89/144] END boosting_type=gbdt, max_depth=-1, n_estimators=600, num_leaves=26;, score=0.779 total time=   0.6s\n",
      "[CV 2/5; 89/144] START boosting_type=gbdt, max_depth=-1, n_estimators=600, num_leaves=26\n",
      "[CV 2/5; 89/144] END boosting_type=gbdt, max_depth=-1, n_estimators=600, num_leaves=26;, score=0.786 total time=   1.7s\n",
      "[CV 3/5; 89/144] START boosting_type=gbdt, max_depth=-1, n_estimators=600, num_leaves=26\n",
      "[CV 3/5; 89/144] END boosting_type=gbdt, max_depth=-1, n_estimators=600, num_leaves=26;, score=0.774 total time=   0.6s\n",
      "[CV 4/5; 89/144] START boosting_type=gbdt, max_depth=-1, n_estimators=600, num_leaves=26\n",
      "[CV 4/5; 89/144] END boosting_type=gbdt, max_depth=-1, n_estimators=600, num_leaves=26;, score=0.781 total time=   0.6s\n",
      "[CV 5/5; 89/144] START boosting_type=gbdt, max_depth=-1, n_estimators=600, num_leaves=26\n",
      "[CV 5/5; 89/144] END boosting_type=gbdt, max_depth=-1, n_estimators=600, num_leaves=26;, score=0.792 total time=   0.6s\n",
      "[CV 1/5; 90/144] START boosting_type=gbdt, max_depth=-1, n_estimators=600, num_leaves=29\n",
      "[CV 1/5; 90/144] END boosting_type=gbdt, max_depth=-1, n_estimators=600, num_leaves=29;, score=0.779 total time=   0.6s\n",
      "[CV 2/5; 90/144] START boosting_type=gbdt, max_depth=-1, n_estimators=600, num_leaves=29\n",
      "[CV 2/5; 90/144] END boosting_type=gbdt, max_depth=-1, n_estimators=600, num_leaves=29;, score=0.796 total time=   0.8s\n",
      "[CV 3/5; 90/144] START boosting_type=gbdt, max_depth=-1, n_estimators=600, num_leaves=29\n",
      "[CV 3/5; 90/144] END boosting_type=gbdt, max_depth=-1, n_estimators=600, num_leaves=29;, score=0.771 total time=   0.6s\n",
      "[CV 4/5; 90/144] START boosting_type=gbdt, max_depth=-1, n_estimators=600, num_leaves=29\n",
      "[CV 4/5; 90/144] END boosting_type=gbdt, max_depth=-1, n_estimators=600, num_leaves=29;, score=0.776 total time=   0.7s\n",
      "[CV 5/5; 90/144] START boosting_type=gbdt, max_depth=-1, n_estimators=600, num_leaves=29\n",
      "[CV 5/5; 90/144] END boosting_type=gbdt, max_depth=-1, n_estimators=600, num_leaves=29;, score=0.796 total time=   0.7s\n",
      "[CV 1/5; 91/144] START boosting_type=gbdt, max_depth=-1, n_estimators=600, num_leaves=32\n",
      "[CV 1/5; 91/144] END boosting_type=gbdt, max_depth=-1, n_estimators=600, num_leaves=32;, score=0.776 total time=   0.8s\n",
      "[CV 2/5; 91/144] START boosting_type=gbdt, max_depth=-1, n_estimators=600, num_leaves=32\n",
      "[CV 2/5; 91/144] END boosting_type=gbdt, max_depth=-1, n_estimators=600, num_leaves=32;, score=0.799 total time=   0.8s\n",
      "[CV 3/5; 91/144] START boosting_type=gbdt, max_depth=-1, n_estimators=600, num_leaves=32\n",
      "[CV 3/5; 91/144] END boosting_type=gbdt, max_depth=-1, n_estimators=600, num_leaves=32;, score=0.774 total time=   0.8s\n",
      "[CV 4/5; 91/144] START boosting_type=gbdt, max_depth=-1, n_estimators=600, num_leaves=32\n",
      "[CV 4/5; 91/144] END boosting_type=gbdt, max_depth=-1, n_estimators=600, num_leaves=32;, score=0.778 total time=   0.8s\n",
      "[CV 5/5; 91/144] START boosting_type=gbdt, max_depth=-1, n_estimators=600, num_leaves=32\n",
      "[CV 5/5; 91/144] END boosting_type=gbdt, max_depth=-1, n_estimators=600, num_leaves=32;, score=0.790 total time=   0.8s\n",
      "[CV 1/5; 92/144] START boosting_type=gbdt, max_depth=-1, n_estimators=600, num_leaves=35\n",
      "[CV 1/5; 92/144] END boosting_type=gbdt, max_depth=-1, n_estimators=600, num_leaves=35;, score=0.772 total time=   0.8s\n",
      "[CV 2/5; 92/144] START boosting_type=gbdt, max_depth=-1, n_estimators=600, num_leaves=35\n",
      "[CV 2/5; 92/144] END boosting_type=gbdt, max_depth=-1, n_estimators=600, num_leaves=35;, score=0.797 total time=   0.8s\n",
      "[CV 3/5; 92/144] START boosting_type=gbdt, max_depth=-1, n_estimators=600, num_leaves=35\n",
      "[CV 3/5; 92/144] END boosting_type=gbdt, max_depth=-1, n_estimators=600, num_leaves=35;, score=0.769 total time=   0.7s\n",
      "[CV 4/5; 92/144] START boosting_type=gbdt, max_depth=-1, n_estimators=600, num_leaves=35\n",
      "[CV 4/5; 92/144] END boosting_type=gbdt, max_depth=-1, n_estimators=600, num_leaves=35;, score=0.774 total time=   0.7s\n",
      "[CV 5/5; 92/144] START boosting_type=gbdt, max_depth=-1, n_estimators=600, num_leaves=35\n",
      "[CV 5/5; 92/144] END boosting_type=gbdt, max_depth=-1, n_estimators=600, num_leaves=35;, score=0.795 total time=   0.8s\n",
      "[CV 1/5; 93/144] START boosting_type=gbdt, max_depth=-1, n_estimators=600, num_leaves=38\n",
      "[CV 1/5; 93/144] END boosting_type=gbdt, max_depth=-1, n_estimators=600, num_leaves=38;, score=0.774 total time=   0.8s\n",
      "[CV 2/5; 93/144] START boosting_type=gbdt, max_depth=-1, n_estimators=600, num_leaves=38\n",
      "[CV 2/5; 93/144] END boosting_type=gbdt, max_depth=-1, n_estimators=600, num_leaves=38;, score=0.797 total time=   2.9s\n",
      "[CV 3/5; 93/144] START boosting_type=gbdt, max_depth=-1, n_estimators=600, num_leaves=38\n",
      "[CV 3/5; 93/144] END boosting_type=gbdt, max_depth=-1, n_estimators=600, num_leaves=38;, score=0.776 total time=   1.4s\n",
      "[CV 4/5; 93/144] START boosting_type=gbdt, max_depth=-1, n_estimators=600, num_leaves=38\n",
      "[CV 4/5; 93/144] END boosting_type=gbdt, max_depth=-1, n_estimators=600, num_leaves=38;, score=0.775 total time=   2.2s\n",
      "[CV 5/5; 93/144] START boosting_type=gbdt, max_depth=-1, n_estimators=600, num_leaves=38\n",
      "[CV 5/5; 93/144] END boosting_type=gbdt, max_depth=-1, n_estimators=600, num_leaves=38;, score=0.783 total time=   0.8s\n",
      "[CV 1/5; 94/144] START boosting_type=gbdt, max_depth=-1, n_estimators=600, num_leaves=41\n",
      "[CV 1/5; 94/144] END boosting_type=gbdt, max_depth=-1, n_estimators=600, num_leaves=41;, score=0.769 total time=   2.8s\n",
      "[CV 2/5; 94/144] START boosting_type=gbdt, max_depth=-1, n_estimators=600, num_leaves=41\n",
      "[CV 2/5; 94/144] END boosting_type=gbdt, max_depth=-1, n_estimators=600, num_leaves=41;, score=0.794 total time=   2.8s\n",
      "[CV 3/5; 94/144] START boosting_type=gbdt, max_depth=-1, n_estimators=600, num_leaves=41\n",
      "[CV 3/5; 94/144] END boosting_type=gbdt, max_depth=-1, n_estimators=600, num_leaves=41;, score=0.775 total time=   0.8s\n",
      "[CV 4/5; 94/144] START boosting_type=gbdt, max_depth=-1, n_estimators=600, num_leaves=41\n",
      "[CV 4/5; 94/144] END boosting_type=gbdt, max_depth=-1, n_estimators=600, num_leaves=41;, score=0.774 total time=   0.8s\n",
      "[CV 5/5; 94/144] START boosting_type=gbdt, max_depth=-1, n_estimators=600, num_leaves=41\n",
      "[CV 5/5; 94/144] END boosting_type=gbdt, max_depth=-1, n_estimators=600, num_leaves=41;, score=0.795 total time=   0.8s\n",
      "[CV 1/5; 95/144] START boosting_type=gbdt, max_depth=-1, n_estimators=600, num_leaves=44\n",
      "[CV 1/5; 95/144] END boosting_type=gbdt, max_depth=-1, n_estimators=600, num_leaves=44;, score=0.768 total time=   0.9s\n",
      "[CV 2/5; 95/144] START boosting_type=gbdt, max_depth=-1, n_estimators=600, num_leaves=44\n",
      "[CV 2/5; 95/144] END boosting_type=gbdt, max_depth=-1, n_estimators=600, num_leaves=44;, score=0.802 total time=   0.9s\n",
      "[CV 3/5; 95/144] START boosting_type=gbdt, max_depth=-1, n_estimators=600, num_leaves=44\n",
      "[CV 3/5; 95/144] END boosting_type=gbdt, max_depth=-1, n_estimators=600, num_leaves=44;, score=0.769 total time=   1.0s\n",
      "[CV 4/5; 95/144] START boosting_type=gbdt, max_depth=-1, n_estimators=600, num_leaves=44\n",
      "[CV 4/5; 95/144] END boosting_type=gbdt, max_depth=-1, n_estimators=600, num_leaves=44;, score=0.774 total time=   0.9s\n",
      "[CV 5/5; 95/144] START boosting_type=gbdt, max_depth=-1, n_estimators=600, num_leaves=44\n",
      "[CV 5/5; 95/144] END boosting_type=gbdt, max_depth=-1, n_estimators=600, num_leaves=44;, score=0.788 total time=   1.0s\n",
      "[CV 1/5; 96/144] START boosting_type=gbdt, max_depth=-1, n_estimators=600, num_leaves=47\n",
      "[CV 1/5; 96/144] END boosting_type=gbdt, max_depth=-1, n_estimators=600, num_leaves=47;, score=0.764 total time=   1.0s\n",
      "[CV 2/5; 96/144] START boosting_type=gbdt, max_depth=-1, n_estimators=600, num_leaves=47\n",
      "[CV 2/5; 96/144] END boosting_type=gbdt, max_depth=-1, n_estimators=600, num_leaves=47;, score=0.793 total time=   2.0s\n",
      "[CV 3/5; 96/144] START boosting_type=gbdt, max_depth=-1, n_estimators=600, num_leaves=47\n",
      "[CV 3/5; 96/144] END boosting_type=gbdt, max_depth=-1, n_estimators=600, num_leaves=47;, score=0.769 total time=   1.0s\n",
      "[CV 4/5; 96/144] START boosting_type=gbdt, max_depth=-1, n_estimators=600, num_leaves=47\n",
      "[CV 4/5; 96/144] END boosting_type=gbdt, max_depth=-1, n_estimators=600, num_leaves=47;, score=0.775 total time=   1.4s\n",
      "[CV 5/5; 96/144] START boosting_type=gbdt, max_depth=-1, n_estimators=600, num_leaves=47\n",
      "[CV 5/5; 96/144] END boosting_type=gbdt, max_depth=-1, n_estimators=600, num_leaves=47;, score=0.789 total time=   1.3s\n",
      "[CV 1/5; 97/144] START boosting_type=gbdt, max_depth=-1, n_estimators=700, num_leaves=2\n",
      "[CV 1/5; 97/144] END boosting_type=gbdt, max_depth=-1, n_estimators=700, num_leaves=2;, score=0.781 total time=   0.2s\n",
      "[CV 2/5; 97/144] START boosting_type=gbdt, max_depth=-1, n_estimators=700, num_leaves=2\n",
      "[CV 2/5; 97/144] END boosting_type=gbdt, max_depth=-1, n_estimators=700, num_leaves=2;, score=0.809 total time=   0.2s\n",
      "[CV 3/5; 97/144] START boosting_type=gbdt, max_depth=-1, n_estimators=700, num_leaves=2\n",
      "[CV 3/5; 97/144] END boosting_type=gbdt, max_depth=-1, n_estimators=700, num_leaves=2;, score=0.795 total time=   0.8s\n",
      "[CV 4/5; 97/144] START boosting_type=gbdt, max_depth=-1, n_estimators=700, num_leaves=2\n",
      "[CV 4/5; 97/144] END boosting_type=gbdt, max_depth=-1, n_estimators=700, num_leaves=2;, score=0.790 total time=   0.4s\n",
      "[CV 5/5; 97/144] START boosting_type=gbdt, max_depth=-1, n_estimators=700, num_leaves=2\n",
      "[CV 5/5; 97/144] END boosting_type=gbdt, max_depth=-1, n_estimators=700, num_leaves=2;, score=0.803 total time=   0.2s\n",
      "[CV 1/5; 98/144] START boosting_type=gbdt, max_depth=-1, n_estimators=700, num_leaves=5\n",
      "[CV 1/5; 98/144] END boosting_type=gbdt, max_depth=-1, n_estimators=700, num_leaves=5;, score=0.786 total time=   0.5s\n",
      "[CV 2/5; 98/144] START boosting_type=gbdt, max_depth=-1, n_estimators=700, num_leaves=5\n",
      "[CV 2/5; 98/144] END boosting_type=gbdt, max_depth=-1, n_estimators=700, num_leaves=5;, score=0.800 total time=   0.4s\n",
      "[CV 3/5; 98/144] START boosting_type=gbdt, max_depth=-1, n_estimators=700, num_leaves=5\n",
      "[CV 3/5; 98/144] END boosting_type=gbdt, max_depth=-1, n_estimators=700, num_leaves=5;, score=0.787 total time=   0.6s\n",
      "[CV 4/5; 98/144] START boosting_type=gbdt, max_depth=-1, n_estimators=700, num_leaves=5\n",
      "[CV 4/5; 98/144] END boosting_type=gbdt, max_depth=-1, n_estimators=700, num_leaves=5;, score=0.797 total time=   1.1s\n",
      "[CV 5/5; 98/144] START boosting_type=gbdt, max_depth=-1, n_estimators=700, num_leaves=5\n",
      "[CV 5/5; 98/144] END boosting_type=gbdt, max_depth=-1, n_estimators=700, num_leaves=5;, score=0.796 total time=   0.4s\n",
      "[CV 1/5; 99/144] START boosting_type=gbdt, max_depth=-1, n_estimators=700, num_leaves=8\n",
      "[CV 1/5; 99/144] END boosting_type=gbdt, max_depth=-1, n_estimators=700, num_leaves=8;, score=0.779 total time=   0.3s\n",
      "[CV 2/5; 99/144] START boosting_type=gbdt, max_depth=-1, n_estimators=700, num_leaves=8\n",
      "[CV 2/5; 99/144] END boosting_type=gbdt, max_depth=-1, n_estimators=700, num_leaves=8;, score=0.797 total time=   0.4s\n",
      "[CV 3/5; 99/144] START boosting_type=gbdt, max_depth=-1, n_estimators=700, num_leaves=8\n",
      "[CV 3/5; 99/144] END boosting_type=gbdt, max_depth=-1, n_estimators=700, num_leaves=8;, score=0.781 total time=   0.3s\n",
      "[CV 4/5; 99/144] START boosting_type=gbdt, max_depth=-1, n_estimators=700, num_leaves=8\n",
      "[CV 4/5; 99/144] END boosting_type=gbdt, max_depth=-1, n_estimators=700, num_leaves=8;, score=0.799 total time=   0.3s\n",
      "[CV 5/5; 99/144] START boosting_type=gbdt, max_depth=-1, n_estimators=700, num_leaves=8\n",
      "[CV 5/5; 99/144] END boosting_type=gbdt, max_depth=-1, n_estimators=700, num_leaves=8;, score=0.794 total time=   0.3s\n",
      "[CV 1/5; 100/144] START boosting_type=gbdt, max_depth=-1, n_estimators=700, num_leaves=11\n",
      "[CV 1/5; 100/144] END boosting_type=gbdt, max_depth=-1, n_estimators=700, num_leaves=11;, score=0.780 total time=   0.4s\n",
      "[CV 2/5; 100/144] START boosting_type=gbdt, max_depth=-1, n_estimators=700, num_leaves=11\n",
      "[CV 2/5; 100/144] END boosting_type=gbdt, max_depth=-1, n_estimators=700, num_leaves=11;, score=0.792 total time=   0.4s\n",
      "[CV 3/5; 100/144] START boosting_type=gbdt, max_depth=-1, n_estimators=700, num_leaves=11\n",
      "[CV 3/5; 100/144] END boosting_type=gbdt, max_depth=-1, n_estimators=700, num_leaves=11;, score=0.779 total time=   0.4s\n",
      "[CV 4/5; 100/144] START boosting_type=gbdt, max_depth=-1, n_estimators=700, num_leaves=11\n",
      "[CV 4/5; 100/144] END boosting_type=gbdt, max_depth=-1, n_estimators=700, num_leaves=11;, score=0.794 total time=   0.4s\n",
      "[CV 5/5; 100/144] START boosting_type=gbdt, max_depth=-1, n_estimators=700, num_leaves=11\n",
      "[CV 5/5; 100/144] END boosting_type=gbdt, max_depth=-1, n_estimators=700, num_leaves=11;, score=0.791 total time=   0.4s\n",
      "[CV 1/5; 101/144] START boosting_type=gbdt, max_depth=-1, n_estimators=700, num_leaves=14\n",
      "[CV 1/5; 101/144] END boosting_type=gbdt, max_depth=-1, n_estimators=700, num_leaves=14;, score=0.774 total time=   0.5s\n",
      "[CV 2/5; 101/144] START boosting_type=gbdt, max_depth=-1, n_estimators=700, num_leaves=14\n",
      "[CV 2/5; 101/144] END boosting_type=gbdt, max_depth=-1, n_estimators=700, num_leaves=14;, score=0.795 total time=   0.6s\n",
      "[CV 3/5; 101/144] START boosting_type=gbdt, max_depth=-1, n_estimators=700, num_leaves=14\n",
      "[CV 3/5; 101/144] END boosting_type=gbdt, max_depth=-1, n_estimators=700, num_leaves=14;, score=0.779 total time=   0.5s\n",
      "[CV 4/5; 101/144] START boosting_type=gbdt, max_depth=-1, n_estimators=700, num_leaves=14\n",
      "[CV 4/5; 101/144] END boosting_type=gbdt, max_depth=-1, n_estimators=700, num_leaves=14;, score=0.790 total time=   0.5s\n",
      "[CV 5/5; 101/144] START boosting_type=gbdt, max_depth=-1, n_estimators=700, num_leaves=14\n",
      "[CV 5/5; 101/144] END boosting_type=gbdt, max_depth=-1, n_estimators=700, num_leaves=14;, score=0.788 total time=   0.5s\n",
      "[CV 1/5; 102/144] START boosting_type=gbdt, max_depth=-1, n_estimators=700, num_leaves=17\n",
      "[CV 1/5; 102/144] END boosting_type=gbdt, max_depth=-1, n_estimators=700, num_leaves=17;, score=0.778 total time=   0.5s\n",
      "[CV 2/5; 102/144] START boosting_type=gbdt, max_depth=-1, n_estimators=700, num_leaves=17\n",
      "[CV 2/5; 102/144] END boosting_type=gbdt, max_depth=-1, n_estimators=700, num_leaves=17;, score=0.792 total time=   0.5s\n",
      "[CV 3/5; 102/144] START boosting_type=gbdt, max_depth=-1, n_estimators=700, num_leaves=17\n",
      "[CV 3/5; 102/144] END boosting_type=gbdt, max_depth=-1, n_estimators=700, num_leaves=17;, score=0.779 total time=   0.5s\n",
      "[CV 4/5; 102/144] START boosting_type=gbdt, max_depth=-1, n_estimators=700, num_leaves=17\n",
      "[CV 4/5; 102/144] END boosting_type=gbdt, max_depth=-1, n_estimators=700, num_leaves=17;, score=0.784 total time=   0.5s\n",
      "[CV 5/5; 102/144] START boosting_type=gbdt, max_depth=-1, n_estimators=700, num_leaves=17\n",
      "[CV 5/5; 102/144] END boosting_type=gbdt, max_depth=-1, n_estimators=700, num_leaves=17;, score=0.798 total time=   0.5s\n",
      "[CV 1/5; 103/144] START boosting_type=gbdt, max_depth=-1, n_estimators=700, num_leaves=20\n",
      "[CV 1/5; 103/144] END boosting_type=gbdt, max_depth=-1, n_estimators=700, num_leaves=20;, score=0.774 total time=   0.6s\n",
      "[CV 2/5; 103/144] START boosting_type=gbdt, max_depth=-1, n_estimators=700, num_leaves=20\n",
      "[CV 2/5; 103/144] END boosting_type=gbdt, max_depth=-1, n_estimators=700, num_leaves=20;, score=0.788 total time=   0.6s\n",
      "[CV 3/5; 103/144] START boosting_type=gbdt, max_depth=-1, n_estimators=700, num_leaves=20\n",
      "[CV 3/5; 103/144] END boosting_type=gbdt, max_depth=-1, n_estimators=700, num_leaves=20;, score=0.773 total time=   0.6s\n",
      "[CV 4/5; 103/144] START boosting_type=gbdt, max_depth=-1, n_estimators=700, num_leaves=20\n",
      "[CV 4/5; 103/144] END boosting_type=gbdt, max_depth=-1, n_estimators=700, num_leaves=20;, score=0.779 total time=   0.7s\n",
      "[CV 5/5; 103/144] START boosting_type=gbdt, max_depth=-1, n_estimators=700, num_leaves=20\n",
      "[CV 5/5; 103/144] END boosting_type=gbdt, max_depth=-1, n_estimators=700, num_leaves=20;, score=0.792 total time=   0.6s\n",
      "[CV 1/5; 104/144] START boosting_type=gbdt, max_depth=-1, n_estimators=700, num_leaves=23\n",
      "[CV 1/5; 104/144] END boosting_type=gbdt, max_depth=-1, n_estimators=700, num_leaves=23;, score=0.776 total time=   0.6s\n",
      "[CV 2/5; 104/144] START boosting_type=gbdt, max_depth=-1, n_estimators=700, num_leaves=23\n",
      "[CV 2/5; 104/144] END boosting_type=gbdt, max_depth=-1, n_estimators=700, num_leaves=23;, score=0.791 total time=   0.6s\n",
      "[CV 3/5; 104/144] START boosting_type=gbdt, max_depth=-1, n_estimators=700, num_leaves=23\n",
      "[CV 3/5; 104/144] END boosting_type=gbdt, max_depth=-1, n_estimators=700, num_leaves=23;, score=0.776 total time=   0.6s\n",
      "[CV 4/5; 104/144] START boosting_type=gbdt, max_depth=-1, n_estimators=700, num_leaves=23\n",
      "[CV 4/5; 104/144] END boosting_type=gbdt, max_depth=-1, n_estimators=700, num_leaves=23;, score=0.776 total time=   0.6s\n",
      "[CV 5/5; 104/144] START boosting_type=gbdt, max_depth=-1, n_estimators=700, num_leaves=23\n",
      "[CV 5/5; 104/144] END boosting_type=gbdt, max_depth=-1, n_estimators=700, num_leaves=23;, score=0.788 total time=   0.6s\n",
      "[CV 1/5; 105/144] START boosting_type=gbdt, max_depth=-1, n_estimators=700, num_leaves=26\n",
      "[CV 1/5; 105/144] END boosting_type=gbdt, max_depth=-1, n_estimators=700, num_leaves=26;, score=0.779 total time=   0.7s\n",
      "[CV 2/5; 105/144] START boosting_type=gbdt, max_depth=-1, n_estimators=700, num_leaves=26\n",
      "[CV 2/5; 105/144] END boosting_type=gbdt, max_depth=-1, n_estimators=700, num_leaves=26;, score=0.790 total time=   0.7s\n",
      "[CV 3/5; 105/144] START boosting_type=gbdt, max_depth=-1, n_estimators=700, num_leaves=26\n",
      "[CV 3/5; 105/144] END boosting_type=gbdt, max_depth=-1, n_estimators=700, num_leaves=26;, score=0.773 total time=   0.7s\n",
      "[CV 4/5; 105/144] START boosting_type=gbdt, max_depth=-1, n_estimators=700, num_leaves=26\n",
      "[CV 4/5; 105/144] END boosting_type=gbdt, max_depth=-1, n_estimators=700, num_leaves=26;, score=0.781 total time=   1.3s\n",
      "[CV 5/5; 105/144] START boosting_type=gbdt, max_depth=-1, n_estimators=700, num_leaves=26\n",
      "[CV 5/5; 105/144] END boosting_type=gbdt, max_depth=-1, n_estimators=700, num_leaves=26;, score=0.791 total time=   1.1s\n",
      "[CV 1/5; 106/144] START boosting_type=gbdt, max_depth=-1, n_estimators=700, num_leaves=29\n",
      "[CV 1/5; 106/144] END boosting_type=gbdt, max_depth=-1, n_estimators=700, num_leaves=29;, score=0.778 total time=   0.9s\n",
      "[CV 2/5; 106/144] START boosting_type=gbdt, max_depth=-1, n_estimators=700, num_leaves=29\n",
      "[CV 2/5; 106/144] END boosting_type=gbdt, max_depth=-1, n_estimators=700, num_leaves=29;, score=0.796 total time=   0.8s\n",
      "[CV 3/5; 106/144] START boosting_type=gbdt, max_depth=-1, n_estimators=700, num_leaves=29\n",
      "[CV 3/5; 106/144] END boosting_type=gbdt, max_depth=-1, n_estimators=700, num_leaves=29;, score=0.773 total time=   0.7s\n",
      "[CV 4/5; 106/144] START boosting_type=gbdt, max_depth=-1, n_estimators=700, num_leaves=29\n",
      "[CV 4/5; 106/144] END boosting_type=gbdt, max_depth=-1, n_estimators=700, num_leaves=29;, score=0.771 total time=   0.7s\n",
      "[CV 5/5; 106/144] START boosting_type=gbdt, max_depth=-1, n_estimators=700, num_leaves=29\n",
      "[CV 5/5; 106/144] END boosting_type=gbdt, max_depth=-1, n_estimators=700, num_leaves=29;, score=0.792 total time=   0.7s\n",
      "[CV 1/5; 107/144] START boosting_type=gbdt, max_depth=-1, n_estimators=700, num_leaves=32\n",
      "[CV 1/5; 107/144] END boosting_type=gbdt, max_depth=-1, n_estimators=700, num_leaves=32;, score=0.773 total time=   1.7s\n",
      "[CV 2/5; 107/144] START boosting_type=gbdt, max_depth=-1, n_estimators=700, num_leaves=32\n",
      "[CV 2/5; 107/144] END boosting_type=gbdt, max_depth=-1, n_estimators=700, num_leaves=32;, score=0.794 total time=   0.8s\n",
      "[CV 3/5; 107/144] START boosting_type=gbdt, max_depth=-1, n_estimators=700, num_leaves=32\n",
      "[CV 3/5; 107/144] END boosting_type=gbdt, max_depth=-1, n_estimators=700, num_leaves=32;, score=0.773 total time=   1.0s\n",
      "[CV 4/5; 107/144] START boosting_type=gbdt, max_depth=-1, n_estimators=700, num_leaves=32\n",
      "[CV 4/5; 107/144] END boosting_type=gbdt, max_depth=-1, n_estimators=700, num_leaves=32;, score=0.777 total time=   1.1s\n",
      "[CV 5/5; 107/144] START boosting_type=gbdt, max_depth=-1, n_estimators=700, num_leaves=32\n",
      "[CV 5/5; 107/144] END boosting_type=gbdt, max_depth=-1, n_estimators=700, num_leaves=32;, score=0.791 total time=   0.9s\n",
      "[CV 1/5; 108/144] START boosting_type=gbdt, max_depth=-1, n_estimators=700, num_leaves=35\n",
      "[CV 1/5; 108/144] END boosting_type=gbdt, max_depth=-1, n_estimators=700, num_leaves=35;, score=0.771 total time=   0.9s\n",
      "[CV 2/5; 108/144] START boosting_type=gbdt, max_depth=-1, n_estimators=700, num_leaves=35\n",
      "[CV 2/5; 108/144] END boosting_type=gbdt, max_depth=-1, n_estimators=700, num_leaves=35;, score=0.797 total time=   1.0s\n",
      "[CV 3/5; 108/144] START boosting_type=gbdt, max_depth=-1, n_estimators=700, num_leaves=35\n",
      "[CV 3/5; 108/144] END boosting_type=gbdt, max_depth=-1, n_estimators=700, num_leaves=35;, score=0.766 total time=   0.9s\n",
      "[CV 4/5; 108/144] START boosting_type=gbdt, max_depth=-1, n_estimators=700, num_leaves=35\n",
      "[CV 4/5; 108/144] END boosting_type=gbdt, max_depth=-1, n_estimators=700, num_leaves=35;, score=0.774 total time=   0.9s\n",
      "[CV 5/5; 108/144] START boosting_type=gbdt, max_depth=-1, n_estimators=700, num_leaves=35\n",
      "[CV 5/5; 108/144] END boosting_type=gbdt, max_depth=-1, n_estimators=700, num_leaves=35;, score=0.790 total time=   0.9s\n",
      "[CV 1/5; 109/144] START boosting_type=gbdt, max_depth=-1, n_estimators=700, num_leaves=38\n",
      "[CV 1/5; 109/144] END boosting_type=gbdt, max_depth=-1, n_estimators=700, num_leaves=38;, score=0.769 total time=   2.2s\n",
      "[CV 2/5; 109/144] START boosting_type=gbdt, max_depth=-1, n_estimators=700, num_leaves=38\n",
      "[CV 2/5; 109/144] END boosting_type=gbdt, max_depth=-1, n_estimators=700, num_leaves=38;, score=0.797 total time=   1.1s\n",
      "[CV 3/5; 109/144] START boosting_type=gbdt, max_depth=-1, n_estimators=700, num_leaves=38\n",
      "[CV 3/5; 109/144] END boosting_type=gbdt, max_depth=-1, n_estimators=700, num_leaves=38;, score=0.776 total time=   1.0s\n",
      "[CV 4/5; 109/144] START boosting_type=gbdt, max_depth=-1, n_estimators=700, num_leaves=38\n",
      "[CV 4/5; 109/144] END boosting_type=gbdt, max_depth=-1, n_estimators=700, num_leaves=38;, score=0.772 total time=   1.2s\n",
      "[CV 5/5; 109/144] START boosting_type=gbdt, max_depth=-1, n_estimators=700, num_leaves=38\n",
      "[CV 5/5; 109/144] END boosting_type=gbdt, max_depth=-1, n_estimators=700, num_leaves=38;, score=0.784 total time=   0.9s\n",
      "[CV 1/5; 110/144] START boosting_type=gbdt, max_depth=-1, n_estimators=700, num_leaves=41\n",
      "[CV 1/5; 110/144] END boosting_type=gbdt, max_depth=-1, n_estimators=700, num_leaves=41;, score=0.766 total time=   1.8s\n",
      "[CV 2/5; 110/144] START boosting_type=gbdt, max_depth=-1, n_estimators=700, num_leaves=41\n",
      "[CV 2/5; 110/144] END boosting_type=gbdt, max_depth=-1, n_estimators=700, num_leaves=41;, score=0.796 total time=   1.0s\n",
      "[CV 3/5; 110/144] START boosting_type=gbdt, max_depth=-1, n_estimators=700, num_leaves=41\n",
      "[CV 3/5; 110/144] END boosting_type=gbdt, max_depth=-1, n_estimators=700, num_leaves=41;, score=0.772 total time=   1.6s\n",
      "[CV 4/5; 110/144] START boosting_type=gbdt, max_depth=-1, n_estimators=700, num_leaves=41\n",
      "[CV 4/5; 110/144] END boosting_type=gbdt, max_depth=-1, n_estimators=700, num_leaves=41;, score=0.768 total time=   1.0s\n",
      "[CV 5/5; 110/144] START boosting_type=gbdt, max_depth=-1, n_estimators=700, num_leaves=41\n",
      "[CV 5/5; 110/144] END boosting_type=gbdt, max_depth=-1, n_estimators=700, num_leaves=41;, score=0.791 total time=   1.1s\n",
      "[CV 1/5; 111/144] START boosting_type=gbdt, max_depth=-1, n_estimators=700, num_leaves=44\n",
      "[CV 1/5; 111/144] END boosting_type=gbdt, max_depth=-1, n_estimators=700, num_leaves=44;, score=0.763 total time=   1.5s\n",
      "[CV 2/5; 111/144] START boosting_type=gbdt, max_depth=-1, n_estimators=700, num_leaves=44\n",
      "[CV 2/5; 111/144] END boosting_type=gbdt, max_depth=-1, n_estimators=700, num_leaves=44;, score=0.798 total time=   1.8s\n",
      "[CV 3/5; 111/144] START boosting_type=gbdt, max_depth=-1, n_estimators=700, num_leaves=44\n",
      "[CV 3/5; 111/144] END boosting_type=gbdt, max_depth=-1, n_estimators=700, num_leaves=44;, score=0.767 total time=   2.0s\n",
      "[CV 4/5; 111/144] START boosting_type=gbdt, max_depth=-1, n_estimators=700, num_leaves=44\n",
      "[CV 4/5; 111/144] END boosting_type=gbdt, max_depth=-1, n_estimators=700, num_leaves=44;, score=0.774 total time=   3.4s\n",
      "[CV 5/5; 111/144] START boosting_type=gbdt, max_depth=-1, n_estimators=700, num_leaves=44\n",
      "[CV 5/5; 111/144] END boosting_type=gbdt, max_depth=-1, n_estimators=700, num_leaves=44;, score=0.790 total time=   2.0s\n",
      "[CV 1/5; 112/144] START boosting_type=gbdt, max_depth=-1, n_estimators=700, num_leaves=47\n",
      "[CV 1/5; 112/144] END boosting_type=gbdt, max_depth=-1, n_estimators=700, num_leaves=47;, score=0.764 total time=   1.6s\n",
      "[CV 2/5; 112/144] START boosting_type=gbdt, max_depth=-1, n_estimators=700, num_leaves=47\n",
      "[CV 2/5; 112/144] END boosting_type=gbdt, max_depth=-1, n_estimators=700, num_leaves=47;, score=0.795 total time=   1.1s\n",
      "[CV 3/5; 112/144] START boosting_type=gbdt, max_depth=-1, n_estimators=700, num_leaves=47\n",
      "[CV 3/5; 112/144] END boosting_type=gbdt, max_depth=-1, n_estimators=700, num_leaves=47;, score=0.769 total time=   1.2s\n",
      "[CV 4/5; 112/144] START boosting_type=gbdt, max_depth=-1, n_estimators=700, num_leaves=47\n",
      "[CV 4/5; 112/144] END boosting_type=gbdt, max_depth=-1, n_estimators=700, num_leaves=47;, score=0.771 total time=   1.1s\n",
      "[CV 5/5; 112/144] START boosting_type=gbdt, max_depth=-1, n_estimators=700, num_leaves=47\n",
      "[CV 5/5; 112/144] END boosting_type=gbdt, max_depth=-1, n_estimators=700, num_leaves=47;, score=0.791 total time=   1.0s\n",
      "[CV 1/5; 113/144] START boosting_type=gbdt, max_depth=-1, n_estimators=800, num_leaves=2\n",
      "[CV 1/5; 113/144] END boosting_type=gbdt, max_depth=-1, n_estimators=800, num_leaves=2;, score=0.780 total time=   0.2s\n",
      "[CV 2/5; 113/144] START boosting_type=gbdt, max_depth=-1, n_estimators=800, num_leaves=2\n",
      "[CV 2/5; 113/144] END boosting_type=gbdt, max_depth=-1, n_estimators=800, num_leaves=2;, score=0.809 total time=   0.2s\n",
      "[CV 3/5; 113/144] START boosting_type=gbdt, max_depth=-1, n_estimators=800, num_leaves=2\n",
      "[CV 3/5; 113/144] END boosting_type=gbdt, max_depth=-1, n_estimators=800, num_leaves=2;, score=0.796 total time=   0.2s\n",
      "[CV 4/5; 113/144] START boosting_type=gbdt, max_depth=-1, n_estimators=800, num_leaves=2\n",
      "[CV 4/5; 113/144] END boosting_type=gbdt, max_depth=-1, n_estimators=800, num_leaves=2;, score=0.788 total time=   0.2s\n",
      "[CV 5/5; 113/144] START boosting_type=gbdt, max_depth=-1, n_estimators=800, num_leaves=2\n",
      "[CV 5/5; 113/144] END boosting_type=gbdt, max_depth=-1, n_estimators=800, num_leaves=2;, score=0.801 total time=   0.2s\n",
      "[CV 1/5; 114/144] START boosting_type=gbdt, max_depth=-1, n_estimators=800, num_leaves=5\n",
      "[CV 1/5; 114/144] END boosting_type=gbdt, max_depth=-1, n_estimators=800, num_leaves=5;, score=0.788 total time=   0.3s\n",
      "[CV 2/5; 114/144] START boosting_type=gbdt, max_depth=-1, n_estimators=800, num_leaves=5\n",
      "[CV 2/5; 114/144] END boosting_type=gbdt, max_depth=-1, n_estimators=800, num_leaves=5;, score=0.800 total time=   0.3s\n",
      "[CV 3/5; 114/144] START boosting_type=gbdt, max_depth=-1, n_estimators=800, num_leaves=5\n",
      "[CV 3/5; 114/144] END boosting_type=gbdt, max_depth=-1, n_estimators=800, num_leaves=5;, score=0.786 total time=   0.3s\n",
      "[CV 4/5; 114/144] START boosting_type=gbdt, max_depth=-1, n_estimators=800, num_leaves=5\n",
      "[CV 4/5; 114/144] END boosting_type=gbdt, max_depth=-1, n_estimators=800, num_leaves=5;, score=0.798 total time=   0.3s\n",
      "[CV 5/5; 114/144] START boosting_type=gbdt, max_depth=-1, n_estimators=800, num_leaves=5\n",
      "[CV 5/5; 114/144] END boosting_type=gbdt, max_depth=-1, n_estimators=800, num_leaves=5;, score=0.795 total time=   0.3s\n",
      "[CV 1/5; 115/144] START boosting_type=gbdt, max_depth=-1, n_estimators=800, num_leaves=8\n",
      "[CV 1/5; 115/144] END boosting_type=gbdt, max_depth=-1, n_estimators=800, num_leaves=8;, score=0.777 total time=   0.3s\n",
      "[CV 2/5; 115/144] START boosting_type=gbdt, max_depth=-1, n_estimators=800, num_leaves=8\n",
      "[CV 2/5; 115/144] END boosting_type=gbdt, max_depth=-1, n_estimators=800, num_leaves=8;, score=0.799 total time=   0.4s\n",
      "[CV 3/5; 115/144] START boosting_type=gbdt, max_depth=-1, n_estimators=800, num_leaves=8\n",
      "[CV 3/5; 115/144] END boosting_type=gbdt, max_depth=-1, n_estimators=800, num_leaves=8;, score=0.779 total time=   0.4s\n",
      "[CV 4/5; 115/144] START boosting_type=gbdt, max_depth=-1, n_estimators=800, num_leaves=8\n",
      "[CV 4/5; 115/144] END boosting_type=gbdt, max_depth=-1, n_estimators=800, num_leaves=8;, score=0.796 total time=   0.4s\n",
      "[CV 5/5; 115/144] START boosting_type=gbdt, max_depth=-1, n_estimators=800, num_leaves=8\n",
      "[CV 5/5; 115/144] END boosting_type=gbdt, max_depth=-1, n_estimators=800, num_leaves=8;, score=0.796 total time=   0.4s\n",
      "[CV 1/5; 116/144] START boosting_type=gbdt, max_depth=-1, n_estimators=800, num_leaves=11\n",
      "[CV 1/5; 116/144] END boosting_type=gbdt, max_depth=-1, n_estimators=800, num_leaves=11;, score=0.781 total time=   0.5s\n",
      "[CV 2/5; 116/144] START boosting_type=gbdt, max_depth=-1, n_estimators=800, num_leaves=11\n",
      "[CV 2/5; 116/144] END boosting_type=gbdt, max_depth=-1, n_estimators=800, num_leaves=11;, score=0.792 total time=   0.5s\n",
      "[CV 3/5; 116/144] START boosting_type=gbdt, max_depth=-1, n_estimators=800, num_leaves=11\n",
      "[CV 3/5; 116/144] END boosting_type=gbdt, max_depth=-1, n_estimators=800, num_leaves=11;, score=0.777 total time=   0.5s\n",
      "[CV 4/5; 116/144] START boosting_type=gbdt, max_depth=-1, n_estimators=800, num_leaves=11\n",
      "[CV 4/5; 116/144] END boosting_type=gbdt, max_depth=-1, n_estimators=800, num_leaves=11;, score=0.796 total time=   0.5s\n",
      "[CV 5/5; 116/144] START boosting_type=gbdt, max_depth=-1, n_estimators=800, num_leaves=11\n",
      "[CV 5/5; 116/144] END boosting_type=gbdt, max_depth=-1, n_estimators=800, num_leaves=11;, score=0.790 total time=   0.4s\n",
      "[CV 1/5; 117/144] START boosting_type=gbdt, max_depth=-1, n_estimators=800, num_leaves=14\n",
      "[CV 1/5; 117/144] END boosting_type=gbdt, max_depth=-1, n_estimators=800, num_leaves=14;, score=0.771 total time=   0.6s\n",
      "[CV 2/5; 117/144] START boosting_type=gbdt, max_depth=-1, n_estimators=800, num_leaves=14\n",
      "[CV 2/5; 117/144] END boosting_type=gbdt, max_depth=-1, n_estimators=800, num_leaves=14;, score=0.796 total time=   0.5s\n",
      "[CV 3/5; 117/144] START boosting_type=gbdt, max_depth=-1, n_estimators=800, num_leaves=14\n",
      "[CV 3/5; 117/144] END boosting_type=gbdt, max_depth=-1, n_estimators=800, num_leaves=14;, score=0.775 total time=   2.3s\n",
      "[CV 4/5; 117/144] START boosting_type=gbdt, max_depth=-1, n_estimators=800, num_leaves=14\n",
      "[CV 4/5; 117/144] END boosting_type=gbdt, max_depth=-1, n_estimators=800, num_leaves=14;, score=0.786 total time=   0.5s\n",
      "[CV 5/5; 117/144] START boosting_type=gbdt, max_depth=-1, n_estimators=800, num_leaves=14\n",
      "[CV 5/5; 117/144] END boosting_type=gbdt, max_depth=-1, n_estimators=800, num_leaves=14;, score=0.787 total time=   0.7s\n",
      "[CV 1/5; 118/144] START boosting_type=gbdt, max_depth=-1, n_estimators=800, num_leaves=17\n",
      "[CV 1/5; 118/144] END boosting_type=gbdt, max_depth=-1, n_estimators=800, num_leaves=17;, score=0.776 total time=   1.4s\n",
      "[CV 2/5; 118/144] START boosting_type=gbdt, max_depth=-1, n_estimators=800, num_leaves=17\n",
      "[CV 2/5; 118/144] END boosting_type=gbdt, max_depth=-1, n_estimators=800, num_leaves=17;, score=0.792 total time=   0.6s\n",
      "[CV 3/5; 118/144] START boosting_type=gbdt, max_depth=-1, n_estimators=800, num_leaves=17\n",
      "[CV 3/5; 118/144] END boosting_type=gbdt, max_depth=-1, n_estimators=800, num_leaves=17;, score=0.782 total time=   0.6s\n",
      "[CV 4/5; 118/144] START boosting_type=gbdt, max_depth=-1, n_estimators=800, num_leaves=17\n",
      "[CV 4/5; 118/144] END boosting_type=gbdt, max_depth=-1, n_estimators=800, num_leaves=17;, score=0.786 total time=   0.6s\n",
      "[CV 5/5; 118/144] START boosting_type=gbdt, max_depth=-1, n_estimators=800, num_leaves=17\n",
      "[CV 5/5; 118/144] END boosting_type=gbdt, max_depth=-1, n_estimators=800, num_leaves=17;, score=0.796 total time=   0.6s\n",
      "[CV 1/5; 119/144] START boosting_type=gbdt, max_depth=-1, n_estimators=800, num_leaves=20\n",
      "[CV 1/5; 119/144] END boosting_type=gbdt, max_depth=-1, n_estimators=800, num_leaves=20;, score=0.771 total time=   0.7s\n",
      "[CV 2/5; 119/144] START boosting_type=gbdt, max_depth=-1, n_estimators=800, num_leaves=20\n",
      "[CV 2/5; 119/144] END boosting_type=gbdt, max_depth=-1, n_estimators=800, num_leaves=20;, score=0.792 total time=   1.3s\n",
      "[CV 3/5; 119/144] START boosting_type=gbdt, max_depth=-1, n_estimators=800, num_leaves=20\n",
      "[CV 3/5; 119/144] END boosting_type=gbdt, max_depth=-1, n_estimators=800, num_leaves=20;, score=0.774 total time=   0.9s\n",
      "[CV 4/5; 119/144] START boosting_type=gbdt, max_depth=-1, n_estimators=800, num_leaves=20\n",
      "[CV 4/5; 119/144] END boosting_type=gbdt, max_depth=-1, n_estimators=800, num_leaves=20;, score=0.781 total time=   0.7s\n",
      "[CV 5/5; 119/144] START boosting_type=gbdt, max_depth=-1, n_estimators=800, num_leaves=20\n",
      "[CV 5/5; 119/144] END boosting_type=gbdt, max_depth=-1, n_estimators=800, num_leaves=20;, score=0.791 total time=   0.7s\n",
      "[CV 1/5; 120/144] START boosting_type=gbdt, max_depth=-1, n_estimators=800, num_leaves=23\n",
      "[CV 1/5; 120/144] END boosting_type=gbdt, max_depth=-1, n_estimators=800, num_leaves=23;, score=0.776 total time=   1.2s\n",
      "[CV 2/5; 120/144] START boosting_type=gbdt, max_depth=-1, n_estimators=800, num_leaves=23\n",
      "[CV 2/5; 120/144] END boosting_type=gbdt, max_depth=-1, n_estimators=800, num_leaves=23;, score=0.797 total time=   0.9s\n",
      "[CV 3/5; 120/144] START boosting_type=gbdt, max_depth=-1, n_estimators=800, num_leaves=23\n",
      "[CV 3/5; 120/144] END boosting_type=gbdt, max_depth=-1, n_estimators=800, num_leaves=23;, score=0.771 total time=   0.7s\n",
      "[CV 4/5; 120/144] START boosting_type=gbdt, max_depth=-1, n_estimators=800, num_leaves=23\n",
      "[CV 4/5; 120/144] END boosting_type=gbdt, max_depth=-1, n_estimators=800, num_leaves=23;, score=0.776 total time=   0.7s\n",
      "[CV 5/5; 120/144] START boosting_type=gbdt, max_depth=-1, n_estimators=800, num_leaves=23\n",
      "[CV 5/5; 120/144] END boosting_type=gbdt, max_depth=-1, n_estimators=800, num_leaves=23;, score=0.788 total time=   0.7s\n",
      "[CV 1/5; 121/144] START boosting_type=gbdt, max_depth=-1, n_estimators=800, num_leaves=26\n",
      "[CV 1/5; 121/144] END boosting_type=gbdt, max_depth=-1, n_estimators=800, num_leaves=26;, score=0.779 total time=   0.8s\n",
      "[CV 2/5; 121/144] START boosting_type=gbdt, max_depth=-1, n_estimators=800, num_leaves=26\n",
      "[CV 2/5; 121/144] END boosting_type=gbdt, max_depth=-1, n_estimators=800, num_leaves=26;, score=0.794 total time=   0.8s\n",
      "[CV 3/5; 121/144] START boosting_type=gbdt, max_depth=-1, n_estimators=800, num_leaves=26\n",
      "[CV 3/5; 121/144] END boosting_type=gbdt, max_depth=-1, n_estimators=800, num_leaves=26;, score=0.774 total time=   0.8s\n",
      "[CV 4/5; 121/144] START boosting_type=gbdt, max_depth=-1, n_estimators=800, num_leaves=26\n",
      "[CV 4/5; 121/144] END boosting_type=gbdt, max_depth=-1, n_estimators=800, num_leaves=26;, score=0.776 total time=   0.8s\n",
      "[CV 5/5; 121/144] START boosting_type=gbdt, max_depth=-1, n_estimators=800, num_leaves=26\n",
      "[CV 5/5; 121/144] END boosting_type=gbdt, max_depth=-1, n_estimators=800, num_leaves=26;, score=0.786 total time=   0.7s\n",
      "[CV 1/5; 122/144] START boosting_type=gbdt, max_depth=-1, n_estimators=800, num_leaves=29\n",
      "[CV 1/5; 122/144] END boosting_type=gbdt, max_depth=-1, n_estimators=800, num_leaves=29;, score=0.779 total time=   0.9s\n",
      "[CV 2/5; 122/144] START boosting_type=gbdt, max_depth=-1, n_estimators=800, num_leaves=29\n",
      "[CV 2/5; 122/144] END boosting_type=gbdt, max_depth=-1, n_estimators=800, num_leaves=29;, score=0.794 total time=   1.4s\n",
      "[CV 3/5; 122/144] START boosting_type=gbdt, max_depth=-1, n_estimators=800, num_leaves=29\n",
      "[CV 3/5; 122/144] END boosting_type=gbdt, max_depth=-1, n_estimators=800, num_leaves=29;, score=0.774 total time=   1.0s\n",
      "[CV 4/5; 122/144] START boosting_type=gbdt, max_depth=-1, n_estimators=800, num_leaves=29\n",
      "[CV 4/5; 122/144] END boosting_type=gbdt, max_depth=-1, n_estimators=800, num_leaves=29;, score=0.773 total time=   2.5s\n",
      "[CV 5/5; 122/144] START boosting_type=gbdt, max_depth=-1, n_estimators=800, num_leaves=29\n",
      "[CV 5/5; 122/144] END boosting_type=gbdt, max_depth=-1, n_estimators=800, num_leaves=29;, score=0.794 total time=   1.3s\n",
      "[CV 1/5; 123/144] START boosting_type=gbdt, max_depth=-1, n_estimators=800, num_leaves=32\n",
      "[CV 1/5; 123/144] END boosting_type=gbdt, max_depth=-1, n_estimators=800, num_leaves=32;, score=0.774 total time=   0.9s\n",
      "[CV 2/5; 123/144] START boosting_type=gbdt, max_depth=-1, n_estimators=800, num_leaves=32\n",
      "[CV 2/5; 123/144] END boosting_type=gbdt, max_depth=-1, n_estimators=800, num_leaves=32;, score=0.795 total time=   0.9s\n",
      "[CV 3/5; 123/144] START boosting_type=gbdt, max_depth=-1, n_estimators=800, num_leaves=32\n",
      "[CV 3/5; 123/144] END boosting_type=gbdt, max_depth=-1, n_estimators=800, num_leaves=32;, score=0.769 total time=   0.9s\n",
      "[CV 4/5; 123/144] START boosting_type=gbdt, max_depth=-1, n_estimators=800, num_leaves=32\n",
      "[CV 4/5; 123/144] END boosting_type=gbdt, max_depth=-1, n_estimators=800, num_leaves=32;, score=0.776 total time=   1.5s\n",
      "[CV 5/5; 123/144] START boosting_type=gbdt, max_depth=-1, n_estimators=800, num_leaves=32\n",
      "[CV 5/5; 123/144] END boosting_type=gbdt, max_depth=-1, n_estimators=800, num_leaves=32;, score=0.792 total time=   1.5s\n",
      "[CV 1/5; 124/144] START boosting_type=gbdt, max_depth=-1, n_estimators=800, num_leaves=35\n",
      "[CV 1/5; 124/144] END boosting_type=gbdt, max_depth=-1, n_estimators=800, num_leaves=35;, score=0.769 total time=   1.0s\n",
      "[CV 2/5; 124/144] START boosting_type=gbdt, max_depth=-1, n_estimators=800, num_leaves=35\n",
      "[CV 2/5; 124/144] END boosting_type=gbdt, max_depth=-1, n_estimators=800, num_leaves=35;, score=0.793 total time=   1.3s\n",
      "[CV 3/5; 124/144] START boosting_type=gbdt, max_depth=-1, n_estimators=800, num_leaves=35\n",
      "[CV 3/5; 124/144] END boosting_type=gbdt, max_depth=-1, n_estimators=800, num_leaves=35;, score=0.764 total time=   2.1s\n",
      "[CV 4/5; 124/144] START boosting_type=gbdt, max_depth=-1, n_estimators=800, num_leaves=35\n",
      "[CV 4/5; 124/144] END boosting_type=gbdt, max_depth=-1, n_estimators=800, num_leaves=35;, score=0.774 total time=   1.1s\n",
      "[CV 5/5; 124/144] START boosting_type=gbdt, max_depth=-1, n_estimators=800, num_leaves=35\n",
      "[CV 5/5; 124/144] END boosting_type=gbdt, max_depth=-1, n_estimators=800, num_leaves=35;, score=0.789 total time=   1.1s\n",
      "[CV 1/5; 125/144] START boosting_type=gbdt, max_depth=-1, n_estimators=800, num_leaves=38\n",
      "[CV 1/5; 125/144] END boosting_type=gbdt, max_depth=-1, n_estimators=800, num_leaves=38;, score=0.766 total time=   1.7s\n",
      "[CV 2/5; 125/144] START boosting_type=gbdt, max_depth=-1, n_estimators=800, num_leaves=38\n",
      "[CV 2/5; 125/144] END boosting_type=gbdt, max_depth=-1, n_estimators=800, num_leaves=38;, score=0.799 total time=   1.3s\n",
      "[CV 3/5; 125/144] START boosting_type=gbdt, max_depth=-1, n_estimators=800, num_leaves=38\n",
      "[CV 3/5; 125/144] END boosting_type=gbdt, max_depth=-1, n_estimators=800, num_leaves=38;, score=0.779 total time=   5.1s\n",
      "[CV 4/5; 125/144] START boosting_type=gbdt, max_depth=-1, n_estimators=800, num_leaves=38\n",
      "[CV 4/5; 125/144] END boosting_type=gbdt, max_depth=-1, n_estimators=800, num_leaves=38;, score=0.768 total time=   1.1s\n",
      "[CV 5/5; 125/144] START boosting_type=gbdt, max_depth=-1, n_estimators=800, num_leaves=38\n",
      "[CV 5/5; 125/144] END boosting_type=gbdt, max_depth=-1, n_estimators=800, num_leaves=38;, score=0.785 total time=   1.2s\n",
      "[CV 1/5; 126/144] START boosting_type=gbdt, max_depth=-1, n_estimators=800, num_leaves=41\n",
      "[CV 1/5; 126/144] END boosting_type=gbdt, max_depth=-1, n_estimators=800, num_leaves=41;, score=0.761 total time=   1.2s\n",
      "[CV 2/5; 126/144] START boosting_type=gbdt, max_depth=-1, n_estimators=800, num_leaves=41\n",
      "[CV 2/5; 126/144] END boosting_type=gbdt, max_depth=-1, n_estimators=800, num_leaves=41;, score=0.800 total time=   1.2s\n",
      "[CV 3/5; 126/144] START boosting_type=gbdt, max_depth=-1, n_estimators=800, num_leaves=41\n",
      "[CV 3/5; 126/144] END boosting_type=gbdt, max_depth=-1, n_estimators=800, num_leaves=41;, score=0.770 total time=   1.1s\n",
      "[CV 4/5; 126/144] START boosting_type=gbdt, max_depth=-1, n_estimators=800, num_leaves=41\n",
      "[CV 4/5; 126/144] END boosting_type=gbdt, max_depth=-1, n_estimators=800, num_leaves=41;, score=0.770 total time=   1.2s\n",
      "[CV 5/5; 126/144] START boosting_type=gbdt, max_depth=-1, n_estimators=800, num_leaves=41\n",
      "[CV 5/5; 126/144] END boosting_type=gbdt, max_depth=-1, n_estimators=800, num_leaves=41;, score=0.791 total time=   1.1s\n",
      "[CV 1/5; 127/144] START boosting_type=gbdt, max_depth=-1, n_estimators=800, num_leaves=44\n",
      "[CV 1/5; 127/144] END boosting_type=gbdt, max_depth=-1, n_estimators=800, num_leaves=44;, score=0.761 total time=   1.2s\n",
      "[CV 2/5; 127/144] START boosting_type=gbdt, max_depth=-1, n_estimators=800, num_leaves=44\n",
      "[CV 2/5; 127/144] END boosting_type=gbdt, max_depth=-1, n_estimators=800, num_leaves=44;, score=0.798 total time=   1.3s\n",
      "[CV 3/5; 127/144] START boosting_type=gbdt, max_depth=-1, n_estimators=800, num_leaves=44\n",
      "[CV 3/5; 127/144] END boosting_type=gbdt, max_depth=-1, n_estimators=800, num_leaves=44;, score=0.766 total time=   3.4s\n",
      "[CV 4/5; 127/144] START boosting_type=gbdt, max_depth=-1, n_estimators=800, num_leaves=44\n",
      "[CV 4/5; 127/144] END boosting_type=gbdt, max_depth=-1, n_estimators=800, num_leaves=44;, score=0.776 total time=   1.7s\n",
      "[CV 5/5; 127/144] START boosting_type=gbdt, max_depth=-1, n_estimators=800, num_leaves=44\n",
      "[CV 5/5; 127/144] END boosting_type=gbdt, max_depth=-1, n_estimators=800, num_leaves=44;, score=0.790 total time=   1.6s\n",
      "[CV 1/5; 128/144] START boosting_type=gbdt, max_depth=-1, n_estimators=800, num_leaves=47\n",
      "[CV 1/5; 128/144] END boosting_type=gbdt, max_depth=-1, n_estimators=800, num_leaves=47;, score=0.763 total time=   1.2s\n",
      "[CV 2/5; 128/144] START boosting_type=gbdt, max_depth=-1, n_estimators=800, num_leaves=47\n",
      "[CV 2/5; 128/144] END boosting_type=gbdt, max_depth=-1, n_estimators=800, num_leaves=47;, score=0.797 total time=   1.3s\n",
      "[CV 3/5; 128/144] START boosting_type=gbdt, max_depth=-1, n_estimators=800, num_leaves=47\n",
      "[CV 3/5; 128/144] END boosting_type=gbdt, max_depth=-1, n_estimators=800, num_leaves=47;, score=0.771 total time=   1.2s\n",
      "[CV 4/5; 128/144] START boosting_type=gbdt, max_depth=-1, n_estimators=800, num_leaves=47\n",
      "[CV 4/5; 128/144] END boosting_type=gbdt, max_depth=-1, n_estimators=800, num_leaves=47;, score=0.770 total time=   1.3s\n",
      "[CV 5/5; 128/144] START boosting_type=gbdt, max_depth=-1, n_estimators=800, num_leaves=47\n",
      "[CV 5/5; 128/144] END boosting_type=gbdt, max_depth=-1, n_estimators=800, num_leaves=47;, score=0.792 total time=   1.2s\n",
      "[CV 1/5; 129/144] START boosting_type=gbdt, max_depth=-1, n_estimators=900, num_leaves=2\n",
      "[CV 1/5; 129/144] END boosting_type=gbdt, max_depth=-1, n_estimators=900, num_leaves=2;, score=0.781 total time=   0.3s\n",
      "[CV 2/5; 129/144] START boosting_type=gbdt, max_depth=-1, n_estimators=900, num_leaves=2\n",
      "[CV 2/5; 129/144] END boosting_type=gbdt, max_depth=-1, n_estimators=900, num_leaves=2;, score=0.809 total time=   0.2s\n",
      "[CV 3/5; 129/144] START boosting_type=gbdt, max_depth=-1, n_estimators=900, num_leaves=2\n",
      "[CV 3/5; 129/144] END boosting_type=gbdt, max_depth=-1, n_estimators=900, num_leaves=2;, score=0.796 total time=   0.2s\n",
      "[CV 4/5; 129/144] START boosting_type=gbdt, max_depth=-1, n_estimators=900, num_leaves=2\n",
      "[CV 4/5; 129/144] END boosting_type=gbdt, max_depth=-1, n_estimators=900, num_leaves=2;, score=0.789 total time=   0.2s\n",
      "[CV 5/5; 129/144] START boosting_type=gbdt, max_depth=-1, n_estimators=900, num_leaves=2\n",
      "[CV 5/5; 129/144] END boosting_type=gbdt, max_depth=-1, n_estimators=900, num_leaves=2;, score=0.803 total time=   0.2s\n",
      "[CV 1/5; 130/144] START boosting_type=gbdt, max_depth=-1, n_estimators=900, num_leaves=5\n",
      "[CV 1/5; 130/144] END boosting_type=gbdt, max_depth=-1, n_estimators=900, num_leaves=5;, score=0.784 total time=   0.3s\n",
      "[CV 2/5; 130/144] START boosting_type=gbdt, max_depth=-1, n_estimators=900, num_leaves=5\n",
      "[CV 2/5; 130/144] END boosting_type=gbdt, max_depth=-1, n_estimators=900, num_leaves=5;, score=0.801 total time=   0.3s\n",
      "[CV 3/5; 130/144] START boosting_type=gbdt, max_depth=-1, n_estimators=900, num_leaves=5\n",
      "[CV 3/5; 130/144] END boosting_type=gbdt, max_depth=-1, n_estimators=900, num_leaves=5;, score=0.786 total time=   0.3s\n",
      "[CV 4/5; 130/144] START boosting_type=gbdt, max_depth=-1, n_estimators=900, num_leaves=5\n",
      "[CV 4/5; 130/144] END boosting_type=gbdt, max_depth=-1, n_estimators=900, num_leaves=5;, score=0.796 total time=   0.3s\n",
      "[CV 5/5; 130/144] START boosting_type=gbdt, max_depth=-1, n_estimators=900, num_leaves=5\n",
      "[CV 5/5; 130/144] END boosting_type=gbdt, max_depth=-1, n_estimators=900, num_leaves=5;, score=0.794 total time=   0.4s\n",
      "[CV 1/5; 131/144] START boosting_type=gbdt, max_depth=-1, n_estimators=900, num_leaves=8\n",
      "[CV 1/5; 131/144] END boosting_type=gbdt, max_depth=-1, n_estimators=900, num_leaves=8;, score=0.777 total time=   0.4s\n",
      "[CV 2/5; 131/144] START boosting_type=gbdt, max_depth=-1, n_estimators=900, num_leaves=8\n",
      "[CV 2/5; 131/144] END boosting_type=gbdt, max_depth=-1, n_estimators=900, num_leaves=8;, score=0.794 total time=   0.4s\n",
      "[CV 3/5; 131/144] START boosting_type=gbdt, max_depth=-1, n_estimators=900, num_leaves=8\n",
      "[CV 3/5; 131/144] END boosting_type=gbdt, max_depth=-1, n_estimators=900, num_leaves=8;, score=0.775 total time=   0.5s\n",
      "[CV 4/5; 131/144] START boosting_type=gbdt, max_depth=-1, n_estimators=900, num_leaves=8\n",
      "[CV 4/5; 131/144] END boosting_type=gbdt, max_depth=-1, n_estimators=900, num_leaves=8;, score=0.795 total time=   0.5s\n",
      "[CV 5/5; 131/144] START boosting_type=gbdt, max_depth=-1, n_estimators=900, num_leaves=8\n",
      "[CV 5/5; 131/144] END boosting_type=gbdt, max_depth=-1, n_estimators=900, num_leaves=8;, score=0.794 total time=   1.2s\n",
      "[CV 1/5; 132/144] START boosting_type=gbdt, max_depth=-1, n_estimators=900, num_leaves=11\n",
      "[CV 1/5; 132/144] END boosting_type=gbdt, max_depth=-1, n_estimators=900, num_leaves=11;, score=0.779 total time=   0.7s\n",
      "[CV 2/5; 132/144] START boosting_type=gbdt, max_depth=-1, n_estimators=900, num_leaves=11\n",
      "[CV 2/5; 132/144] END boosting_type=gbdt, max_depth=-1, n_estimators=900, num_leaves=11;, score=0.789 total time=   0.6s\n",
      "[CV 3/5; 132/144] START boosting_type=gbdt, max_depth=-1, n_estimators=900, num_leaves=11\n",
      "[CV 3/5; 132/144] END boosting_type=gbdt, max_depth=-1, n_estimators=900, num_leaves=11;, score=0.771 total time=   0.5s\n",
      "[CV 4/5; 132/144] START boosting_type=gbdt, max_depth=-1, n_estimators=900, num_leaves=11\n",
      "[CV 4/5; 132/144] END boosting_type=gbdt, max_depth=-1, n_estimators=900, num_leaves=11;, score=0.799 total time=   0.5s\n",
      "[CV 5/5; 132/144] START boosting_type=gbdt, max_depth=-1, n_estimators=900, num_leaves=11\n",
      "[CV 5/5; 132/144] END boosting_type=gbdt, max_depth=-1, n_estimators=900, num_leaves=11;, score=0.791 total time=   0.6s\n",
      "[CV 1/5; 133/144] START boosting_type=gbdt, max_depth=-1, n_estimators=900, num_leaves=14\n",
      "[CV 1/5; 133/144] END boosting_type=gbdt, max_depth=-1, n_estimators=900, num_leaves=14;, score=0.774 total time=   0.7s\n",
      "[CV 2/5; 133/144] START boosting_type=gbdt, max_depth=-1, n_estimators=900, num_leaves=14\n",
      "[CV 2/5; 133/144] END boosting_type=gbdt, max_depth=-1, n_estimators=900, num_leaves=14;, score=0.795 total time=   0.7s\n",
      "[CV 3/5; 133/144] START boosting_type=gbdt, max_depth=-1, n_estimators=900, num_leaves=14\n",
      "[CV 3/5; 133/144] END boosting_type=gbdt, max_depth=-1, n_estimators=900, num_leaves=14;, score=0.778 total time=   0.7s\n",
      "[CV 4/5; 133/144] START boosting_type=gbdt, max_depth=-1, n_estimators=900, num_leaves=14\n",
      "[CV 4/5; 133/144] END boosting_type=gbdt, max_depth=-1, n_estimators=900, num_leaves=14;, score=0.785 total time=   0.7s\n",
      "[CV 5/5; 133/144] START boosting_type=gbdt, max_depth=-1, n_estimators=900, num_leaves=14\n",
      "[CV 5/5; 133/144] END boosting_type=gbdt, max_depth=-1, n_estimators=900, num_leaves=14;, score=0.785 total time=   0.8s\n",
      "[CV 1/5; 134/144] START boosting_type=gbdt, max_depth=-1, n_estimators=900, num_leaves=17\n",
      "[CV 1/5; 134/144] END boosting_type=gbdt, max_depth=-1, n_estimators=900, num_leaves=17;, score=0.775 total time=   0.8s\n",
      "[CV 2/5; 134/144] START boosting_type=gbdt, max_depth=-1, n_estimators=900, num_leaves=17\n",
      "[CV 2/5; 134/144] END boosting_type=gbdt, max_depth=-1, n_estimators=900, num_leaves=17;, score=0.794 total time=   1.0s\n",
      "[CV 3/5; 134/144] START boosting_type=gbdt, max_depth=-1, n_estimators=900, num_leaves=17\n",
      "[CV 3/5; 134/144] END boosting_type=gbdt, max_depth=-1, n_estimators=900, num_leaves=17;, score=0.780 total time=   4.0s\n",
      "[CV 4/5; 134/144] START boosting_type=gbdt, max_depth=-1, n_estimators=900, num_leaves=17\n",
      "[CV 4/5; 134/144] END boosting_type=gbdt, max_depth=-1, n_estimators=900, num_leaves=17;, score=0.784 total time=   1.6s\n",
      "[CV 5/5; 134/144] START boosting_type=gbdt, max_depth=-1, n_estimators=900, num_leaves=17\n",
      "[CV 5/5; 134/144] END boosting_type=gbdt, max_depth=-1, n_estimators=900, num_leaves=17;, score=0.796 total time=   2.2s\n",
      "[CV 1/5; 135/144] START boosting_type=gbdt, max_depth=-1, n_estimators=900, num_leaves=20\n",
      "[CV 1/5; 135/144] END boosting_type=gbdt, max_depth=-1, n_estimators=900, num_leaves=20;, score=0.773 total time=   2.0s\n",
      "[CV 2/5; 135/144] START boosting_type=gbdt, max_depth=-1, n_estimators=900, num_leaves=20\n",
      "[CV 2/5; 135/144] END boosting_type=gbdt, max_depth=-1, n_estimators=900, num_leaves=20;, score=0.790 total time=   1.8s\n",
      "[CV 3/5; 135/144] START boosting_type=gbdt, max_depth=-1, n_estimators=900, num_leaves=20\n",
      "[CV 3/5; 135/144] END boosting_type=gbdt, max_depth=-1, n_estimators=900, num_leaves=20;, score=0.775 total time=   1.5s\n",
      "[CV 4/5; 135/144] START boosting_type=gbdt, max_depth=-1, n_estimators=900, num_leaves=20\n",
      "[CV 4/5; 135/144] END boosting_type=gbdt, max_depth=-1, n_estimators=900, num_leaves=20;, score=0.778 total time=   2.2s\n",
      "[CV 5/5; 135/144] START boosting_type=gbdt, max_depth=-1, n_estimators=900, num_leaves=20\n",
      "[CV 5/5; 135/144] END boosting_type=gbdt, max_depth=-1, n_estimators=900, num_leaves=20;, score=0.788 total time=   1.6s\n",
      "[CV 1/5; 136/144] START boosting_type=gbdt, max_depth=-1, n_estimators=900, num_leaves=23\n",
      "[CV 1/5; 136/144] END boosting_type=gbdt, max_depth=-1, n_estimators=900, num_leaves=23;, score=0.774 total time=   0.9s\n",
      "[CV 2/5; 136/144] START boosting_type=gbdt, max_depth=-1, n_estimators=900, num_leaves=23\n",
      "[CV 2/5; 136/144] END boosting_type=gbdt, max_depth=-1, n_estimators=900, num_leaves=23;, score=0.795 total time=   0.8s\n",
      "[CV 3/5; 136/144] START boosting_type=gbdt, max_depth=-1, n_estimators=900, num_leaves=23\n",
      "[CV 3/5; 136/144] END boosting_type=gbdt, max_depth=-1, n_estimators=900, num_leaves=23;, score=0.769 total time=   0.8s\n",
      "[CV 4/5; 136/144] START boosting_type=gbdt, max_depth=-1, n_estimators=900, num_leaves=23\n",
      "[CV 4/5; 136/144] END boosting_type=gbdt, max_depth=-1, n_estimators=900, num_leaves=23;, score=0.781 total time=   0.8s\n",
      "[CV 5/5; 136/144] START boosting_type=gbdt, max_depth=-1, n_estimators=900, num_leaves=23\n",
      "[CV 5/5; 136/144] END boosting_type=gbdt, max_depth=-1, n_estimators=900, num_leaves=23;, score=0.788 total time=   0.7s\n",
      "[CV 1/5; 137/144] START boosting_type=gbdt, max_depth=-1, n_estimators=900, num_leaves=26\n",
      "[CV 1/5; 137/144] END boosting_type=gbdt, max_depth=-1, n_estimators=900, num_leaves=26;, score=0.776 total time=   0.9s\n",
      "[CV 2/5; 137/144] START boosting_type=gbdt, max_depth=-1, n_estimators=900, num_leaves=26\n",
      "[CV 2/5; 137/144] END boosting_type=gbdt, max_depth=-1, n_estimators=900, num_leaves=26;, score=0.793 total time=   0.8s\n",
      "[CV 3/5; 137/144] START boosting_type=gbdt, max_depth=-1, n_estimators=900, num_leaves=26\n",
      "[CV 3/5; 137/144] END boosting_type=gbdt, max_depth=-1, n_estimators=900, num_leaves=26;, score=0.774 total time=   0.8s\n",
      "[CV 4/5; 137/144] START boosting_type=gbdt, max_depth=-1, n_estimators=900, num_leaves=26\n",
      "[CV 4/5; 137/144] END boosting_type=gbdt, max_depth=-1, n_estimators=900, num_leaves=26;, score=0.779 total time=   0.8s\n",
      "[CV 5/5; 137/144] START boosting_type=gbdt, max_depth=-1, n_estimators=900, num_leaves=26\n",
      "[CV 5/5; 137/144] END boosting_type=gbdt, max_depth=-1, n_estimators=900, num_leaves=26;, score=0.787 total time=   0.8s\n",
      "[CV 1/5; 138/144] START boosting_type=gbdt, max_depth=-1, n_estimators=900, num_leaves=29\n",
      "[CV 1/5; 138/144] END boosting_type=gbdt, max_depth=-1, n_estimators=900, num_leaves=29;, score=0.774 total time=   0.9s\n",
      "[CV 2/5; 138/144] START boosting_type=gbdt, max_depth=-1, n_estimators=900, num_leaves=29\n",
      "[CV 2/5; 138/144] END boosting_type=gbdt, max_depth=-1, n_estimators=900, num_leaves=29;, score=0.794 total time=   0.9s\n",
      "[CV 3/5; 138/144] START boosting_type=gbdt, max_depth=-1, n_estimators=900, num_leaves=29\n",
      "[CV 3/5; 138/144] END boosting_type=gbdt, max_depth=-1, n_estimators=900, num_leaves=29;, score=0.772 total time=   0.9s\n",
      "[CV 4/5; 138/144] START boosting_type=gbdt, max_depth=-1, n_estimators=900, num_leaves=29\n",
      "[CV 4/5; 138/144] END boosting_type=gbdt, max_depth=-1, n_estimators=900, num_leaves=29;, score=0.766 total time=   0.9s\n",
      "[CV 5/5; 138/144] START boosting_type=gbdt, max_depth=-1, n_estimators=900, num_leaves=29\n",
      "[CV 5/5; 138/144] END boosting_type=gbdt, max_depth=-1, n_estimators=900, num_leaves=29;, score=0.789 total time=   0.9s\n",
      "[CV 1/5; 139/144] START boosting_type=gbdt, max_depth=-1, n_estimators=900, num_leaves=32\n",
      "[CV 1/5; 139/144] END boosting_type=gbdt, max_depth=-1, n_estimators=900, num_leaves=32;, score=0.773 total time=   1.8s\n",
      "[CV 2/5; 139/144] START boosting_type=gbdt, max_depth=-1, n_estimators=900, num_leaves=32\n",
      "[CV 2/5; 139/144] END boosting_type=gbdt, max_depth=-1, n_estimators=900, num_leaves=32;, score=0.794 total time=   1.1s\n",
      "[CV 3/5; 139/144] START boosting_type=gbdt, max_depth=-1, n_estimators=900, num_leaves=32\n",
      "[CV 3/5; 139/144] END boosting_type=gbdt, max_depth=-1, n_estimators=900, num_leaves=32;, score=0.771 total time=   1.1s\n",
      "[CV 4/5; 139/144] START boosting_type=gbdt, max_depth=-1, n_estimators=900, num_leaves=32\n",
      "[CV 4/5; 139/144] END boosting_type=gbdt, max_depth=-1, n_estimators=900, num_leaves=32;, score=0.774 total time=   1.2s\n",
      "[CV 5/5; 139/144] START boosting_type=gbdt, max_depth=-1, n_estimators=900, num_leaves=32\n",
      "[CV 5/5; 139/144] END boosting_type=gbdt, max_depth=-1, n_estimators=900, num_leaves=32;, score=0.788 total time=   1.1s\n",
      "[CV 1/5; 140/144] START boosting_type=gbdt, max_depth=-1, n_estimators=900, num_leaves=35\n",
      "[CV 1/5; 140/144] END boosting_type=gbdt, max_depth=-1, n_estimators=900, num_leaves=35;, score=0.763 total time=   1.2s\n",
      "[CV 2/5; 140/144] START boosting_type=gbdt, max_depth=-1, n_estimators=900, num_leaves=35\n",
      "[CV 2/5; 140/144] END boosting_type=gbdt, max_depth=-1, n_estimators=900, num_leaves=35;, score=0.793 total time=   1.2s\n",
      "[CV 3/5; 140/144] START boosting_type=gbdt, max_depth=-1, n_estimators=900, num_leaves=35\n",
      "[CV 3/5; 140/144] END boosting_type=gbdt, max_depth=-1, n_estimators=900, num_leaves=35;, score=0.766 total time=   1.2s\n",
      "[CV 4/5; 140/144] START boosting_type=gbdt, max_depth=-1, n_estimators=900, num_leaves=35\n",
      "[CV 4/5; 140/144] END boosting_type=gbdt, max_depth=-1, n_estimators=900, num_leaves=35;, score=0.771 total time=   1.7s\n",
      "[CV 5/5; 140/144] START boosting_type=gbdt, max_depth=-1, n_estimators=900, num_leaves=35\n",
      "[CV 5/5; 140/144] END boosting_type=gbdt, max_depth=-1, n_estimators=900, num_leaves=35;, score=0.792 total time=   1.1s\n",
      "[CV 1/5; 141/144] START boosting_type=gbdt, max_depth=-1, n_estimators=900, num_leaves=38\n",
      "[CV 1/5; 141/144] END boosting_type=gbdt, max_depth=-1, n_estimators=900, num_leaves=38;, score=0.763 total time=   1.2s\n",
      "[CV 2/5; 141/144] START boosting_type=gbdt, max_depth=-1, n_estimators=900, num_leaves=38\n",
      "[CV 2/5; 141/144] END boosting_type=gbdt, max_depth=-1, n_estimators=900, num_leaves=38;, score=0.802 total time=   1.2s\n",
      "[CV 3/5; 141/144] START boosting_type=gbdt, max_depth=-1, n_estimators=900, num_leaves=38\n",
      "[CV 3/5; 141/144] END boosting_type=gbdt, max_depth=-1, n_estimators=900, num_leaves=38;, score=0.774 total time=   1.2s\n",
      "[CV 4/5; 141/144] START boosting_type=gbdt, max_depth=-1, n_estimators=900, num_leaves=38\n",
      "[CV 4/5; 141/144] END boosting_type=gbdt, max_depth=-1, n_estimators=900, num_leaves=38;, score=0.773 total time=   3.5s\n",
      "[CV 5/5; 141/144] START boosting_type=gbdt, max_depth=-1, n_estimators=900, num_leaves=38\n",
      "[CV 5/5; 141/144] END boosting_type=gbdt, max_depth=-1, n_estimators=900, num_leaves=38;, score=0.785 total time=   1.3s\n",
      "[CV 1/5; 142/144] START boosting_type=gbdt, max_depth=-1, n_estimators=900, num_leaves=41\n",
      "[CV 1/5; 142/144] END boosting_type=gbdt, max_depth=-1, n_estimators=900, num_leaves=41;, score=0.760 total time=   1.4s\n",
      "[CV 2/5; 142/144] START boosting_type=gbdt, max_depth=-1, n_estimators=900, num_leaves=41\n",
      "[CV 2/5; 142/144] END boosting_type=gbdt, max_depth=-1, n_estimators=900, num_leaves=41;, score=0.797 total time=   1.2s\n",
      "[CV 3/5; 142/144] START boosting_type=gbdt, max_depth=-1, n_estimators=900, num_leaves=41\n",
      "[CV 3/5; 142/144] END boosting_type=gbdt, max_depth=-1, n_estimators=900, num_leaves=41;, score=0.769 total time=   1.2s\n",
      "[CV 4/5; 142/144] START boosting_type=gbdt, max_depth=-1, n_estimators=900, num_leaves=41\n",
      "[CV 4/5; 142/144] END boosting_type=gbdt, max_depth=-1, n_estimators=900, num_leaves=41;, score=0.773 total time=   1.2s\n",
      "[CV 5/5; 142/144] START boosting_type=gbdt, max_depth=-1, n_estimators=900, num_leaves=41\n",
      "[CV 5/5; 142/144] END boosting_type=gbdt, max_depth=-1, n_estimators=900, num_leaves=41;, score=0.788 total time=   1.2s\n",
      "[CV 1/5; 143/144] START boosting_type=gbdt, max_depth=-1, n_estimators=900, num_leaves=44\n",
      "[CV 1/5; 143/144] END boosting_type=gbdt, max_depth=-1, n_estimators=900, num_leaves=44;, score=0.762 total time=   1.3s\n",
      "[CV 2/5; 143/144] START boosting_type=gbdt, max_depth=-1, n_estimators=900, num_leaves=44\n",
      "[CV 2/5; 143/144] END boosting_type=gbdt, max_depth=-1, n_estimators=900, num_leaves=44;, score=0.797 total time=   1.6s\n",
      "[CV 3/5; 143/144] START boosting_type=gbdt, max_depth=-1, n_estimators=900, num_leaves=44\n",
      "[CV 3/5; 143/144] END boosting_type=gbdt, max_depth=-1, n_estimators=900, num_leaves=44;, score=0.773 total time=   1.5s\n",
      "[CV 4/5; 143/144] START boosting_type=gbdt, max_depth=-1, n_estimators=900, num_leaves=44\n",
      "[CV 4/5; 143/144] END boosting_type=gbdt, max_depth=-1, n_estimators=900, num_leaves=44;, score=0.780 total time=   2.4s\n",
      "[CV 5/5; 143/144] START boosting_type=gbdt, max_depth=-1, n_estimators=900, num_leaves=44\n",
      "[CV 5/5; 143/144] END boosting_type=gbdt, max_depth=-1, n_estimators=900, num_leaves=44;, score=0.788 total time=   1.6s\n",
      "[CV 1/5; 144/144] START boosting_type=gbdt, max_depth=-1, n_estimators=900, num_leaves=47\n",
      "[CV 1/5; 144/144] END boosting_type=gbdt, max_depth=-1, n_estimators=900, num_leaves=47;, score=0.764 total time=   4.3s\n",
      "[CV 2/5; 144/144] START boosting_type=gbdt, max_depth=-1, n_estimators=900, num_leaves=47\n",
      "[CV 2/5; 144/144] END boosting_type=gbdt, max_depth=-1, n_estimators=900, num_leaves=47;, score=0.798 total time=   1.9s\n",
      "[CV 3/5; 144/144] START boosting_type=gbdt, max_depth=-1, n_estimators=900, num_leaves=47\n",
      "[CV 3/5; 144/144] END boosting_type=gbdt, max_depth=-1, n_estimators=900, num_leaves=47;, score=0.769 total time=   2.2s\n",
      "[CV 4/5; 144/144] START boosting_type=gbdt, max_depth=-1, n_estimators=900, num_leaves=47\n",
      "[CV 4/5; 144/144] END boosting_type=gbdt, max_depth=-1, n_estimators=900, num_leaves=47;, score=0.771 total time=   2.9s\n",
      "[CV 5/5; 144/144] START boosting_type=gbdt, max_depth=-1, n_estimators=900, num_leaves=47\n",
      "[CV 5/5; 144/144] END boosting_type=gbdt, max_depth=-1, n_estimators=900, num_leaves=47;, score=0.790 total time=   2.4s\n"
     ]
    },
    {
     "data": {
      "text/html": [
       "<style>#sk-container-id-1 {color: black;background-color: white;}#sk-container-id-1 pre{padding: 0;}#sk-container-id-1 div.sk-toggleable {background-color: white;}#sk-container-id-1 label.sk-toggleable__label {cursor: pointer;display: block;width: 100%;margin-bottom: 0;padding: 0.3em;box-sizing: border-box;text-align: center;}#sk-container-id-1 label.sk-toggleable__label-arrow:before {content: \"▸\";float: left;margin-right: 0.25em;color: #696969;}#sk-container-id-1 label.sk-toggleable__label-arrow:hover:before {color: black;}#sk-container-id-1 div.sk-estimator:hover label.sk-toggleable__label-arrow:before {color: black;}#sk-container-id-1 div.sk-toggleable__content {max-height: 0;max-width: 0;overflow: hidden;text-align: left;background-color: #f0f8ff;}#sk-container-id-1 div.sk-toggleable__content pre {margin: 0.2em;color: black;border-radius: 0.25em;background-color: #f0f8ff;}#sk-container-id-1 input.sk-toggleable__control:checked~div.sk-toggleable__content {max-height: 200px;max-width: 100%;overflow: auto;}#sk-container-id-1 input.sk-toggleable__control:checked~label.sk-toggleable__label-arrow:before {content: \"▾\";}#sk-container-id-1 div.sk-estimator input.sk-toggleable__control:checked~label.sk-toggleable__label {background-color: #d4ebff;}#sk-container-id-1 div.sk-label input.sk-toggleable__control:checked~label.sk-toggleable__label {background-color: #d4ebff;}#sk-container-id-1 input.sk-hidden--visually {border: 0;clip: rect(1px 1px 1px 1px);clip: rect(1px, 1px, 1px, 1px);height: 1px;margin: -1px;overflow: hidden;padding: 0;position: absolute;width: 1px;}#sk-container-id-1 div.sk-estimator {font-family: monospace;background-color: #f0f8ff;border: 1px dotted black;border-radius: 0.25em;box-sizing: border-box;margin-bottom: 0.5em;}#sk-container-id-1 div.sk-estimator:hover {background-color: #d4ebff;}#sk-container-id-1 div.sk-parallel-item::after {content: \"\";width: 100%;border-bottom: 1px solid gray;flex-grow: 1;}#sk-container-id-1 div.sk-label:hover label.sk-toggleable__label {background-color: #d4ebff;}#sk-container-id-1 div.sk-serial::before {content: \"\";position: absolute;border-left: 1px solid gray;box-sizing: border-box;top: 0;bottom: 0;left: 50%;z-index: 0;}#sk-container-id-1 div.sk-serial {display: flex;flex-direction: column;align-items: center;background-color: white;padding-right: 0.2em;padding-left: 0.2em;position: relative;}#sk-container-id-1 div.sk-item {position: relative;z-index: 1;}#sk-container-id-1 div.sk-parallel {display: flex;align-items: stretch;justify-content: center;background-color: white;position: relative;}#sk-container-id-1 div.sk-item::before, #sk-container-id-1 div.sk-parallel-item::before {content: \"\";position: absolute;border-left: 1px solid gray;box-sizing: border-box;top: 0;bottom: 0;left: 50%;z-index: -1;}#sk-container-id-1 div.sk-parallel-item {display: flex;flex-direction: column;z-index: 1;position: relative;background-color: white;}#sk-container-id-1 div.sk-parallel-item:first-child::after {align-self: flex-end;width: 50%;}#sk-container-id-1 div.sk-parallel-item:last-child::after {align-self: flex-start;width: 50%;}#sk-container-id-1 div.sk-parallel-item:only-child::after {width: 0;}#sk-container-id-1 div.sk-dashed-wrapped {border: 1px dashed gray;margin: 0 0.4em 0.5em 0.4em;box-sizing: border-box;padding-bottom: 0.4em;background-color: white;}#sk-container-id-1 div.sk-label label {font-family: monospace;font-weight: bold;display: inline-block;line-height: 1.2em;}#sk-container-id-1 div.sk-label-container {text-align: center;}#sk-container-id-1 div.sk-container {/* jupyter's `normalize.less` sets `[hidden] { display: none; }` but bootstrap.min.css set `[hidden] { display: none !important; }` so we also need the `!important` here to be able to override the default hidden behavior on the sphinx rendered scikit-learn.org. See: https://github.com/scikit-learn/scikit-learn/issues/21755 */display: inline-block !important;position: relative;}#sk-container-id-1 div.sk-text-repr-fallback {display: none;}</style><div id=\"sk-container-id-1\" class=\"sk-top-container\"><div class=\"sk-text-repr-fallback\"><pre>GridSearchCV(cv=5, estimator=LGBMClassifier(random_state=42),\n",
       "             param_grid={&#x27;boosting_type&#x27;: [&#x27;gbdt&#x27;], &#x27;max_depth&#x27;: [-1],\n",
       "                         &#x27;n_estimators&#x27;: array([100, 200, 300, 400, 500, 600, 700, 800, 900]),\n",
       "                         &#x27;num_leaves&#x27;: array([ 2,  5,  8, 11, 14, 17, 20, 23, 26, 29, 32, 35, 38, 41, 44, 47])},\n",
       "             scoring=&#x27;accuracy&#x27;, verbose=10)</pre><b>In a Jupyter environment, please rerun this cell to show the HTML representation or trust the notebook. <br />On GitHub, the HTML representation is unable to render, please try loading this page with nbviewer.org.</b></div><div class=\"sk-container\" hidden><div class=\"sk-item sk-dashed-wrapped\"><div class=\"sk-label-container\"><div class=\"sk-label sk-toggleable\"><input class=\"sk-toggleable__control sk-hidden--visually\" id=\"sk-estimator-id-1\" type=\"checkbox\" ><label for=\"sk-estimator-id-1\" class=\"sk-toggleable__label sk-toggleable__label-arrow\">GridSearchCV</label><div class=\"sk-toggleable__content\"><pre>GridSearchCV(cv=5, estimator=LGBMClassifier(random_state=42),\n",
       "             param_grid={&#x27;boosting_type&#x27;: [&#x27;gbdt&#x27;], &#x27;max_depth&#x27;: [-1],\n",
       "                         &#x27;n_estimators&#x27;: array([100, 200, 300, 400, 500, 600, 700, 800, 900]),\n",
       "                         &#x27;num_leaves&#x27;: array([ 2,  5,  8, 11, 14, 17, 20, 23, 26, 29, 32, 35, 38, 41, 44, 47])},\n",
       "             scoring=&#x27;accuracy&#x27;, verbose=10)</pre></div></div></div><div class=\"sk-parallel\"><div class=\"sk-parallel-item\"><div class=\"sk-item\"><div class=\"sk-label-container\"><div class=\"sk-label sk-toggleable\"><input class=\"sk-toggleable__control sk-hidden--visually\" id=\"sk-estimator-id-2\" type=\"checkbox\" ><label for=\"sk-estimator-id-2\" class=\"sk-toggleable__label sk-toggleable__label-arrow\">estimator: LGBMClassifier</label><div class=\"sk-toggleable__content\"><pre>LGBMClassifier(random_state=42)</pre></div></div></div><div class=\"sk-serial\"><div class=\"sk-item\"><div class=\"sk-estimator sk-toggleable\"><input class=\"sk-toggleable__control sk-hidden--visually\" id=\"sk-estimator-id-3\" type=\"checkbox\" ><label for=\"sk-estimator-id-3\" class=\"sk-toggleable__label sk-toggleable__label-arrow\">LGBMClassifier</label><div class=\"sk-toggleable__content\"><pre>LGBMClassifier(random_state=42)</pre></div></div></div></div></div></div></div></div></div></div>"
      ],
      "text/plain": [
       "GridSearchCV(cv=5, estimator=LGBMClassifier(random_state=42),\n",
       "             param_grid={'boosting_type': ['gbdt'], 'max_depth': [-1],\n",
       "                         'n_estimators': array([100, 200, 300, 400, 500, 600, 700, 800, 900]),\n",
       "                         'num_leaves': array([ 2,  5,  8, 11, 14, 17, 20, 23, 26, 29, 32, 35, 38, 41, 44, 47])},\n",
       "             scoring='accuracy', verbose=10)"
      ]
     },
     "execution_count": 168,
     "metadata": {},
     "output_type": "execute_result"
    }
   ],
   "source": [
    "grid_search_lgbm.fit(X_train, y_train)"
   ]
  },
  {
   "cell_type": "code",
   "execution_count": 169,
   "metadata": {},
   "outputs": [
    {
     "data": {
      "text/plain": [
       "0.8001169905197336"
      ]
     },
     "execution_count": 169,
     "metadata": {},
     "output_type": "execute_result"
    }
   ],
   "source": [
    "grid_search_lgbm.best_score_"
   ]
  },
  {
   "cell_type": "code",
   "execution_count": 170,
   "metadata": {},
   "outputs": [
    {
     "data": {
      "text/plain": [
       "{'boosting_type': 'gbdt',\n",
       " 'max_depth': -1,\n",
       " 'n_estimators': 100,\n",
       " 'num_leaves': 5}"
      ]
     },
     "execution_count": 170,
     "metadata": {},
     "output_type": "execute_result"
    }
   ],
   "source": [
    "grid_search_lgbm.best_params_"
   ]
  },
  {
   "cell_type": "code",
   "execution_count": 171,
   "metadata": {},
   "outputs": [],
   "source": [
    "lgbm_grid_search_cv = grid_search_lgbm.best_estimator_"
   ]
  },
  {
   "cell_type": "code",
   "execution_count": 172,
   "metadata": {},
   "outputs": [
    {
     "data": {
      "text/html": [
       "<div>\n",
       "<style scoped>\n",
       "    .dataframe tbody tr th:only-of-type {\n",
       "        vertical-align: middle;\n",
       "    }\n",
       "\n",
       "    .dataframe tbody tr th {\n",
       "        vertical-align: top;\n",
       "    }\n",
       "\n",
       "    .dataframe thead th {\n",
       "        text-align: right;\n",
       "    }\n",
       "</style>\n",
       "<table border=\"1\" class=\"dataframe\">\n",
       "  <thead>\n",
       "    <tr style=\"text-align: right;\">\n",
       "      <th></th>\n",
       "      <th>PassengerId</th>\n",
       "      <th>Transported</th>\n",
       "    </tr>\n",
       "  </thead>\n",
       "  <tbody>\n",
       "    <tr>\n",
       "      <th>0</th>\n",
       "      <td>0013_01</td>\n",
       "      <td>True</td>\n",
       "    </tr>\n",
       "    <tr>\n",
       "      <th>1</th>\n",
       "      <td>0018_01</td>\n",
       "      <td>False</td>\n",
       "    </tr>\n",
       "    <tr>\n",
       "      <th>2</th>\n",
       "      <td>0019_01</td>\n",
       "      <td>True</td>\n",
       "    </tr>\n",
       "    <tr>\n",
       "      <th>3</th>\n",
       "      <td>0021_01</td>\n",
       "      <td>True</td>\n",
       "    </tr>\n",
       "    <tr>\n",
       "      <th>4</th>\n",
       "      <td>0023_01</td>\n",
       "      <td>True</td>\n",
       "    </tr>\n",
       "    <tr>\n",
       "      <th>...</th>\n",
       "      <td>...</td>\n",
       "      <td>...</td>\n",
       "    </tr>\n",
       "    <tr>\n",
       "      <th>4272</th>\n",
       "      <td>9266_02</td>\n",
       "      <td>True</td>\n",
       "    </tr>\n",
       "    <tr>\n",
       "      <th>4273</th>\n",
       "      <td>9269_01</td>\n",
       "      <td>False</td>\n",
       "    </tr>\n",
       "    <tr>\n",
       "      <th>4274</th>\n",
       "      <td>9271_01</td>\n",
       "      <td>True</td>\n",
       "    </tr>\n",
       "    <tr>\n",
       "      <th>4275</th>\n",
       "      <td>9273_01</td>\n",
       "      <td>True</td>\n",
       "    </tr>\n",
       "    <tr>\n",
       "      <th>4276</th>\n",
       "      <td>9277_01</td>\n",
       "      <td>True</td>\n",
       "    </tr>\n",
       "  </tbody>\n",
       "</table>\n",
       "<p>4277 rows × 2 columns</p>\n",
       "</div>"
      ],
      "text/plain": [
       "     PassengerId  Transported\n",
       "0        0013_01         True\n",
       "1        0018_01        False\n",
       "2        0019_01         True\n",
       "3        0021_01         True\n",
       "4        0023_01         True\n",
       "...          ...          ...\n",
       "4272     9266_02         True\n",
       "4273     9269_01        False\n",
       "4274     9271_01         True\n",
       "4275     9273_01         True\n",
       "4276     9277_01         True\n",
       "\n",
       "[4277 rows x 2 columns]"
      ]
     },
     "execution_count": 172,
     "metadata": {},
     "output_type": "execute_result"
    }
   ],
   "source": [
    "predict_and_submit(lgbm_grid_search_cv, 'grid_search_lgbm_submission', X_test_preprocessed)"
   ]
  },
  {
   "attachments": {
    "image.png": {
     "image/png": "[encoded data removed]"
    }
   },
   "cell_type": "markdown",
   "metadata": {},
   "source": [
    "![image.png](attachment:image.png)"
   ]
  },
  {
   "attachments": {},
   "cell_type": "markdown",
   "metadata": {},
   "source": [
    "## Let's try with ANN"
   ]
  },
  {
   "cell_type": "code",
   "execution_count": 173,
   "metadata": {},
   "outputs": [],
   "source": [
    "import tensorflow as tf\n",
    "import tensorflow.keras as keras\n",
    "import tensorflow.keras.layers as layers\n",
    "import keras_tuner as kt"
   ]
  },
  {
   "cell_type": "code",
   "execution_count": 174,
   "metadata": {},
   "outputs": [],
   "source": [
    "tf.random.set_seed(42)\n",
    "tf.keras.backend.clear_session()\n",
    "\n",
    "\n",
    "def build_model(hp):\n",
    "    n_hidden = hp.Int('n_hidden', min_value=0, max_value=8, default=2)\n",
    "    n_neurons = hp.Int('n_neurons', min_value=4, max_value=512)\n",
    "    learning_rate = hp.Float('learning_rate', min_value=1e-5, max_value=1e-1, sampling='log')\n",
    "\n",
    "    optimizer = keras.optimizers.SGD(learning_rate=learning_rate)\n",
    "\n",
    "    model = keras.Sequential()\n",
    "    for _ in range(n_hidden):\n",
    "        model.add(layers.Dense(\n",
    "            n_neurons, kernel_initializer=\"he_normal\",\n",
    "            activation='relu'))\n",
    "\n",
    "    model.add(layers.Dense(1, activation='sigmoid'))\n",
    "    model.compile(loss='binary_crossentropy', optimizer=optimizer, metrics=['accuracy'])\n",
    "    return model"
   ]
  },
  {
   "cell_type": "code",
   "execution_count": 175,
   "metadata": {},
   "outputs": [],
   "source": [
    "random_search_tuner = kt.RandomSearch(\n",
    "    build_model,\n",
    "    objective=\"accuracy\",\n",
    "    max_trials=30,\n",
    "    overwrite=True,\n",
    "    directory=\"RandomSearch\",\n",
    "    project_name=\"my_rnd_search\",\n",
    "    seed=42\n",
    ")"
   ]
  },
  {
   "cell_type": "code",
   "execution_count": 176,
   "metadata": {},
   "outputs": [
    {
     "name": "stdout",
     "output_type": "stream",
     "text": [
      "Trial 30 Complete [00h 00m 18s]\n",
      "accuracy: 0.7450388073921204\n",
      "\n",
      "Best accuracy So Far: 0.9068162441253662\n",
      "Total elapsed time: 00h 08m 04s\n",
      "INFO:tensorflow:Oracle triggered exit\n"
     ]
    }
   ],
   "source": [
    "random_search_tuner.search(X_train, y_train, epochs=30,\n",
    "                           validation_data=(X_valid, y_valid))"
   ]
  },
  {
   "cell_type": "code",
   "execution_count": 177,
   "metadata": {},
   "outputs": [
    {
     "name": "stdout",
     "output_type": "stream",
     "text": [
      "WARNING:tensorflow:Detecting that an object or model or tf.train.Checkpoint is being deleted with unrestored values. See the following logs for the specific values in question. To silence these warnings, use `status.expect_partial()`. See https://www.tensorflow.org/api_docs/python/tf/train/Checkpoint#restorefor details about the status object returned by the restore function.\n",
      "WARNING:tensorflow:Value in checkpoint could not be found in the restored object: (root).layer_with_weights-0.kernel\n",
      "WARNING:tensorflow:Value in checkpoint could not be found in the restored object: (root).layer_with_weights-0.bias\n",
      "WARNING:tensorflow:Value in checkpoint could not be found in the restored object: (root).layer_with_weights-1.kernel\n",
      "WARNING:tensorflow:Value in checkpoint could not be found in the restored object: (root).layer_with_weights-1.bias\n",
      "WARNING:tensorflow:Value in checkpoint could not be found in the restored object: (root).layer_with_weights-2.kernel\n",
      "WARNING:tensorflow:Value in checkpoint could not be found in the restored object: (root).layer_with_weights-2.bias\n",
      "WARNING:tensorflow:Value in checkpoint could not be found in the restored object: (root).layer_with_weights-3.kernel\n",
      "WARNING:tensorflow:Value in checkpoint could not be found in the restored object: (root).layer_with_weights-3.bias\n",
      "WARNING:tensorflow:Value in checkpoint could not be found in the restored object: (root).layer_with_weights-4.kernel\n",
      "WARNING:tensorflow:Value in checkpoint could not be found in the restored object: (root).layer_with_weights-4.bias\n",
      "WARNING:tensorflow:Value in checkpoint could not be found in the restored object: (root).layer_with_weights-5.kernel\n",
      "WARNING:tensorflow:Value in checkpoint could not be found in the restored object: (root).layer_with_weights-5.bias\n",
      "WARNING:tensorflow:Value in checkpoint could not be found in the restored object: (root).optimizer._variables.1\n",
      "WARNING:tensorflow:Value in checkpoint could not be found in the restored object: (root).optimizer._variables.2\n",
      "WARNING:tensorflow:Value in checkpoint could not be found in the restored object: (root).optimizer._variables.3\n",
      "WARNING:tensorflow:Value in checkpoint could not be found in the restored object: (root).optimizer._variables.4\n",
      "WARNING:tensorflow:Value in checkpoint could not be found in the restored object: (root).optimizer._variables.5\n",
      "WARNING:tensorflow:Value in checkpoint could not be found in the restored object: (root).optimizer._variables.6\n",
      "WARNING:tensorflow:Value in checkpoint could not be found in the restored object: (root).optimizer._variables.7\n",
      "WARNING:tensorflow:Value in checkpoint could not be found in the restored object: (root).optimizer._variables.8\n",
      "WARNING:tensorflow:Value in checkpoint could not be found in the restored object: (root).optimizer._variables.9\n",
      "WARNING:tensorflow:Value in checkpoint could not be found in the restored object: (root).optimizer._variables.10\n",
      "WARNING:tensorflow:Value in checkpoint could not be found in the restored object: (root).optimizer._variables.11\n",
      "WARNING:tensorflow:Value in checkpoint could not be found in the restored object: (root).optimizer._variables.12\n",
      "WARNING:tensorflow:Detecting that an object or model or tf.train.Checkpoint is being deleted with unrestored values. See the following logs for the specific values in question. To silence these warnings, use `status.expect_partial()`. See https://www.tensorflow.org/api_docs/python/tf/train/Checkpoint#restorefor details about the status object returned by the restore function.\n",
      "WARNING:tensorflow:Value in checkpoint could not be found in the restored object: (root).layer_with_weights-0.kernel\n",
      "WARNING:tensorflow:Value in checkpoint could not be found in the restored object: (root).layer_with_weights-0.bias\n",
      "WARNING:tensorflow:Value in checkpoint could not be found in the restored object: (root).layer_with_weights-1.kernel\n",
      "WARNING:tensorflow:Value in checkpoint could not be found in the restored object: (root).layer_with_weights-1.bias\n",
      "WARNING:tensorflow:Value in checkpoint could not be found in the restored object: (root).layer_with_weights-2.kernel\n",
      "WARNING:tensorflow:Value in checkpoint could not be found in the restored object: (root).layer_with_weights-2.bias\n",
      "WARNING:tensorflow:Value in checkpoint could not be found in the restored object: (root).layer_with_weights-3.kernel\n",
      "WARNING:tensorflow:Value in checkpoint could not be found in the restored object: (root).layer_with_weights-3.bias\n",
      "WARNING:tensorflow:Value in checkpoint could not be found in the restored object: (root).layer_with_weights-4.kernel\n",
      "WARNING:tensorflow:Value in checkpoint could not be found in the restored object: (root).layer_with_weights-4.bias\n",
      "WARNING:tensorflow:Value in checkpoint could not be found in the restored object: (root).optimizer._variables.1\n",
      "WARNING:tensorflow:Value in checkpoint could not be found in the restored object: (root).optimizer._variables.2\n",
      "WARNING:tensorflow:Value in checkpoint could not be found in the restored object: (root).optimizer._variables.3\n",
      "WARNING:tensorflow:Value in checkpoint could not be found in the restored object: (root).optimizer._variables.4\n",
      "WARNING:tensorflow:Value in checkpoint could not be found in the restored object: (root).optimizer._variables.5\n",
      "WARNING:tensorflow:Value in checkpoint could not be found in the restored object: (root).optimizer._variables.6\n",
      "WARNING:tensorflow:Value in checkpoint could not be found in the restored object: (root).optimizer._variables.7\n",
      "WARNING:tensorflow:Value in checkpoint could not be found in the restored object: (root).optimizer._variables.8\n",
      "WARNING:tensorflow:Value in checkpoint could not be found in the restored object: (root).optimizer._variables.9\n",
      "WARNING:tensorflow:Value in checkpoint could not be found in the restored object: (root).optimizer._variables.10\n"
     ]
    }
   ],
   "source": [
    "top3_models = random_search_tuner.get_best_models(num_models=3)\n",
    "best_model = top3_models[0]"
   ]
  },
  {
   "cell_type": "code",
   "execution_count": 178,
   "metadata": {},
   "outputs": [
    {
     "name": "stdout",
     "output_type": "stream",
     "text": [
      "55/55 [==============================] - 0s 1ms/step - loss: 0.6342 - accuracy: 0.7826\n"
     ]
    },
    {
     "data": {
      "text/plain": [
       "[0.6342213153839111, 0.7826337218284607]"
      ]
     },
     "execution_count": 178,
     "metadata": {},
     "output_type": "execute_result"
    }
   ],
   "source": [
    "best_model.evaluate(X_valid, y_valid)  # [0.5498157739639282, 0.7809085845947266]"
   ]
  },
  {
   "cell_type": "code",
   "execution_count": 179,
   "metadata": {},
   "outputs": [
    {
     "name": "stdout",
     "output_type": "stream",
     "text": [
      "55/55 [==============================] - 0s 771us/step\n"
     ]
    }
   ],
   "source": [
    "preds = best_model.predict(X_valid)\n",
    "preds[preds <= 0.5] = 0\n",
    "preds[preds > 0] = 1"
   ]
  },
  {
   "cell_type": "code",
   "execution_count": 180,
   "metadata": {},
   "outputs": [
    {
     "data": {
      "text/plain": [
       "array([[0.],\n",
       "       [1.],\n",
       "       [1.],\n",
       "       ...,\n",
       "       [0.],\n",
       "       [1.],\n",
       "       [0.]], dtype=float32)"
      ]
     },
     "execution_count": 180,
     "metadata": {},
     "output_type": "execute_result"
    }
   ],
   "source": [
    "preds"
   ]
  },
  {
   "cell_type": "code",
   "execution_count": 181,
   "metadata": {},
   "outputs": [
    {
     "data": {
      "text/plain": [
       "{'n_hidden': 7, 'n_neurons': 282, 'learning_rate': 0.010981101687758642}"
      ]
     },
     "execution_count": 181,
     "metadata": {},
     "output_type": "execute_result"
    }
   ],
   "source": [
    "top3_params = random_search_tuner.get_best_hyperparameters(num_trials=3)\n",
    "top3_params[0].values  # best hyperparameter values\n",
    "#{'n_hidden': 7, 'n_neurons': 282, 'learning_rate': 0.010981101687758642}"
   ]
  },
  {
   "cell_type": "code",
   "execution_count": 182,
   "metadata": {},
   "outputs": [
    {
     "name": "stdout",
     "output_type": "stream",
     "text": [
      "Trial summary\n",
      "Hyperparameters:\n",
      "n_hidden: 7\n",
      "n_neurons: 282\n",
      "learning_rate: 0.010981101687758642\n",
      "Score: 0.9068162441253662\n"
     ]
    }
   ],
   "source": [
    "best_trial = random_search_tuner.oracle.get_best_trials(num_trials=1)[0]\n",
    "best_trial.summary()"
   ]
  },
  {
   "cell_type": "code",
   "execution_count": 184,
   "metadata": {},
   "outputs": [
    {
     "data": {
      "text/plain": [
       "0.9068162441253662"
      ]
     },
     "execution_count": 184,
     "metadata": {},
     "output_type": "execute_result"
    }
   ],
   "source": [
    "best_trial.metrics.get_last_value(\"accuracy\")"
   ]
  },
  {
   "cell_type": "code",
   "execution_count": null,
   "metadata": {},
   "outputs": [],
   "source": [
    "0.7826337218284607"
   ]
  },
  {
   "cell_type": "code",
   "execution_count": 200,
   "metadata": {},
   "outputs": [],
   "source": [
    "import numpy as np\n",
    "\n",
    "\n",
    "def predict_and_submit_ann(model, fname, test_df):\n",
    "    test_preds = model.predict(test_df)\n",
    "    test_preds[test_preds <= 0.5] = 0\n",
    "    test_preds[test_preds > 0] = 1\n",
    "\n",
    "    # replace 0, 1 to True and False\n",
    "    preds = np.where(test_preds == 1, 'True', 'False')\n",
    "    sub_df = pd.read_csv(data_dir + '/sample_submission.csv')\n",
    "\n",
    "    sub_df['Transported'] = preds\n",
    "    sub_df.to_csv(f'{fname}.csv', index=None)\n",
    "    return sub_df"
   ]
  },
  {
   "cell_type": "code",
   "execution_count": 201,
   "metadata": {},
   "outputs": [
    {
     "name": "stdout",
     "output_type": "stream",
     "text": [
      "134/134 [==============================] - 0s 738us/step\n"
     ]
    },
    {
     "data": {
      "text/html": [
       "<div>\n",
       "<style scoped>\n",
       "    .dataframe tbody tr th:only-of-type {\n",
       "        vertical-align: middle;\n",
       "    }\n",
       "\n",
       "    .dataframe tbody tr th {\n",
       "        vertical-align: top;\n",
       "    }\n",
       "\n",
       "    .dataframe thead th {\n",
       "        text-align: right;\n",
       "    }\n",
       "</style>\n",
       "<table border=\"1\" class=\"dataframe\">\n",
       "  <thead>\n",
       "    <tr style=\"text-align: right;\">\n",
       "      <th></th>\n",
       "      <th>PassengerId</th>\n",
       "      <th>Transported</th>\n",
       "    </tr>\n",
       "  </thead>\n",
       "  <tbody>\n",
       "    <tr>\n",
       "      <th>0</th>\n",
       "      <td>0013_01</td>\n",
       "      <td>True</td>\n",
       "    </tr>\n",
       "    <tr>\n",
       "      <th>1</th>\n",
       "      <td>0018_01</td>\n",
       "      <td>False</td>\n",
       "    </tr>\n",
       "    <tr>\n",
       "      <th>2</th>\n",
       "      <td>0019_01</td>\n",
       "      <td>True</td>\n",
       "    </tr>\n",
       "    <tr>\n",
       "      <th>3</th>\n",
       "      <td>0021_01</td>\n",
       "      <td>True</td>\n",
       "    </tr>\n",
       "    <tr>\n",
       "      <th>4</th>\n",
       "      <td>0023_01</td>\n",
       "      <td>True</td>\n",
       "    </tr>\n",
       "    <tr>\n",
       "      <th>...</th>\n",
       "      <td>...</td>\n",
       "      <td>...</td>\n",
       "    </tr>\n",
       "    <tr>\n",
       "      <th>4272</th>\n",
       "      <td>9266_02</td>\n",
       "      <td>True</td>\n",
       "    </tr>\n",
       "    <tr>\n",
       "      <th>4273</th>\n",
       "      <td>9269_01</td>\n",
       "      <td>False</td>\n",
       "    </tr>\n",
       "    <tr>\n",
       "      <th>4274</th>\n",
       "      <td>9271_01</td>\n",
       "      <td>True</td>\n",
       "    </tr>\n",
       "    <tr>\n",
       "      <th>4275</th>\n",
       "      <td>9273_01</td>\n",
       "      <td>True</td>\n",
       "    </tr>\n",
       "    <tr>\n",
       "      <th>4276</th>\n",
       "      <td>9277_01</td>\n",
       "      <td>True</td>\n",
       "    </tr>\n",
       "  </tbody>\n",
       "</table>\n",
       "<p>4277 rows × 2 columns</p>\n",
       "</div>"
      ],
      "text/plain": [
       "     PassengerId Transported\n",
       "0        0013_01        True\n",
       "1        0018_01       False\n",
       "2        0019_01        True\n",
       "3        0021_01        True\n",
       "4        0023_01        True\n",
       "...          ...         ...\n",
       "4272     9266_02        True\n",
       "4273     9269_01       False\n",
       "4274     9271_01        True\n",
       "4275     9273_01        True\n",
       "4276     9277_01        True\n",
       "\n",
       "[4277 rows x 2 columns]"
      ]
     },
     "execution_count": 201,
     "metadata": {},
     "output_type": "execute_result"
    }
   ],
   "source": [
    "predict_and_submit_ann(best_model, 'random_search_tuner_ann_submission', X_test_preprocessed)"
   ]
  },
  {
   "attachments": {
    "image.png": {
     "image/png": "[encoded data removed]"
    }
   },
   "cell_type": "markdown",
   "metadata": {},
   "source": [
    "![image.png](attachment:image.png)"
   ]
  },
  {
   "attachments": {},
   "cell_type": "markdown",
   "metadata": {},
   "source": [
    "ANN is not performing better than classic ML algorithms"
   ]
  },
  {
   "cell_type": "code",
   "execution_count": null,
   "metadata": {},
   "outputs": [],
   "source": []
  },
  {
   "cell_type": "code",
   "execution_count": null,
   "metadata": {},
   "outputs": [],
   "source": []
  },
  {
   "cell_type": "code",
   "execution_count": null,
   "metadata": {},
   "outputs": [],
   "source": []
  },
  {
   "attachments": {},
   "cell_type": "markdown",
   "metadata": {},
   "source": [
    "## Reference"
   ]
  },
  {
   "attachments": {},
   "cell_type": "markdown",
   "metadata": {},
   "source": [
    "* https://www.kaggle.com/code/samuelcortinhas/spaceship-titanic-a-complete-guide\n",
    "* https://www.kaggle.com/code/odins0n/spaceship-titanic-eda-27-different-models"
   ]
  }
 ],
 "metadata": {
  "kernelspec": {
   "display_name": "Python 3",
   "language": "python",
   "name": "python3"
  },
  "language_info": {
   "codemirror_mode": {
    "name": "ipython",
    "version": 3
   },
   "file_extension": ".py",
   "mimetype": "text/x-python",
   "name": "python",
   "nbconvert_exporter": "python",
   "pygments_lexer": "ipython3",
   "version": "3.8.10"
  },
  "vscode": {
   "interpreter": {
    "hash": "31f2aee4e71d21fbe5cf8b01ff0e069b9275f58929596ceb00d14d90e3e16cd6"
   }
  }
 },
 "nbformat": 4,
 "nbformat_minor": 0
}
